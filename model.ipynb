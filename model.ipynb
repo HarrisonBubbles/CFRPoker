{
 "cells": [
  {
   "cell_type": "code",
   "execution_count": 2,
   "id": "8b68a851-9ebf-4439-83d9-15c003878c25",
   "metadata": {},
   "outputs": [],
   "source": [
    "from src.deck import Deck\n",
    "from src.game import PokerGame\n",
    "from src.player import Player, PlayerAction, RandomPlayer, HumanPlayer\n",
    "from src.cfr import KuhnCFR\n",
    "from treys import Card\n",
    "from treys import Evaluator\n",
    "from src.game_v2 import SimpleGame\n",
    "from src.mccfr import MCCFR"
   ]
  },
  {
   "cell_type": "code",
   "execution_count": 242,
   "id": "439cf072-9479-4fa9-9367-c3c080d7bbd6",
   "metadata": {},
   "outputs": [
    {
     "name": "stdout",
     "output_type": "stream",
     "text": [
      " [A\u001b[31m♥\u001b[0m],[K♠],[Q\u001b[32m♣\u001b[0m],[J\u001b[34m♦\u001b[0m],[4\u001b[31m♥\u001b[0m],[2♠],[3♠] \n"
     ]
    }
   ],
   "source": [
    "evaluator = Evaluator()\n",
    "board = [Card.new('Ah'), Card.new('Ks'), Card.new('Qc'), Card.new('Jd'), Card.new('4h')]\n",
    "hand1 = [Card.new('2s'), Card.new('3s')]\n",
    "hand2 = [Card.new('2c'), Card.new('9c')]\n",
    "Card.print_pretty_cards(board + hand1)"
   ]
  },
  {
   "cell_type": "code",
   "execution_count": 244,
   "id": "69e1d3bb-0aad-48a1-83f5-91ef9175a53a",
   "metadata": {},
   "outputs": [
    {
     "name": "stdout",
     "output_type": "stream",
     "text": [
      "6191\n",
      "6186\n",
      "High Card\n"
     ]
    }
   ],
   "source": [
    "p1_score = evaluator.evaluate(board, hand1)\n",
    "p2_score = evaluator.evaluate(board, hand2)\n",
    "p1_class = evaluator.get_rank_class(p1_score)\n",
    "print(p1_score)\n",
    "print(p2_score)\n",
    "print(evaluator.class_to_string(p1_class))"
   ]
  },
  {
   "cell_type": "code",
   "execution_count": 8,
   "id": "d791c1b8-d74e-411f-aec3-aefa4b365496",
   "metadata": {},
   "outputs": [],
   "source": [
    "deck = Deck(seed=52)\n",
    "deck.shuffle()"
   ]
  },
  {
   "cell_type": "code",
   "execution_count": 10,
   "id": "cb8a363b-82d5-4d3d-8bd0-43437d7ae183",
   "metadata": {},
   "outputs": [
    {
     "name": "stdout",
     "output_type": "stream",
     "text": [
      " [J\u001b[32m♣\u001b[0m],[Q\u001b[31m♥\u001b[0m],[T\u001b[31m♥\u001b[0m],[8\u001b[31m♥\u001b[0m],[6\u001b[32m♣\u001b[0m],[4\u001b[31m♥\u001b[0m],[A♠],[3♠],[6♠],[Q\u001b[34m♦\u001b[0m],[5\u001b[34m♦\u001b[0m],[3\u001b[34m♦\u001b[0m],[7\u001b[31m♥\u001b[0m],[A\u001b[32m♣\u001b[0m],[T\u001b[32m♣\u001b[0m],[Q♠],[6\u001b[34m♦\u001b[0m],[K\u001b[32m♣\u001b[0m],[5♠],[2\u001b[31m♥\u001b[0m],[A\u001b[34m♦\u001b[0m],[5\u001b[31m♥\u001b[0m],[A\u001b[31m♥\u001b[0m],[8\u001b[32m♣\u001b[0m],[Q\u001b[32m♣\u001b[0m],[7♠],[3\u001b[32m♣\u001b[0m],[9\u001b[32m♣\u001b[0m],[9\u001b[31m♥\u001b[0m],[3\u001b[31m♥\u001b[0m],[J♠],[5\u001b[32m♣\u001b[0m],[J\u001b[31m♥\u001b[0m],[J\u001b[34m♦\u001b[0m],[8♠],[T\u001b[34m♦\u001b[0m],[K♠],[2♠],[9♠],[7\u001b[34m♦\u001b[0m],[4\u001b[32m♣\u001b[0m],[K\u001b[31m♥\u001b[0m],[4\u001b[34m♦\u001b[0m],[4♠],[2\u001b[34m♦\u001b[0m],[8\u001b[34m♦\u001b[0m],[7\u001b[32m♣\u001b[0m],[9\u001b[34m♦\u001b[0m],[T♠],[K\u001b[34m♦\u001b[0m],[2\u001b[32m♣\u001b[0m],[6\u001b[31m♥\u001b[0m] \n"
     ]
    }
   ],
   "source": [
    "print(deck)"
   ]
  },
  {
   "cell_type": "code",
   "execution_count": 12,
   "id": "0d84a5e7-0c6a-4eb8-bf59-7028b5b12f7b",
   "metadata": {},
   "outputs": [],
   "source": [
    "board = deck.draw(5)\n",
    "p1 = deck.draw(2)\n",
    "p2 = deck.draw(2)"
   ]
  },
  {
   "cell_type": "code",
   "execution_count": 20,
   "id": "8ef271cb-6bf1-4538-b233-dd131f347839",
   "metadata": {},
   "outputs": [
    {
     "data": {
      "text/plain": [
       "[98306, 1057803, 8406803, 16783383, 134236965]"
      ]
     },
     "execution_count": 20,
     "metadata": {},
     "output_type": "execute_result"
    }
   ],
   "source": [
    "sorted(board)"
   ]
  },
  {
   "cell_type": "code",
   "execution_count": 4,
   "id": "1b1d5ff9-b1f4-4de9-a15f-09a2a7f63ffd",
   "metadata": {},
   "outputs": [
    {
     "name": "stdout",
     "output_type": "stream",
     "text": [
      "\n",
      "==================================================\n",
      "New Round starting. Player 1: $10 | Player 2: $10\n",
      "==================================================\n",
      "Pot: 0\n",
      "Community cards:  \n",
      "\n",
      "Player 1 Hand:  [3\u001b[34m♦\u001b[0m],[2\u001b[34m♦\u001b[0m] \n",
      "Player 2 Hand:  [K\u001b[31m♥\u001b[0m],[3♠] \n",
      "\n",
      "A posts: $1\n",
      "B posts: $1\n",
      "A available actions: FOLD, CHECK, RAISE\n"
     ]
    },
    {
     "name": "stdin",
     "output_type": "stream",
     "text": [
      "Your action:  raise\n"
     ]
    },
    {
     "name": "stdout",
     "output_type": "stream",
     "text": [
      "A raises by $1 to $2.\n",
      "B available actions: FOLD, CALL\n"
     ]
    },
    {
     "name": "stdin",
     "output_type": "stream",
     "text": [
      "Your action:  call\n"
     ]
    },
    {
     "name": "stdout",
     "output_type": "stream",
     "text": [
      "B calls $1.\n",
      "\n",
      "==================================================\n",
      "Flop starting. Player 1: $8 | Player 2: $8\n",
      "==================================================\n",
      "Pot: 4\n",
      "Community cards:  [J\u001b[31m♥\u001b[0m],[9\u001b[31m♥\u001b[0m],[5\u001b[31m♥\u001b[0m] \n",
      "\n",
      "Player 1 Hand:  [3\u001b[34m♦\u001b[0m],[2\u001b[34m♦\u001b[0m] \n",
      "Player 2 Hand:  [K\u001b[31m♥\u001b[0m],[3♠] \n",
      "A available actions: FOLD, CHECK, RAISE\n"
     ]
    },
    {
     "name": "stdin",
     "output_type": "stream",
     "text": [
      "Your action:  check\n"
     ]
    },
    {
     "name": "stdout",
     "output_type": "stream",
     "text": [
      "A checks.\n",
      "B available actions: FOLD, CHECK, RAISE\n"
     ]
    },
    {
     "name": "stdin",
     "output_type": "stream",
     "text": [
      "Your action:  raise\n"
     ]
    },
    {
     "name": "stdout",
     "output_type": "stream",
     "text": [
      "B raises by $1 to $3.\n",
      "A available actions: FOLD, CALL\n"
     ]
    },
    {
     "name": "stdin",
     "output_type": "stream",
     "text": [
      "Your action:  call\n"
     ]
    },
    {
     "name": "stdout",
     "output_type": "stream",
     "text": [
      "A calls $1.\n",
      "\n",
      "==================================================\n",
      "Turn starting. Player 1: $7 | Player 2: $7\n",
      "==================================================\n",
      "Pot: 6\n",
      "Community cards:  [J\u001b[31m♥\u001b[0m],[9\u001b[31m♥\u001b[0m],[5\u001b[31m♥\u001b[0m],[6\u001b[34m♦\u001b[0m] \n",
      "\n",
      "Player 1 Hand:  [3\u001b[34m♦\u001b[0m],[2\u001b[34m♦\u001b[0m] \n",
      "Player 2 Hand:  [K\u001b[31m♥\u001b[0m],[3♠] \n",
      "A available actions: FOLD, CHECK, RAISE\n"
     ]
    },
    {
     "name": "stdin",
     "output_type": "stream",
     "text": [
      "Your action:  raise\n"
     ]
    },
    {
     "name": "stdout",
     "output_type": "stream",
     "text": [
      "A raises by $1 to $4.\n",
      "B available actions: FOLD, CALL\n"
     ]
    },
    {
     "name": "stdin",
     "output_type": "stream",
     "text": [
      "Your action:  call\n"
     ]
    },
    {
     "name": "stdout",
     "output_type": "stream",
     "text": [
      "B calls $1.\n",
      "\n",
      "==================================================\n",
      "River starting. Player 1: $6 | Player 2: $6\n",
      "==================================================\n",
      "Pot: 8\n",
      "Community cards:  [J\u001b[31m♥\u001b[0m],[9\u001b[31m♥\u001b[0m],[5\u001b[31m♥\u001b[0m],[6\u001b[34m♦\u001b[0m],[9\u001b[32m♣\u001b[0m] \n",
      "\n",
      "Player 1 Hand:  [3\u001b[34m♦\u001b[0m],[2\u001b[34m♦\u001b[0m] \n",
      "Player 2 Hand:  [K\u001b[31m♥\u001b[0m],[3♠] \n",
      "A available actions: FOLD, CHECK, RAISE\n"
     ]
    },
    {
     "name": "stdin",
     "output_type": "stream",
     "text": [
      "Your action:  check\n"
     ]
    },
    {
     "name": "stdout",
     "output_type": "stream",
     "text": [
      "A checks.\n",
      "B available actions: FOLD, CHECK, RAISE\n"
     ]
    },
    {
     "name": "stdin",
     "output_type": "stream",
     "text": [
      "Your action:  check\n"
     ]
    },
    {
     "name": "stdout",
     "output_type": "stream",
     "text": [
      "B checks.\n",
      "\n",
      "==================================================\n",
      "Showdown starting. Player 1: $6 | Player 2: $6\n",
      "==================================================\n",
      "\n",
      "B wins $8 with a Pair!\n"
     ]
    },
    {
     "name": "stdin",
     "output_type": "stream",
     "text": [
      "\n",
      "Continue playing? (y/n):  y\n"
     ]
    },
    {
     "name": "stdout",
     "output_type": "stream",
     "text": [
      "\n",
      "==================================================\n",
      "New Round starting. Player 1: $6 | Player 2: $14\n",
      "==================================================\n",
      "Pot: 0\n",
      "Community cards:  \n",
      "\n",
      "Player 1 Hand:  [T\u001b[34m♦\u001b[0m],[T♠] \n",
      "Player 2 Hand:  [K\u001b[32m♣\u001b[0m],[9\u001b[32m♣\u001b[0m] \n",
      "\n",
      "B posts: $1\n",
      "A posts: $1\n",
      "B available actions: FOLD, CHECK, RAISE\n"
     ]
    },
    {
     "name": "stdin",
     "output_type": "stream",
     "text": [
      "Your action:  raise\n"
     ]
    },
    {
     "name": "stdout",
     "output_type": "stream",
     "text": [
      "B raises by $1 to $2.\n",
      "A available actions: FOLD, CALL\n"
     ]
    },
    {
     "name": "stdin",
     "output_type": "stream",
     "text": [
      "Your action:  call\n"
     ]
    },
    {
     "name": "stdout",
     "output_type": "stream",
     "text": [
      "A calls $1.\n",
      "\n",
      "==================================================\n",
      "Flop starting. Player 1: $4 | Player 2: $12\n",
      "==================================================\n",
      "Pot: 4\n",
      "Community cards:  [J♠],[8\u001b[31m♥\u001b[0m],[6\u001b[31m♥\u001b[0m] \n",
      "\n",
      "Player 1 Hand:  [T\u001b[34m♦\u001b[0m],[T♠] \n",
      "Player 2 Hand:  [K\u001b[32m♣\u001b[0m],[9\u001b[32m♣\u001b[0m] \n",
      "B available actions: FOLD, CHECK, RAISE\n"
     ]
    },
    {
     "name": "stdin",
     "output_type": "stream",
     "text": [
      "Your action:  check\n"
     ]
    },
    {
     "name": "stdout",
     "output_type": "stream",
     "text": [
      "B checks.\n",
      "A available actions: FOLD, CHECK, RAISE\n"
     ]
    },
    {
     "name": "stdin",
     "output_type": "stream",
     "text": [
      "Your action:  raise\n"
     ]
    },
    {
     "name": "stdout",
     "output_type": "stream",
     "text": [
      "A raises by $1 to $3.\n",
      "B available actions: FOLD, CALL\n"
     ]
    },
    {
     "name": "stdin",
     "output_type": "stream",
     "text": [
      "Your action:  call\n"
     ]
    },
    {
     "name": "stdout",
     "output_type": "stream",
     "text": [
      "B calls $1.\n",
      "\n",
      "==================================================\n",
      "Turn starting. Player 1: $3 | Player 2: $11\n",
      "==================================================\n",
      "Pot: 6\n",
      "Community cards:  [J♠],[8\u001b[31m♥\u001b[0m],[6\u001b[31m♥\u001b[0m],[J\u001b[32m♣\u001b[0m] \n",
      "\n",
      "Player 1 Hand:  [T\u001b[34m♦\u001b[0m],[T♠] \n",
      "Player 2 Hand:  [K\u001b[32m♣\u001b[0m],[9\u001b[32m♣\u001b[0m] \n",
      "B available actions: FOLD, CHECK, RAISE\n"
     ]
    },
    {
     "name": "stdin",
     "output_type": "stream",
     "text": [
      "Your action:  check\n"
     ]
    },
    {
     "name": "stdout",
     "output_type": "stream",
     "text": [
      "B checks.\n",
      "A available actions: FOLD, CHECK, RAISE\n"
     ]
    },
    {
     "name": "stdin",
     "output_type": "stream",
     "text": [
      "Your action:  raise\n"
     ]
    },
    {
     "name": "stdout",
     "output_type": "stream",
     "text": [
      "A raises by $1 to $4.\n",
      "B available actions: FOLD, CALL\n"
     ]
    },
    {
     "name": "stdin",
     "output_type": "stream",
     "text": [
      "Your action:  call\n"
     ]
    },
    {
     "name": "stdout",
     "output_type": "stream",
     "text": [
      "B calls $1.\n",
      "\n",
      "==================================================\n",
      "River starting. Player 1: $2 | Player 2: $10\n",
      "==================================================\n",
      "Pot: 8\n",
      "Community cards:  [J♠],[8\u001b[31m♥\u001b[0m],[6\u001b[31m♥\u001b[0m],[J\u001b[32m♣\u001b[0m],[5\u001b[34m♦\u001b[0m] \n",
      "\n",
      "Player 1 Hand:  [T\u001b[34m♦\u001b[0m],[T♠] \n",
      "Player 2 Hand:  [K\u001b[32m♣\u001b[0m],[9\u001b[32m♣\u001b[0m] \n",
      "B available actions: FOLD, CHECK, RAISE\n"
     ]
    },
    {
     "name": "stdin",
     "output_type": "stream",
     "text": [
      "Your action:  check\n"
     ]
    },
    {
     "name": "stdout",
     "output_type": "stream",
     "text": [
      "B checks.\n",
      "A available actions: FOLD, CHECK, RAISE\n"
     ]
    },
    {
     "name": "stdin",
     "output_type": "stream",
     "text": [
      "Your action:  check\n"
     ]
    },
    {
     "name": "stdout",
     "output_type": "stream",
     "text": [
      "A checks.\n",
      "\n",
      "==================================================\n",
      "Showdown starting. Player 1: $2 | Player 2: $10\n",
      "==================================================\n",
      "\n",
      "A wins $8 with a Two Pair!\n"
     ]
    },
    {
     "name": "stdin",
     "output_type": "stream",
     "text": [
      "\n",
      "Continue playing? (y/n):  y\n"
     ]
    },
    {
     "name": "stdout",
     "output_type": "stream",
     "text": [
      "\n",
      "==================================================\n",
      "New Round starting. Player 1: $10 | Player 2: $10\n",
      "==================================================\n",
      "Pot: 0\n",
      "Community cards:  \n",
      "\n",
      "Player 1 Hand:  [3♠],[9\u001b[32m♣\u001b[0m] \n",
      "Player 2 Hand:  [3\u001b[31m♥\u001b[0m],[9\u001b[34m♦\u001b[0m] \n",
      "\n",
      "A posts: $1\n",
      "B posts: $1\n",
      "A available actions: FOLD, CHECK, RAISE\n"
     ]
    },
    {
     "ename": "KeyboardInterrupt",
     "evalue": "Interrupted by user",
     "output_type": "error",
     "traceback": [
      "\u001b[0;31m---------------------------------------------------------------------------\u001b[0m",
      "\u001b[0;31mKeyboardInterrupt\u001b[0m                         Traceback (most recent call last)",
      "Cell \u001b[0;32mIn[4], line 4\u001b[0m\n\u001b[1;32m      2\u001b[0m player2 \u001b[38;5;241m=\u001b[39m HumanPlayer(\u001b[38;5;124m\"\u001b[39m\u001b[38;5;124mB\u001b[39m\u001b[38;5;124m\"\u001b[39m)\n\u001b[1;32m      3\u001b[0m game \u001b[38;5;241m=\u001b[39m PokerGame(player1, player2)\n\u001b[0;32m----> 4\u001b[0m game\u001b[38;5;241m.\u001b[39mplay_game()\n",
      "File \u001b[0;32m~/Documents/DevStuff/CFRPoker/src/game.py:228\u001b[0m, in \u001b[0;36mPokerGame.play_game\u001b[0;34m(self)\u001b[0m\n\u001b[1;32m    226\u001b[0m \u001b[38;5;28;01mdef\u001b[39;00m \u001b[38;5;21mplay_game\u001b[39m(\u001b[38;5;28mself\u001b[39m):\n\u001b[1;32m    227\u001b[0m     \u001b[38;5;28;01mwhile\u001b[39;00m \u001b[38;5;28mself\u001b[39m\u001b[38;5;241m.\u001b[39mplayer1\u001b[38;5;241m.\u001b[39mchips \u001b[38;5;241m>\u001b[39m \u001b[38;5;241m0\u001b[39m \u001b[38;5;129;01mand\u001b[39;00m \u001b[38;5;28mself\u001b[39m\u001b[38;5;241m.\u001b[39mplayer2\u001b[38;5;241m.\u001b[39mchips \u001b[38;5;241m>\u001b[39m \u001b[38;5;241m0\u001b[39m:\n\u001b[0;32m--> 228\u001b[0m         \u001b[38;5;28mself\u001b[39m\u001b[38;5;241m.\u001b[39mplay_round()\n\u001b[1;32m    229\u001b[0m         \u001b[38;5;28mself\u001b[39m\u001b[38;5;241m.\u001b[39mdealer \u001b[38;5;241m=\u001b[39m (\u001b[38;5;28mself\u001b[39m\u001b[38;5;241m.\u001b[39mdealer \u001b[38;5;241m+\u001b[39m \u001b[38;5;241m1\u001b[39m) \u001b[38;5;241m%\u001b[39m \u001b[38;5;241m2\u001b[39m\n\u001b[1;32m    231\u001b[0m         \u001b[38;5;66;03m# Ask to continue\u001b[39;00m\n",
      "File \u001b[0;32m~/Documents/DevStuff/CFRPoker/src/game.py:183\u001b[0m, in \u001b[0;36mPokerGame.play_round\u001b[0;34m(self)\u001b[0m\n\u001b[1;32m    180\u001b[0m \u001b[38;5;28mprint\u001b[39m(\u001b[38;5;124mf\u001b[39m\u001b[38;5;124m\"\u001b[39m\u001b[38;5;130;01m\\n\u001b[39;00m\u001b[38;5;132;01m{\u001b[39;00mdealer_player\u001b[38;5;241m.\u001b[39mname\u001b[38;5;132;01m}\u001b[39;00m\u001b[38;5;124m posts: $\u001b[39m\u001b[38;5;132;01m{\u001b[39;00mdealer_bet\u001b[38;5;132;01m}\u001b[39;00m\u001b[38;5;124m\"\u001b[39m)\n\u001b[1;32m    181\u001b[0m \u001b[38;5;28mprint\u001b[39m(\u001b[38;5;124mf\u001b[39m\u001b[38;5;124m\"\u001b[39m\u001b[38;5;132;01m{\u001b[39;00mnon_dealer_player\u001b[38;5;241m.\u001b[39mname\u001b[38;5;132;01m}\u001b[39;00m\u001b[38;5;124m posts: $\u001b[39m\u001b[38;5;132;01m{\u001b[39;00mnon_dealer_bet\u001b[38;5;132;01m}\u001b[39;00m\u001b[38;5;124m\"\u001b[39m)\n\u001b[0;32m--> 183\u001b[0m \u001b[38;5;28mself\u001b[39m\u001b[38;5;241m.\u001b[39mbetting_round(dealer_player)\n\u001b[1;32m    185\u001b[0m \u001b[38;5;28;01mif\u001b[39;00m \u001b[38;5;28mself\u001b[39m\u001b[38;5;241m.\u001b[39mcheck_winner():\n\u001b[1;32m    186\u001b[0m     \u001b[38;5;28;01mreturn\u001b[39;00m\n",
      "File \u001b[0;32m~/Documents/DevStuff/CFRPoker/src/game.py:109\u001b[0m, in \u001b[0;36mPokerGame.betting_round\u001b[0;34m(self, current_player)\u001b[0m\n\u001b[1;32m    107\u001b[0m \u001b[38;5;28;01mif\u001b[39;00m \u001b[38;5;129;01mnot\u001b[39;00m current_player\u001b[38;5;241m.\u001b[39mall_in:\n\u001b[1;32m    108\u001b[0m     valid_actions \u001b[38;5;241m=\u001b[39m \u001b[38;5;28mself\u001b[39m\u001b[38;5;241m.\u001b[39mvalid_actions(current_player)\n\u001b[0;32m--> 109\u001b[0m     action \u001b[38;5;241m=\u001b[39m current_player\u001b[38;5;241m.\u001b[39mbest_move(valid_actions)\n\u001b[1;32m    110\u001b[0m     \u001b[38;5;28mself\u001b[39m\u001b[38;5;241m.\u001b[39mhandle_action(current_player, action)\n\u001b[1;32m    112\u001b[0m \u001b[38;5;28;01mif\u001b[39;00m \u001b[38;5;28mself\u001b[39m\u001b[38;5;241m.\u001b[39mplayer1\u001b[38;5;241m.\u001b[39mfolded \u001b[38;5;129;01mor\u001b[39;00m \u001b[38;5;28mself\u001b[39m\u001b[38;5;241m.\u001b[39mplayer2\u001b[38;5;241m.\u001b[39mfolded:\n",
      "File \u001b[0;32m~/Documents/DevStuff/CFRPoker/src/player.py:73\u001b[0m, in \u001b[0;36mHumanPlayer.best_move\u001b[0;34m(self, valid_actions)\u001b[0m\n\u001b[1;32m     71\u001b[0m \u001b[38;5;28;01mwhile\u001b[39;00m \u001b[38;5;28;01mTrue\u001b[39;00m:\n\u001b[1;32m     72\u001b[0m     \u001b[38;5;28mprint\u001b[39m(\u001b[38;5;124mf\u001b[39m\u001b[38;5;124m\"\u001b[39m\u001b[38;5;132;01m{\u001b[39;00m\u001b[38;5;28mself\u001b[39m\u001b[38;5;241m.\u001b[39mname\u001b[38;5;132;01m}\u001b[39;00m\u001b[38;5;124m available actions:\u001b[39m\u001b[38;5;124m\"\u001b[39m, \u001b[38;5;124m\"\u001b[39m\u001b[38;5;124m, \u001b[39m\u001b[38;5;124m\"\u001b[39m\u001b[38;5;241m.\u001b[39mjoin([a\u001b[38;5;241m.\u001b[39mname \u001b[38;5;28;01mfor\u001b[39;00m a \u001b[38;5;129;01min\u001b[39;00m valid_actions]))\n\u001b[0;32m---> 73\u001b[0m     action \u001b[38;5;241m=\u001b[39m \u001b[38;5;28minput\u001b[39m(\u001b[38;5;124m\"\u001b[39m\u001b[38;5;124mYour action: \u001b[39m\u001b[38;5;124m\"\u001b[39m)\u001b[38;5;241m.\u001b[39mstrip()\u001b[38;5;241m.\u001b[39mlower()\n\u001b[1;32m     75\u001b[0m     action_map \u001b[38;5;241m=\u001b[39m {\n\u001b[1;32m     76\u001b[0m         \u001b[38;5;124m\"\u001b[39m\u001b[38;5;124mcheck\u001b[39m\u001b[38;5;124m\"\u001b[39m: PlayerAction\u001b[38;5;241m.\u001b[39mCHECK,\n\u001b[1;32m     77\u001b[0m         \u001b[38;5;124m\"\u001b[39m\u001b[38;5;124mcall\u001b[39m\u001b[38;5;124m\"\u001b[39m: PlayerAction\u001b[38;5;241m.\u001b[39mCALL,\n\u001b[1;32m     78\u001b[0m         \u001b[38;5;124m\"\u001b[39m\u001b[38;5;124mfold\u001b[39m\u001b[38;5;124m\"\u001b[39m: PlayerAction\u001b[38;5;241m.\u001b[39mFOLD,\n\u001b[1;32m     79\u001b[0m         \u001b[38;5;124m\"\u001b[39m\u001b[38;5;124mraise\u001b[39m\u001b[38;5;124m\"\u001b[39m: PlayerAction\u001b[38;5;241m.\u001b[39mRAISE,\n\u001b[1;32m     80\u001b[0m     }\n\u001b[1;32m     82\u001b[0m     mapped_action \u001b[38;5;241m=\u001b[39m action_map\u001b[38;5;241m.\u001b[39mget(action, \u001b[38;5;124m\"\u001b[39m\u001b[38;5;124m\"\u001b[39m)\n",
      "File \u001b[0;32m/opt/anaconda3/lib/python3.12/site-packages/ipykernel/kernelbase.py:1282\u001b[0m, in \u001b[0;36mKernel.raw_input\u001b[0;34m(self, prompt)\u001b[0m\n\u001b[1;32m   1280\u001b[0m     msg \u001b[38;5;241m=\u001b[39m \u001b[38;5;124m\"\u001b[39m\u001b[38;5;124mraw_input was called, but this frontend does not support input requests.\u001b[39m\u001b[38;5;124m\"\u001b[39m\n\u001b[1;32m   1281\u001b[0m     \u001b[38;5;28;01mraise\u001b[39;00m StdinNotImplementedError(msg)\n\u001b[0;32m-> 1282\u001b[0m \u001b[38;5;28;01mreturn\u001b[39;00m \u001b[38;5;28mself\u001b[39m\u001b[38;5;241m.\u001b[39m_input_request(\n\u001b[1;32m   1283\u001b[0m     \u001b[38;5;28mstr\u001b[39m(prompt),\n\u001b[1;32m   1284\u001b[0m     \u001b[38;5;28mself\u001b[39m\u001b[38;5;241m.\u001b[39m_parent_ident[\u001b[38;5;124m\"\u001b[39m\u001b[38;5;124mshell\u001b[39m\u001b[38;5;124m\"\u001b[39m],\n\u001b[1;32m   1285\u001b[0m     \u001b[38;5;28mself\u001b[39m\u001b[38;5;241m.\u001b[39mget_parent(\u001b[38;5;124m\"\u001b[39m\u001b[38;5;124mshell\u001b[39m\u001b[38;5;124m\"\u001b[39m),\n\u001b[1;32m   1286\u001b[0m     password\u001b[38;5;241m=\u001b[39m\u001b[38;5;28;01mFalse\u001b[39;00m,\n\u001b[1;32m   1287\u001b[0m )\n",
      "File \u001b[0;32m/opt/anaconda3/lib/python3.12/site-packages/ipykernel/kernelbase.py:1325\u001b[0m, in \u001b[0;36mKernel._input_request\u001b[0;34m(self, prompt, ident, parent, password)\u001b[0m\n\u001b[1;32m   1322\u001b[0m \u001b[38;5;28;01mexcept\u001b[39;00m \u001b[38;5;167;01mKeyboardInterrupt\u001b[39;00m:\n\u001b[1;32m   1323\u001b[0m     \u001b[38;5;66;03m# re-raise KeyboardInterrupt, to truncate traceback\u001b[39;00m\n\u001b[1;32m   1324\u001b[0m     msg \u001b[38;5;241m=\u001b[39m \u001b[38;5;124m\"\u001b[39m\u001b[38;5;124mInterrupted by user\u001b[39m\u001b[38;5;124m\"\u001b[39m\n\u001b[0;32m-> 1325\u001b[0m     \u001b[38;5;28;01mraise\u001b[39;00m \u001b[38;5;167;01mKeyboardInterrupt\u001b[39;00m(msg) \u001b[38;5;28;01mfrom\u001b[39;00m \u001b[38;5;28;01mNone\u001b[39;00m\n\u001b[1;32m   1326\u001b[0m \u001b[38;5;28;01mexcept\u001b[39;00m \u001b[38;5;167;01mException\u001b[39;00m:\n\u001b[1;32m   1327\u001b[0m     \u001b[38;5;28mself\u001b[39m\u001b[38;5;241m.\u001b[39mlog\u001b[38;5;241m.\u001b[39mwarning(\u001b[38;5;124m\"\u001b[39m\u001b[38;5;124mInvalid Message:\u001b[39m\u001b[38;5;124m\"\u001b[39m, exc_info\u001b[38;5;241m=\u001b[39m\u001b[38;5;28;01mTrue\u001b[39;00m)\n",
      "\u001b[0;31mKeyboardInterrupt\u001b[0m: Interrupted by user"
     ]
    }
   ],
   "source": [
    "player1 = HumanPlayer(\"A\")\n",
    "player2 = HumanPlayer(\"B\")\n",
    "game = PokerGame(player1, player2)\n",
    "game.play_game()"
   ]
  },
  {
   "cell_type": "code",
   "execution_count": null,
   "id": "453012bf-d88f-4052-884b-03af1bab13b4",
   "metadata": {},
   "outputs": [],
   "source": []
  },
  {
   "cell_type": "code",
   "execution_count": null,
   "id": "66df8329-39a6-46b7-aee5-302af42525d5",
   "metadata": {},
   "outputs": [],
   "source": []
  },
  {
   "cell_type": "code",
   "execution_count": null,
   "id": "0a07a398-addd-4ed3-96b7-00861f108c55",
   "metadata": {},
   "outputs": [],
   "source": []
  },
  {
   "cell_type": "code",
   "execution_count": null,
   "id": "a0d527a9-0ef0-42a2-a9b2-3c3ad53b375a",
   "metadata": {},
   "outputs": [],
   "source": []
  },
  {
   "cell_type": "code",
   "execution_count": null,
   "id": "13c3c206-2211-4979-8470-2eeac54a8896",
   "metadata": {},
   "outputs": [],
   "source": []
  },
  {
   "cell_type": "code",
   "execution_count": 176,
   "id": "29fb0ae4-1fa1-4938-a2af-5403dcf3376b",
   "metadata": {},
   "outputs": [],
   "source": [
    "k = KuhnCFR(1, 10)\n",
    "result = k.cfr_iterations_external()"
   ]
  },
  {
   "cell_type": "code",
   "execution_count": null,
   "id": "f6c7666b-b9cf-467c-a572-6560ffd5c0a4",
   "metadata": {},
   "outputs": [],
   "source": [
    "k.deep"
   ]
  },
  {
   "cell_type": "code",
   "execution_count": 178,
   "id": "ce506d02-2592-4c81-82c2-7972542bdde3",
   "metadata": {},
   "outputs": [
    {
     "data": {
      "text/plain": [
       "{'2[]': <src.cfr.Node at 0x162fdb4d0>,\n",
       " '9[0]': <src.cfr.Node at 0x162fd9be0>,\n",
       " '9[1]': <src.cfr.Node at 0x162fda750>,\n",
       " '9[]': <src.cfr.Node at 0x162fda6c0>,\n",
       " '3[0]': <src.cfr.Node at 0x162fd9a30>,\n",
       " '9[0, 1]': <src.cfr.Node at 0x162fdaf90>}"
      ]
     },
     "execution_count": 178,
     "metadata": {},
     "output_type": "execute_result"
    }
   ],
   "source": [
    "k.nodes"
   ]
  },
  {
   "cell_type": "code",
   "execution_count": 174,
   "id": "5ebe3377-de67-4e3c-a037-b1f7da608ce9",
   "metadata": {},
   "outputs": [
    {
     "data": {
      "text/plain": [
       "37"
      ]
     },
     "execution_count": 174,
     "metadata": {},
     "output_type": "execute_result"
    }
   ],
   "source": [
    "len(list(k.nodes.keys()))"
   ]
  },
  {
   "cell_type": "code",
   "execution_count": 72,
   "id": "9af217d9-cc68-4823-959d-ecf27037f79a",
   "metadata": {},
   "outputs": [
    {
     "data": {
      "text/plain": [
       "array([1440.33303825, 8290.66696175])"
      ]
     },
     "execution_count": 72,
     "metadata": {},
     "output_type": "execute_result"
    }
   ],
   "source": [
    "k.nodes['4[0, 1]'].strategy_sum"
   ]
  },
  {
   "cell_type": "code",
   "execution_count": 152,
   "id": "78d8adbf-03e7-4ef8-af2c-c476dacdf635",
   "metadata": {},
   "outputs": [],
   "source": [
    "from collections import defaultdict\n",
    "foo = defaultdict(lambda: defaultdict(float))"
   ]
  },
  {
   "cell_type": "code",
   "execution_count": 188,
   "id": "472d0f3f-1116-4b98-9ee6-a9a439cec658",
   "metadata": {},
   "outputs": [
    {
     "data": {
      "text/plain": [
       "268446761"
      ]
     },
     "execution_count": 188,
     "metadata": {},
     "output_type": "execute_result"
    }
   ],
   "source": [
    "a = Card\n",
    "a.new('Ah')"
   ]
  },
  {
   "cell_type": "code",
   "execution_count": 192,
   "id": "b9b8396c-3071-4e7d-8b03-ae8d4949eab9",
   "metadata": {},
   "outputs": [
    {
     "data": {
      "text/plain": [
       "1"
      ]
     },
     "execution_count": 192,
     "metadata": {},
     "output_type": "execute_result"
    }
   ],
   "source": [
    "[1,2].index(2)"
   ]
  },
  {
   "cell_type": "code",
   "execution_count": 46,
   "id": "68cc7e21-9522-4034-bf32-d7358faca1c4",
   "metadata": {},
   "outputs": [
    {
     "name": "stdout",
     "output_type": "stream",
     "text": [
      "Starting External Sampling MCCFR training for 10 iterations...\n",
      "Iteration 1/10\n",
      "Iteration 2/10\n",
      "Iteration 3/10\n",
      "Iteration 4/10\n",
      "Iteration 5/10\n",
      "Iteration 6/10\n",
      "Iteration 7/10\n",
      "Iteration 8/10\n",
      "Iteration 9/10\n",
      "Iteration 10/10\n",
      "MCCFR training complete!\n",
      "Average game value: 0.075\n"
     ]
    }
   ],
   "source": [
    "mc = MCCFR(SimpleGame)\n",
    "mc.train(10)"
   ]
  },
  {
   "cell_type": "code",
   "execution_count": 6,
   "id": "a15b2cf7-04af-474b-aa62-96dd3c9ba5a6",
   "metadata": {},
   "outputs": [
    {
     "data": {
      "text/plain": [
       "5998"
      ]
     },
     "execution_count": 6,
     "metadata": {},
     "output_type": "execute_result"
    }
   ],
   "source": [
    "len(list(mc.nodes.keys()))"
   ]
  },
  {
   "cell_type": "code",
   "execution_count": 8,
   "id": "d916aa61-0a2c-4942-a884-6f649cf245dd",
   "metadata": {},
   "outputs": [
    {
     "data": {
      "text/plain": [
       "{' [T\\x1b[32m♣\\x1b[0m],[Q\\x1b[31m♥\\x1b[0m] | [6\\x1b[32m♣\\x1b[0m],[8\\x1b[32m♣\\x1b[0m] |': <src.mccfr.Infoset at 0x11ce13b30>,\n",
       " ' [2\\x1b[31m♥\\x1b[0m],[K\\x1b[32m♣\\x1b[0m] | [6\\x1b[32m♣\\x1b[0m],[8\\x1b[32m♣\\x1b[0m] |1': <src.mccfr.Infoset at 0x11f4060c0>,\n",
       " ' [T\\x1b[32m♣\\x1b[0m],[Q\\x1b[31m♥\\x1b[0m] | [6\\x1b[32m♣\\x1b[0m],[8\\x1b[32m♣\\x1b[0m] |1,3': <src.mccfr.Infoset at 0x11f991df0>,\n",
       " ' [2\\x1b[31m♥\\x1b[0m],[K\\x1b[32m♣\\x1b[0m] | [6\\x1b[32m♣\\x1b[0m],[8\\x1b[32m♣\\x1b[0m] |3': <src.mccfr.Infoset at 0x11dafd700>,\n",
       " ' [5\\x1b[31m♥\\x1b[0m],[Q♠] | [2♠],[4\\x1b[34m♦\\x1b[0m] |': <src.mccfr.Infoset at 0x11f991ca0>,\n",
       " ' [Q\\x1b[31m♥\\x1b[0m],[Q\\x1b[32m♣\\x1b[0m] | [2♠],[4\\x1b[34m♦\\x1b[0m] |3': <src.mccfr.Infoset at 0x11f991dc0>,\n",
       " ' [7\\x1b[34m♦\\x1b[0m],[A\\x1b[31m♥\\x1b[0m] | [7♠],[K♠] |': <src.mccfr.Infoset at 0x10a254c50>,\n",
       " ' [6\\x1b[32m♣\\x1b[0m],[8\\x1b[31m♥\\x1b[0m] | [7♠],[K♠] |1': <src.mccfr.Infoset at 0x11f991f40>,\n",
       " ' [7\\x1b[34m♦\\x1b[0m],[A\\x1b[31m♥\\x1b[0m] | [7♠],[K♠] |1,3': <src.mccfr.Infoset at 0x11f991fd0>,\n",
       " ' [6\\x1b[32m♣\\x1b[0m],[8\\x1b[31m♥\\x1b[0m] | [7♠],[K♠] |3': <src.mccfr.Infoset at 0x11f991f70>,\n",
       " ' [7\\x1b[34m♦\\x1b[0m],[Q\\x1b[34m♦\\x1b[0m] | [2♠],[J\\x1b[34m♦\\x1b[0m] |': <src.mccfr.Infoset at 0x11f991cd0>,\n",
       " ' [3\\x1b[31m♥\\x1b[0m],[J♠] | [2♠],[J\\x1b[34m♦\\x1b[0m] |3': <src.mccfr.Infoset at 0x11f992000>,\n",
       " ' [3\\x1b[31m♥\\x1b[0m],[K\\x1b[31m♥\\x1b[0m] | [4\\x1b[31m♥\\x1b[0m],[Q\\x1b[32m♣\\x1b[0m] |': <src.mccfr.Infoset at 0x11f993e30>,\n",
       " ' [6\\x1b[31m♥\\x1b[0m],[9\\x1b[34m♦\\x1b[0m] | [4\\x1b[31m♥\\x1b[0m],[Q\\x1b[32m♣\\x1b[0m] |1': <src.mccfr.Infoset at 0x11f992120>,\n",
       " ' [3\\x1b[31m♥\\x1b[0m],[K\\x1b[31m♥\\x1b[0m] | [4\\x1b[31m♥\\x1b[0m],[Q\\x1b[32m♣\\x1b[0m] |1,3': <src.mccfr.Infoset at 0x11f9921b0>,\n",
       " ' [6\\x1b[31m♥\\x1b[0m],[9\\x1b[34m♦\\x1b[0m] | [4\\x1b[31m♥\\x1b[0m],[Q\\x1b[32m♣\\x1b[0m] |3': <src.mccfr.Infoset at 0x11f992150>,\n",
       " ' [9♠],[T♠] | [3\\x1b[31m♥\\x1b[0m],[T\\x1b[32m♣\\x1b[0m] |': <src.mccfr.Infoset at 0x11f991c40>,\n",
       " ' [2♠],[3♠] | [3\\x1b[31m♥\\x1b[0m],[T\\x1b[32m♣\\x1b[0m] |3': <src.mccfr.Infoset at 0x11f9921e0>,\n",
       " ' [3\\x1b[34m♦\\x1b[0m],[K\\x1b[34m♦\\x1b[0m] | [2♠],[T♠] |': <src.mccfr.Infoset at 0x11f991ee0>,\n",
       " ' [3\\x1b[31m♥\\x1b[0m],[8♠] | [2♠],[T♠] |1': <src.mccfr.Infoset at 0x11f992300>,\n",
       " ' [3\\x1b[34m♦\\x1b[0m],[K\\x1b[34m♦\\x1b[0m] | [2♠],[T♠] |1,3': <src.mccfr.Infoset at 0x11f992390>,\n",
       " ' [3\\x1b[31m♥\\x1b[0m],[8♠] | [2♠],[T♠] |3': <src.mccfr.Infoset at 0x11f992330>,\n",
       " ' [8\\x1b[31m♥\\x1b[0m],[T\\x1b[31m♥\\x1b[0m] | [7\\x1b[34m♦\\x1b[0m],[J\\x1b[34m♦\\x1b[0m] |': <src.mccfr.Infoset at 0x11f991e20>,\n",
       " ' [4\\x1b[32m♣\\x1b[0m],[J\\x1b[32m♣\\x1b[0m] | [7\\x1b[34m♦\\x1b[0m],[J\\x1b[34m♦\\x1b[0m] |3': <src.mccfr.Infoset at 0x11f9923c0>,\n",
       " ' [4\\x1b[31m♥\\x1b[0m],[J\\x1b[32m♣\\x1b[0m] | [7♠],[9\\x1b[31m♥\\x1b[0m] |': <src.mccfr.Infoset at 0x11f9920c0>,\n",
       " ' [2\\x1b[32m♣\\x1b[0m],[5♠] | [7♠],[9\\x1b[31m♥\\x1b[0m] |1': <src.mccfr.Infoset at 0x11f992510>,\n",
       " ' [4\\x1b[31m♥\\x1b[0m],[J\\x1b[32m♣\\x1b[0m] | [7♠],[9\\x1b[31m♥\\x1b[0m] |1,3': <src.mccfr.Infoset at 0x11f9925d0>,\n",
       " ' [2\\x1b[32m♣\\x1b[0m],[5♠] | [7♠],[9\\x1b[31m♥\\x1b[0m] |3': <src.mccfr.Infoset at 0x11f9925a0>,\n",
       " ' [4\\x1b[31m♥\\x1b[0m],[7\\x1b[34m♦\\x1b[0m] | [6\\x1b[32m♣\\x1b[0m],[Q♠] |': <src.mccfr.Infoset at 0x11f992030>,\n",
       " ' [2♠],[5\\x1b[31m♥\\x1b[0m] | [6\\x1b[32m♣\\x1b[0m],[Q♠] |3': <src.mccfr.Infoset at 0x11f9926c0>,\n",
       " ' [3♠],[4\\x1b[34m♦\\x1b[0m] | [8♠],[Q\\x1b[34m♦\\x1b[0m] |': <src.mccfr.Infoset at 0x11f9924b0>,\n",
       " ' [7\\x1b[32m♣\\x1b[0m],[K\\x1b[32m♣\\x1b[0m] | [8♠],[Q\\x1b[34m♦\\x1b[0m] |1': <src.mccfr.Infoset at 0x11f992810>,\n",
       " ' [3♠],[4\\x1b[34m♦\\x1b[0m] | [8♠],[Q\\x1b[34m♦\\x1b[0m] |1,3': <src.mccfr.Infoset at 0x11f9928d0>,\n",
       " ' [7\\x1b[32m♣\\x1b[0m],[K\\x1b[32m♣\\x1b[0m] | [8♠],[Q\\x1b[34m♦\\x1b[0m] |3': <src.mccfr.Infoset at 0x11f9928a0>,\n",
       " ' [5\\x1b[32m♣\\x1b[0m],[8\\x1b[31m♥\\x1b[0m] | [3♠],[Q\\x1b[32m♣\\x1b[0m] |': <src.mccfr.Infoset at 0x11f992210>,\n",
       " ' [4\\x1b[32m♣\\x1b[0m],[Q♠] | [3♠],[Q\\x1b[32m♣\\x1b[0m] |3': <src.mccfr.Infoset at 0x11f9929c0>,\n",
       " ' [3\\x1b[34m♦\\x1b[0m],[4\\x1b[34m♦\\x1b[0m] | [4\\x1b[32m♣\\x1b[0m],[9♠] |': <src.mccfr.Infoset at 0x11f9927b0>,\n",
       " ' [8\\x1b[34m♦\\x1b[0m],[T\\x1b[31m♥\\x1b[0m] | [4\\x1b[32m♣\\x1b[0m],[9♠] |1': <src.mccfr.Infoset at 0x11f992b10>,\n",
       " ' [3\\x1b[34m♦\\x1b[0m],[4\\x1b[34m♦\\x1b[0m] | [4\\x1b[32m♣\\x1b[0m],[9♠] |1,3': <src.mccfr.Infoset at 0x11f992bd0>,\n",
       " ' [8\\x1b[34m♦\\x1b[0m],[T\\x1b[31m♥\\x1b[0m] | [4\\x1b[32m♣\\x1b[0m],[9♠] |3': <src.mccfr.Infoset at 0x11f992b40>,\n",
       " ' [7♠],[7\\x1b[34m♦\\x1b[0m] | [3\\x1b[34m♦\\x1b[0m],[5♠] |': <src.mccfr.Infoset at 0x11f9926f0>,\n",
       " ' [J\\x1b[34m♦\\x1b[0m],[K\\x1b[32m♣\\x1b[0m] | [3\\x1b[34m♦\\x1b[0m],[5♠] |3': <src.mccfr.Infoset at 0x11f992cc0>,\n",
       " ' [6\\x1b[34m♦\\x1b[0m],[J♠] | [J\\x1b[31m♥\\x1b[0m],[Q\\x1b[31m♥\\x1b[0m] |': <src.mccfr.Infoset at 0x11f992ab0>,\n",
       " ' [9\\x1b[32m♣\\x1b[0m],[T\\x1b[34m♦\\x1b[0m] | [J\\x1b[31m♥\\x1b[0m],[Q\\x1b[31m♥\\x1b[0m] |1': <src.mccfr.Infoset at 0x11f992db0>,\n",
       " ' [6\\x1b[34m♦\\x1b[0m],[J♠] | [J\\x1b[31m♥\\x1b[0m],[Q\\x1b[31m♥\\x1b[0m] |1,3': <src.mccfr.Infoset at 0x11f992f60>,\n",
       " ' [9\\x1b[32m♣\\x1b[0m],[T\\x1b[34m♦\\x1b[0m] | [J\\x1b[31m♥\\x1b[0m],[Q\\x1b[31m♥\\x1b[0m] |3': <src.mccfr.Infoset at 0x11f992ea0>,\n",
       " ' [5\\x1b[34m♦\\x1b[0m],[9\\x1b[31m♥\\x1b[0m] | [2♠],[Q\\x1b[31m♥\\x1b[0m] |': <src.mccfr.Infoset at 0x11f9929f0>,\n",
       " ' [4\\x1b[31m♥\\x1b[0m],[8♠] | [2♠],[Q\\x1b[31m♥\\x1b[0m] |3': <src.mccfr.Infoset at 0x11f993050>,\n",
       " ' [Q\\x1b[31m♥\\x1b[0m],[K\\x1b[32m♣\\x1b[0m] | [4\\x1b[31m♥\\x1b[0m],[8\\x1b[32m♣\\x1b[0m] |': <src.mccfr.Infoset at 0x11f992de0>,\n",
       " ' [3♠],[5\\x1b[34m♦\\x1b[0m] | [4\\x1b[31m♥\\x1b[0m],[8\\x1b[32m♣\\x1b[0m] |1': <src.mccfr.Infoset at 0x11f9931a0>,\n",
       " ' [Q\\x1b[31m♥\\x1b[0m],[K\\x1b[32m♣\\x1b[0m] | [4\\x1b[31m♥\\x1b[0m],[8\\x1b[32m♣\\x1b[0m] |1,3': <src.mccfr.Infoset at 0x11f993290>,\n",
       " ' [3♠],[5\\x1b[34m♦\\x1b[0m] | [4\\x1b[31m♥\\x1b[0m],[8\\x1b[32m♣\\x1b[0m] |3': <src.mccfr.Infoset at 0x11f993260>,\n",
       " ' [3♠],[9\\x1b[31m♥\\x1b[0m] | [2\\x1b[34m♦\\x1b[0m],[5♠] |': <src.mccfr.Infoset at 0x11f992d20>,\n",
       " ' [Q\\x1b[32m♣\\x1b[0m],[K\\x1b[31m♥\\x1b[0m] | [2\\x1b[34m♦\\x1b[0m],[5♠] |3': <src.mccfr.Infoset at 0x11f993380>,\n",
       " ' [6\\x1b[31m♥\\x1b[0m],[Q\\x1b[34m♦\\x1b[0m] | [5\\x1b[31m♥\\x1b[0m],[9\\x1b[32m♣\\x1b[0m] |': <src.mccfr.Infoset at 0x11f993140>,\n",
       " ' [2\\x1b[34m♦\\x1b[0m],[A♠] | [5\\x1b[31m♥\\x1b[0m],[9\\x1b[32m♣\\x1b[0m] |1': <src.mccfr.Infoset at 0x11f9934d0>,\n",
       " ' [6\\x1b[31m♥\\x1b[0m],[Q\\x1b[34m♦\\x1b[0m] | [5\\x1b[31m♥\\x1b[0m],[9\\x1b[32m♣\\x1b[0m] |1,3': <src.mccfr.Infoset at 0x11f9935c0>,\n",
       " ' [2\\x1b[34m♦\\x1b[0m],[A♠] | [5\\x1b[31m♥\\x1b[0m],[9\\x1b[32m♣\\x1b[0m] |3': <src.mccfr.Infoset at 0x11f993590>,\n",
       " ' [9\\x1b[32m♣\\x1b[0m],[A♠] | [2♠],[K\\x1b[32m♣\\x1b[0m] |': <src.mccfr.Infoset at 0x11f993080>,\n",
       " ' [4\\x1b[32m♣\\x1b[0m],[A\\x1b[31m♥\\x1b[0m] | [2♠],[K\\x1b[32m♣\\x1b[0m] |3': <src.mccfr.Infoset at 0x11f991c70>,\n",
       " ' [Q\\x1b[32m♣\\x1b[0m],[A\\x1b[31m♥\\x1b[0m] | [2\\x1b[31m♥\\x1b[0m],[A\\x1b[34m♦\\x1b[0m] |': <src.mccfr.Infoset at 0x11f993470>,\n",
       " ' [4\\x1b[32m♣\\x1b[0m],[5♠] | [2\\x1b[31m♥\\x1b[0m],[A\\x1b[34m♦\\x1b[0m] |1': <src.mccfr.Infoset at 0x11f993740>,\n",
       " ' [Q\\x1b[32m♣\\x1b[0m],[A\\x1b[31m♥\\x1b[0m] | [2\\x1b[31m♥\\x1b[0m],[A\\x1b[34m♦\\x1b[0m] |1,3': <src.mccfr.Infoset at 0x11f993800>,\n",
       " ' [4\\x1b[32m♣\\x1b[0m],[5♠] | [2\\x1b[31m♥\\x1b[0m],[A\\x1b[34m♦\\x1b[0m] |3': <src.mccfr.Infoset at 0x11f9937d0>,\n",
       " ' [6♠],[8\\x1b[32m♣\\x1b[0m] | [T\\x1b[32m♣\\x1b[0m],[A\\x1b[31m♥\\x1b[0m] |': <src.mccfr.Infoset at 0x11f9933b0>,\n",
       " ' [8\\x1b[34m♦\\x1b[0m],[9\\x1b[32m♣\\x1b[0m] | [T\\x1b[32m♣\\x1b[0m],[A\\x1b[31m♥\\x1b[0m] |3': <src.mccfr.Infoset at 0x11f993920>,\n",
       " ' [4♠],[7\\x1b[31m♥\\x1b[0m] | [8♠],[8\\x1b[34m♦\\x1b[0m] |': <src.mccfr.Infoset at 0x11f991a90>,\n",
       " ' [8\\x1b[32m♣\\x1b[0m],[9♠] | [8♠],[8\\x1b[34m♦\\x1b[0m] |1': <src.mccfr.Infoset at 0x11f993aa0>,\n",
       " ' [4♠],[7\\x1b[31m♥\\x1b[0m] | [8♠],[8\\x1b[34m♦\\x1b[0m] |1,3': <src.mccfr.Infoset at 0x11f993b60>,\n",
       " ' [8\\x1b[32m♣\\x1b[0m],[9♠] | [8♠],[8\\x1b[34m♦\\x1b[0m] |3': <src.mccfr.Infoset at 0x11f993b30>,\n",
       " ' [6\\x1b[31m♥\\x1b[0m],[9\\x1b[31m♥\\x1b[0m] | [2\\x1b[32m♣\\x1b[0m],[J\\x1b[32m♣\\x1b[0m] |': <src.mccfr.Infoset at 0x11f993e00>,\n",
       " ' [4\\x1b[32m♣\\x1b[0m],[A♠] | [2\\x1b[32m♣\\x1b[0m],[J\\x1b[32m♣\\x1b[0m] |3': <src.mccfr.Infoset at 0x11f993c80>,\n",
       " ' [5\\x1b[34m♦\\x1b[0m],[A\\x1b[31m♥\\x1b[0m] | [5\\x1b[31m♥\\x1b[0m],[A\\x1b[34m♦\\x1b[0m] |': <src.mccfr.Infoset at 0x11f993a40>,\n",
       " ' [T♠],[A\\x1b[32m♣\\x1b[0m] | [5\\x1b[31m♥\\x1b[0m],[A\\x1b[34m♦\\x1b[0m] |1': <src.mccfr.Infoset at 0x11f9d8200>,\n",
       " ' [5\\x1b[34m♦\\x1b[0m],[A\\x1b[31m♥\\x1b[0m] | [5\\x1b[31m♥\\x1b[0m],[A\\x1b[34m♦\\x1b[0m] |1,3': <src.mccfr.Infoset at 0x11f9d82c0>,\n",
       " ' [T♠],[A\\x1b[32m♣\\x1b[0m] | [5\\x1b[31m♥\\x1b[0m],[A\\x1b[34m♦\\x1b[0m] |3': <src.mccfr.Infoset at 0x11f9d8290>,\n",
       " ' [5\\x1b[32m♣\\x1b[0m],[9♠] | [4\\x1b[34m♦\\x1b[0m],[4\\x1b[32m♣\\x1b[0m] |': <src.mccfr.Infoset at 0x11f993950>,\n",
       " ' [8\\x1b[32m♣\\x1b[0m],[9\\x1b[32m♣\\x1b[0m] | [4\\x1b[34m♦\\x1b[0m],[4\\x1b[32m♣\\x1b[0m] |3': <src.mccfr.Infoset at 0x11f993e60>,\n",
       " ' [6♠],[T\\x1b[34m♦\\x1b[0m] | [7\\x1b[34m♦\\x1b[0m],[8\\x1b[32m♣\\x1b[0m] |': <src.mccfr.Infoset at 0x11f9d81a0>,\n",
       " ' [5\\x1b[32m♣\\x1b[0m],[6\\x1b[32m♣\\x1b[0m] | [7\\x1b[34m♦\\x1b[0m],[8\\x1b[32m♣\\x1b[0m] |1': <src.mccfr.Infoset at 0x11f9d8530>,\n",
       " ' [6♠],[T\\x1b[34m♦\\x1b[0m] | [7\\x1b[34m♦\\x1b[0m],[8\\x1b[32m♣\\x1b[0m] |1,3': <src.mccfr.Infoset at 0x11f9d85f0>,\n",
       " ' [5\\x1b[32m♣\\x1b[0m],[6\\x1b[32m♣\\x1b[0m] | [7\\x1b[34m♦\\x1b[0m],[8\\x1b[32m♣\\x1b[0m] |3': <src.mccfr.Infoset at 0x11f9d85c0>,\n",
       " ' [7\\x1b[32m♣\\x1b[0m],[Q\\x1b[34m♦\\x1b[0m] | [8\\x1b[32m♣\\x1b[0m],[A\\x1b[34m♦\\x1b[0m] |': <src.mccfr.Infoset at 0x11f993cb0>,\n",
       " ' [3\\x1b[32m♣\\x1b[0m],[9\\x1b[32m♣\\x1b[0m] | [8\\x1b[32m♣\\x1b[0m],[A\\x1b[34m♦\\x1b[0m] |3': <src.mccfr.Infoset at 0x11f9d86e0>,\n",
       " ' [8\\x1b[31m♥\\x1b[0m],[9♠] | [9\\x1b[34m♦\\x1b[0m],[A♠] |': <src.mccfr.Infoset at 0x11f9d8260>,\n",
       " ' [7\\x1b[34m♦\\x1b[0m],[K\\x1b[31m♥\\x1b[0m] | [9\\x1b[34m♦\\x1b[0m],[A♠] |1': <src.mccfr.Infoset at 0x11f9d8830>,\n",
       " ' [8\\x1b[31m♥\\x1b[0m],[9♠] | [9\\x1b[34m♦\\x1b[0m],[A♠] |1,3': <src.mccfr.Infoset at 0x11f9d88f0>,\n",
       " ' [7\\x1b[34m♦\\x1b[0m],[K\\x1b[31m♥\\x1b[0m] | [9\\x1b[34m♦\\x1b[0m],[A♠] |3': <src.mccfr.Infoset at 0x11f9d88c0>,\n",
       " ' [T\\x1b[31m♥\\x1b[0m],[J♠] | [6\\x1b[31m♥\\x1b[0m],[Q♠] |': <src.mccfr.Infoset at 0x11f9d8440>,\n",
       " ' [2\\x1b[31m♥\\x1b[0m],[A\\x1b[31m♥\\x1b[0m] | [6\\x1b[31m♥\\x1b[0m],[Q♠] |3': <src.mccfr.Infoset at 0x11f9d89e0>,\n",
       " ' [5\\x1b[34m♦\\x1b[0m],[A\\x1b[31m♥\\x1b[0m] | [5\\x1b[32m♣\\x1b[0m],[T\\x1b[34m♦\\x1b[0m] |': <src.mccfr.Infoset at 0x11f9d87d0>,\n",
       " ' [9♠],[J\\x1b[34m♦\\x1b[0m] | [5\\x1b[32m♣\\x1b[0m],[T\\x1b[34m♦\\x1b[0m] |1': <src.mccfr.Infoset at 0x11f9d8b30>,\n",
       " ' [5\\x1b[34m♦\\x1b[0m],[A\\x1b[31m♥\\x1b[0m] | [5\\x1b[32m♣\\x1b[0m],[T\\x1b[34m♦\\x1b[0m] |1,3': <src.mccfr.Infoset at 0x11f9d8bf0>,\n",
       " ' [9♠],[J\\x1b[34m♦\\x1b[0m] | [5\\x1b[32m♣\\x1b[0m],[T\\x1b[34m♦\\x1b[0m] |3': <src.mccfr.Infoset at 0x11f9d8bc0>,\n",
       " ' [8\\x1b[34m♦\\x1b[0m],[T\\x1b[34m♦\\x1b[0m] | [9\\x1b[31m♥\\x1b[0m],[9\\x1b[32m♣\\x1b[0m] |': <src.mccfr.Infoset at 0x11f9d8710>,\n",
       " ' [7\\x1b[32m♣\\x1b[0m],[A\\x1b[32m♣\\x1b[0m] | [9\\x1b[31m♥\\x1b[0m],[9\\x1b[32m♣\\x1b[0m] |3': <src.mccfr.Infoset at 0x11f9d8ce0>,\n",
       " ' [4♠],[9\\x1b[31m♥\\x1b[0m] | [2\\x1b[34m♦\\x1b[0m],[7♠] |': <src.mccfr.Infoset at 0x11f9d8ad0>,\n",
       " ' [3♠],[T\\x1b[34m♦\\x1b[0m] | [2\\x1b[34m♦\\x1b[0m],[7♠] |1': <src.mccfr.Infoset at 0x11f9d8e30>,\n",
       " ' [4♠],[9\\x1b[31m♥\\x1b[0m] | [2\\x1b[34m♦\\x1b[0m],[7♠] |1,3': <src.mccfr.Infoset at 0x11f9d8ef0>,\n",
       " ' [3♠],[T\\x1b[34m♦\\x1b[0m] | [2\\x1b[34m♦\\x1b[0m],[7♠] |3': <src.mccfr.Infoset at 0x11f9d8ec0>,\n",
       " ' [2\\x1b[31m♥\\x1b[0m],[4\\x1b[31m♥\\x1b[0m] | [K♠],[A\\x1b[32m♣\\x1b[0m] |': <src.mccfr.Infoset at 0x11f9d8a10>,\n",
       " ' [5\\x1b[32m♣\\x1b[0m],[7♠] | [K♠],[A\\x1b[32m♣\\x1b[0m] |3': <src.mccfr.Infoset at 0x11f9d8fe0>,\n",
       " ' [J♠],[Q\\x1b[32m♣\\x1b[0m] | [4\\x1b[32m♣\\x1b[0m],[K♠] |': <src.mccfr.Infoset at 0x11f9d8dd0>,\n",
       " ' [3♠],[8\\x1b[31m♥\\x1b[0m] | [4\\x1b[32m♣\\x1b[0m],[K♠] |1': <src.mccfr.Infoset at 0x11f9d9130>,\n",
       " ' [J♠],[Q\\x1b[32m♣\\x1b[0m] | [4\\x1b[32m♣\\x1b[0m],[K♠] |1,3': <src.mccfr.Infoset at 0x11f9d91f0>,\n",
       " ' [3♠],[8\\x1b[31m♥\\x1b[0m] | [4\\x1b[32m♣\\x1b[0m],[K♠] |3': <src.mccfr.Infoset at 0x11f9d91c0>,\n",
       " ' [2\\x1b[31m♥\\x1b[0m],[5\\x1b[31m♥\\x1b[0m] | [5♠],[K\\x1b[31m♥\\x1b[0m] |': <src.mccfr.Infoset at 0x11f9d8d10>,\n",
       " ' [8\\x1b[34m♦\\x1b[0m],[Q♠] | [5♠],[K\\x1b[31m♥\\x1b[0m] |3': <src.mccfr.Infoset at 0x11f9d92e0>,\n",
       " ' [3\\x1b[31m♥\\x1b[0m],[4♠] | [Q♠],[Q\\x1b[32m♣\\x1b[0m] |': <src.mccfr.Infoset at 0x11f9d90d0>,\n",
       " ' [2\\x1b[32m♣\\x1b[0m],[6\\x1b[31m♥\\x1b[0m] | [Q♠],[Q\\x1b[32m♣\\x1b[0m] |1': <src.mccfr.Infoset at 0x11f9d9430>,\n",
       " ' [3\\x1b[31m♥\\x1b[0m],[4♠] | [Q♠],[Q\\x1b[32m♣\\x1b[0m] |1,3': <src.mccfr.Infoset at 0x11f9d94f0>,\n",
       " ' [2\\x1b[32m♣\\x1b[0m],[6\\x1b[31m♥\\x1b[0m] | [Q♠],[Q\\x1b[32m♣\\x1b[0m] |3': <src.mccfr.Infoset at 0x11f9d94c0>,\n",
       " ' [6\\x1b[31m♥\\x1b[0m],[J\\x1b[34m♦\\x1b[0m] | [2\\x1b[32m♣\\x1b[0m],[6\\x1b[32m♣\\x1b[0m] |': <src.mccfr.Infoset at 0x11f9d9010>,\n",
       " ' [2♠],[8\\x1b[32m♣\\x1b[0m] | [2\\x1b[32m♣\\x1b[0m],[6\\x1b[32m♣\\x1b[0m] |3': <src.mccfr.Infoset at 0x11f9d95e0>,\n",
       " ' [2\\x1b[32m♣\\x1b[0m],[6\\x1b[32m♣\\x1b[0m] | [5\\x1b[31m♥\\x1b[0m],[Q\\x1b[32m♣\\x1b[0m] |': <src.mccfr.Infoset at 0x11f9d93d0>,\n",
       " ' [2\\x1b[31m♥\\x1b[0m],[5\\x1b[34m♦\\x1b[0m] | [5\\x1b[31m♥\\x1b[0m],[Q\\x1b[32m♣\\x1b[0m] |1': <src.mccfr.Infoset at 0x11f9d9730>,\n",
       " ' [2\\x1b[32m♣\\x1b[0m],[6\\x1b[32m♣\\x1b[0m] | [5\\x1b[31m♥\\x1b[0m],[Q\\x1b[32m♣\\x1b[0m] |1,3': <src.mccfr.Infoset at 0x11f9d97f0>,\n",
       " ' [2\\x1b[31m♥\\x1b[0m],[5\\x1b[34m♦\\x1b[0m] | [5\\x1b[31m♥\\x1b[0m],[Q\\x1b[32m♣\\x1b[0m] |3': <src.mccfr.Infoset at 0x11f9d97c0>,\n",
       " ' [8\\x1b[34m♦\\x1b[0m],[J\\x1b[31m♥\\x1b[0m] | [6♠],[A\\x1b[32m♣\\x1b[0m] |': <src.mccfr.Infoset at 0x11f9d9310>,\n",
       " ' [5\\x1b[34m♦\\x1b[0m],[K\\x1b[32m♣\\x1b[0m] | [6♠],[A\\x1b[32m♣\\x1b[0m] |3': <src.mccfr.Infoset at 0x11f9d98e0>,\n",
       " ' [2\\x1b[32m♣\\x1b[0m],[8\\x1b[32m♣\\x1b[0m] | [9\\x1b[32m♣\\x1b[0m],[A\\x1b[34m♦\\x1b[0m] |': <src.mccfr.Infoset at 0x11f9d96d0>,\n",
       " ' [6\\x1b[31m♥\\x1b[0m],[7\\x1b[32m♣\\x1b[0m] | [9\\x1b[32m♣\\x1b[0m],[A\\x1b[34m♦\\x1b[0m] |1': <src.mccfr.Infoset at 0x11f9d9a30>,\n",
       " ' [2\\x1b[32m♣\\x1b[0m],[8\\x1b[32m♣\\x1b[0m] | [9\\x1b[32m♣\\x1b[0m],[A\\x1b[34m♦\\x1b[0m] |1,3': <src.mccfr.Infoset at 0x11f9d9af0>,\n",
       " ' [6\\x1b[31m♥\\x1b[0m],[7\\x1b[32m♣\\x1b[0m] | [9\\x1b[32m♣\\x1b[0m],[A\\x1b[34m♦\\x1b[0m] |3': <src.mccfr.Infoset at 0x11f9d9ac0>,\n",
       " ' [5♠],[6\\x1b[31m♥\\x1b[0m] | [3\\x1b[34m♦\\x1b[0m],[A♠] |': <src.mccfr.Infoset at 0x11f9d9610>,\n",
       " ' [2\\x1b[31m♥\\x1b[0m],[K\\x1b[32m♣\\x1b[0m] | [3\\x1b[34m♦\\x1b[0m],[A♠] |3': <src.mccfr.Infoset at 0x11f9d9be0>,\n",
       " ' [4\\x1b[32m♣\\x1b[0m],[9♠] | [5\\x1b[31m♥\\x1b[0m],[T♠] |': <src.mccfr.Infoset at 0x11f9d99d0>,\n",
       " ' [4\\x1b[31m♥\\x1b[0m],[J\\x1b[34m♦\\x1b[0m] | [5\\x1b[31m♥\\x1b[0m],[T♠] |1': <src.mccfr.Infoset at 0x11f9d9d30>,\n",
       " ' [4\\x1b[32m♣\\x1b[0m],[9♠] | [5\\x1b[31m♥\\x1b[0m],[T♠] |1,3': <src.mccfr.Infoset at 0x11f9d9df0>,\n",
       " ' [4\\x1b[31m♥\\x1b[0m],[J\\x1b[34m♦\\x1b[0m] | [5\\x1b[31m♥\\x1b[0m],[T♠] |3': <src.mccfr.Infoset at 0x11f9d9dc0>,\n",
       " ' [9\\x1b[32m♣\\x1b[0m],[T\\x1b[31m♥\\x1b[0m] | [2\\x1b[31m♥\\x1b[0m],[J♠] |': <src.mccfr.Infoset at 0x11f9d9910>,\n",
       " ' [8♠],[T♠] | [2\\x1b[31m♥\\x1b[0m],[J♠] |3': <src.mccfr.Infoset at 0x11f9d9ee0>,\n",
       " ' [5♠],[7\\x1b[31m♥\\x1b[0m] | [2\\x1b[31m♥\\x1b[0m],[7♠] |': <src.mccfr.Infoset at 0x11f9d9cd0>,\n",
       " ' [2\\x1b[32m♣\\x1b[0m],[9\\x1b[31m♥\\x1b[0m] | [2\\x1b[31m♥\\x1b[0m],[7♠] |1': <src.mccfr.Infoset at 0x11f9da420>,\n",
       " ' [5♠],[7\\x1b[31m♥\\x1b[0m] | [2\\x1b[31m♥\\x1b[0m],[7♠] |1,3': <src.mccfr.Infoset at 0x11f9da4e0>,\n",
       " ' [2\\x1b[32m♣\\x1b[0m],[9\\x1b[31m♥\\x1b[0m] | [2\\x1b[31m♥\\x1b[0m],[7♠] |3': <src.mccfr.Infoset at 0x11f9da4b0>,\n",
       " ' [4\\x1b[31m♥\\x1b[0m],[7\\x1b[34m♦\\x1b[0m] | [4\\x1b[32m♣\\x1b[0m],[Q\\x1b[31m♥\\x1b[0m] |': <src.mccfr.Infoset at 0x11f9d9c10>,\n",
       " ' [Q\\x1b[34m♦\\x1b[0m],[K\\x1b[34m♦\\x1b[0m] | [4\\x1b[32m♣\\x1b[0m],[Q\\x1b[31m♥\\x1b[0m] |3': <src.mccfr.Infoset at 0x11f9da5d0>,\n",
       " ' [8♠],[J\\x1b[34m♦\\x1b[0m] | [5\\x1b[31m♥\\x1b[0m],[8\\x1b[31m♥\\x1b[0m] |': <src.mccfr.Infoset at 0x11f9da3c0>,\n",
       " ' [5\\x1b[32m♣\\x1b[0m],[Q♠] | [5\\x1b[31m♥\\x1b[0m],[8\\x1b[31m♥\\x1b[0m] |1': <src.mccfr.Infoset at 0x11f9da720>,\n",
       " ' [8♠],[J\\x1b[34m♦\\x1b[0m] | [5\\x1b[31m♥\\x1b[0m],[8\\x1b[31m♥\\x1b[0m] |1,3': <src.mccfr.Infoset at 0x11f9da7e0>,\n",
       " ' [5\\x1b[32m♣\\x1b[0m],[Q♠] | [5\\x1b[31m♥\\x1b[0m],[8\\x1b[31m♥\\x1b[0m] |3': <src.mccfr.Infoset at 0x11f9da7b0>,\n",
       " ' [4\\x1b[31m♥\\x1b[0m],[9\\x1b[34m♦\\x1b[0m] | [9\\x1b[31m♥\\x1b[0m],[K\\x1b[34m♦\\x1b[0m] |': <src.mccfr.Infoset at 0x11f9d9f10>,\n",
       " ' [2\\x1b[34m♦\\x1b[0m],[K♠] | [9\\x1b[31m♥\\x1b[0m],[K\\x1b[34m♦\\x1b[0m] |3': <src.mccfr.Infoset at 0x11f9da8d0>,\n",
       " ' [3\\x1b[32m♣\\x1b[0m],[4\\x1b[34m♦\\x1b[0m] | [7\\x1b[31m♥\\x1b[0m],[A\\x1b[31m♥\\x1b[0m] |': <src.mccfr.Infoset at 0x11f9da6c0>,\n",
       " ' [9\\x1b[31m♥\\x1b[0m],[J\\x1b[34m♦\\x1b[0m] | [7\\x1b[31m♥\\x1b[0m],[A\\x1b[31m♥\\x1b[0m] |1': <src.mccfr.Infoset at 0x11f9daa20>,\n",
       " ' [3\\x1b[32m♣\\x1b[0m],[4\\x1b[34m♦\\x1b[0m] | [7\\x1b[31m♥\\x1b[0m],[A\\x1b[31m♥\\x1b[0m] |1,3': <src.mccfr.Infoset at 0x11f9daae0>,\n",
       " ' [9\\x1b[31m♥\\x1b[0m],[J\\x1b[34m♦\\x1b[0m] | [7\\x1b[31m♥\\x1b[0m],[A\\x1b[31m♥\\x1b[0m] |3': <src.mccfr.Infoset at 0x11f9daab0>,\n",
       " ' [Q♠],[Q\\x1b[34m♦\\x1b[0m] | [5♠],[J\\x1b[34m♦\\x1b[0m] |': <src.mccfr.Infoset at 0x11f9da600>,\n",
       " ' [3\\x1b[31m♥\\x1b[0m],[5\\x1b[34m♦\\x1b[0m] | [5♠],[J\\x1b[34m♦\\x1b[0m] |3': <src.mccfr.Infoset at 0x11f9dabd0>,\n",
       " ' [5\\x1b[34m♦\\x1b[0m],[T\\x1b[32m♣\\x1b[0m] | [3\\x1b[32m♣\\x1b[0m],[T\\x1b[34m♦\\x1b[0m] |': <src.mccfr.Infoset at 0x11f9da9c0>,\n",
       " ' [7♠],[Q\\x1b[31m♥\\x1b[0m] | [3\\x1b[32m♣\\x1b[0m],[T\\x1b[34m♦\\x1b[0m] |1': <src.mccfr.Infoset at 0x11f9dad20>,\n",
       " ' [5\\x1b[34m♦\\x1b[0m],[T\\x1b[32m♣\\x1b[0m] | [3\\x1b[32m♣\\x1b[0m],[T\\x1b[34m♦\\x1b[0m] |1,3': <src.mccfr.Infoset at 0x11f9dade0>,\n",
       " ' [7♠],[Q\\x1b[31m♥\\x1b[0m] | [3\\x1b[32m♣\\x1b[0m],[T\\x1b[34m♦\\x1b[0m] |3': <src.mccfr.Infoset at 0x11f9dadb0>,\n",
       " ' [2\\x1b[34m♦\\x1b[0m],[4\\x1b[32m♣\\x1b[0m] | [T\\x1b[34m♦\\x1b[0m],[Q\\x1b[34m♦\\x1b[0m] |': <src.mccfr.Infoset at 0x11f9da900>,\n",
       " ' [K\\x1b[34m♦\\x1b[0m],[K\\x1b[32m♣\\x1b[0m] | [T\\x1b[34m♦\\x1b[0m],[Q\\x1b[34m♦\\x1b[0m] |3': <src.mccfr.Infoset at 0x11f9daed0>,\n",
       " ' [3\\x1b[32m♣\\x1b[0m],[K\\x1b[34m♦\\x1b[0m] | [3♠],[K\\x1b[32m♣\\x1b[0m] |': <src.mccfr.Infoset at 0x11f9dacc0>,\n",
       " ' [2\\x1b[34m♦\\x1b[0m],[4\\x1b[31m♥\\x1b[0m] | [3♠],[K\\x1b[32m♣\\x1b[0m] |1': <src.mccfr.Infoset at 0x11f9db020>,\n",
       " ' [3\\x1b[32m♣\\x1b[0m],[K\\x1b[34m♦\\x1b[0m] | [3♠],[K\\x1b[32m♣\\x1b[0m] |1,3': <src.mccfr.Infoset at 0x11f9db0e0>,\n",
       " ' [2\\x1b[34m♦\\x1b[0m],[4\\x1b[31m♥\\x1b[0m] | [3♠],[K\\x1b[32m♣\\x1b[0m] |3': <src.mccfr.Infoset at 0x11f9db0b0>,\n",
       " ' [6\\x1b[31m♥\\x1b[0m],[J\\x1b[32m♣\\x1b[0m] | [3\\x1b[31m♥\\x1b[0m],[5♠] |': <src.mccfr.Infoset at 0x11f9dac00>,\n",
       " ' [4\\x1b[32m♣\\x1b[0m],[Q\\x1b[32m♣\\x1b[0m] | [3\\x1b[31m♥\\x1b[0m],[5♠] |3': <src.mccfr.Infoset at 0x11f9db1d0>,\n",
       " ' [5\\x1b[34m♦\\x1b[0m],[J\\x1b[34m♦\\x1b[0m] | [2\\x1b[31m♥\\x1b[0m],[9\\x1b[34m♦\\x1b[0m] |': <src.mccfr.Infoset at 0x11f9dafc0>,\n",
       " ' [6\\x1b[31m♥\\x1b[0m],[J♠] | [2\\x1b[31m♥\\x1b[0m],[9\\x1b[34m♦\\x1b[0m] |1': <src.mccfr.Infoset at 0x11f9db320>,\n",
       " ' [5\\x1b[34m♦\\x1b[0m],[J\\x1b[34m♦\\x1b[0m] | [2\\x1b[31m♥\\x1b[0m],[9\\x1b[34m♦\\x1b[0m] |1,3': <src.mccfr.Infoset at 0x11f9db3e0>,\n",
       " ' [6\\x1b[31m♥\\x1b[0m],[J♠] | [2\\x1b[31m♥\\x1b[0m],[9\\x1b[34m♦\\x1b[0m] |3': <src.mccfr.Infoset at 0x11f9db3b0>,\n",
       " ' [3\\x1b[31m♥\\x1b[0m],[7♠] | [4\\x1b[34m♦\\x1b[0m],[Q\\x1b[34m♦\\x1b[0m] |': <src.mccfr.Infoset at 0x11f9daf00>,\n",
       " ' [6♠],[T\\x1b[32m♣\\x1b[0m] | [4\\x1b[34m♦\\x1b[0m],[Q\\x1b[34m♦\\x1b[0m] |3': <src.mccfr.Infoset at 0x11f9db4d0>,\n",
       " ' [2\\x1b[32m♣\\x1b[0m],[A♠] | [6\\x1b[34m♦\\x1b[0m],[Q\\x1b[32m♣\\x1b[0m] |': <src.mccfr.Infoset at 0x11f9db2c0>,\n",
       " ' [4♠],[A\\x1b[34m♦\\x1b[0m] | [6\\x1b[34m♦\\x1b[0m],[Q\\x1b[32m♣\\x1b[0m] |1': <src.mccfr.Infoset at 0x11f9db620>,\n",
       " ' [2\\x1b[32m♣\\x1b[0m],[A♠] | [6\\x1b[34m♦\\x1b[0m],[Q\\x1b[32m♣\\x1b[0m] |1,3': <src.mccfr.Infoset at 0x11f9db6e0>,\n",
       " ' [4♠],[A\\x1b[34m♦\\x1b[0m] | [6\\x1b[34m♦\\x1b[0m],[Q\\x1b[32m♣\\x1b[0m] |3': <src.mccfr.Infoset at 0x11f9db6b0>,\n",
       " ' [7\\x1b[34m♦\\x1b[0m],[9\\x1b[32m♣\\x1b[0m] | [7\\x1b[31m♥\\x1b[0m],[7\\x1b[32m♣\\x1b[0m] |': <src.mccfr.Infoset at 0x11f993b00>,\n",
       " ' [8\\x1b[31m♥\\x1b[0m],[J\\x1b[31m♥\\x1b[0m] | [7\\x1b[31m♥\\x1b[0m],[7\\x1b[32m♣\\x1b[0m] |3': <src.mccfr.Infoset at 0x11f9937a0>,\n",
       " ' [6♠],[6\\x1b[32m♣\\x1b[0m] | [J♠],[Q\\x1b[31m♥\\x1b[0m] |': <src.mccfr.Infoset at 0x11f9933e0>,\n",
       " ' [4♠],[8♠] | [J♠],[Q\\x1b[31m♥\\x1b[0m] |1': <src.mccfr.Infoset at 0x11f9930b0>,\n",
       " ' [6♠],[6\\x1b[32m♣\\x1b[0m] | [J♠],[Q\\x1b[31m♥\\x1b[0m] |1,3': <src.mccfr.Infoset at 0x11f992c90>,\n",
       " ' [4♠],[8♠] | [J♠],[Q\\x1b[31m♥\\x1b[0m] |3': <src.mccfr.Infoset at 0x11f992fc0>,\n",
       " ' [5\\x1b[32m♣\\x1b[0m],[7\\x1b[31m♥\\x1b[0m] | [2\\x1b[31m♥\\x1b[0m],[8♠] |': <src.mccfr.Infoset at 0x11f993860>,\n",
       " ' [3\\x1b[31m♥\\x1b[0m],[5\\x1b[34m♦\\x1b[0m] | [2\\x1b[31m♥\\x1b[0m],[8♠] |3': <src.mccfr.Infoset at 0x11f992a50>,\n",
       " ' [3\\x1b[34m♦\\x1b[0m],[9\\x1b[32m♣\\x1b[0m] | [6\\x1b[34m♦\\x1b[0m],[Q\\x1b[32m♣\\x1b[0m] |': <src.mccfr.Infoset at 0x11f993410>,\n",
       " ' [6\\x1b[31m♥\\x1b[0m],[J\\x1b[32m♣\\x1b[0m] | [6\\x1b[34m♦\\x1b[0m],[Q\\x1b[32m♣\\x1b[0m] |1': <src.mccfr.Infoset at 0x11f992420>,\n",
       " ' [3\\x1b[34m♦\\x1b[0m],[9\\x1b[32m♣\\x1b[0m] | [6\\x1b[34m♦\\x1b[0m],[Q\\x1b[32m♣\\x1b[0m] |1,3': <src.mccfr.Infoset at 0x11f992240>,\n",
       " ' [6\\x1b[31m♥\\x1b[0m],[J\\x1b[32m♣\\x1b[0m] | [6\\x1b[34m♦\\x1b[0m],[Q\\x1b[32m♣\\x1b[0m] |3': <src.mccfr.Infoset at 0x11f992360>,\n",
       " ' [T\\x1b[32m♣\\x1b[0m],[Q♠] | [9\\x1b[31m♥\\x1b[0m],[T♠] |': <src.mccfr.Infoset at 0x11f993980>,\n",
       " ' [3\\x1b[31m♥\\x1b[0m],[4♠] | [9\\x1b[31m♥\\x1b[0m],[T♠] |3': <src.mccfr.Infoset at 0x11f992090>,\n",
       " ' [Q\\x1b[34m♦\\x1b[0m],[K\\x1b[34m♦\\x1b[0m] | [6♠],[7\\x1b[32m♣\\x1b[0m] |': <src.mccfr.Infoset at 0x11f992570>,\n",
       " ' [Q\\x1b[32m♣\\x1b[0m],[K♠] | [6♠],[7\\x1b[32m♣\\x1b[0m] |1': <src.mccfr.Infoset at 0x10a254f80>,\n",
       " ' [Q\\x1b[34m♦\\x1b[0m],[K\\x1b[34m♦\\x1b[0m] | [6♠],[7\\x1b[32m♣\\x1b[0m] |1,3': <src.mccfr.Infoset at 0x11ce9c8f0>,\n",
       " ' [Q\\x1b[32m♣\\x1b[0m],[K♠] | [6♠],[7\\x1b[32m♣\\x1b[0m] |3': <src.mccfr.Infoset at 0x11f9db710>,\n",
       " ' [4♠],[T\\x1b[31m♥\\x1b[0m] | [6\\x1b[32m♣\\x1b[0m],[A♠] |': <src.mccfr.Infoset at 0x11f992870>,\n",
       " ' [2\\x1b[32m♣\\x1b[0m],[K\\x1b[34m♦\\x1b[0m] | [6\\x1b[32m♣\\x1b[0m],[A♠] |3': <src.mccfr.Infoset at 0x11f9db440>,\n",
       " ' [2\\x1b[31m♥\\x1b[0m],[3\\x1b[31m♥\\x1b[0m] | [4♠],[4\\x1b[32m♣\\x1b[0m] |': <src.mccfr.Infoset at 0x11f991e50>,\n",
       " ' [2\\x1b[32m♣\\x1b[0m],[5\\x1b[34m♦\\x1b[0m] | [4♠],[4\\x1b[32m♣\\x1b[0m] |1': <src.mccfr.Infoset at 0x11f9dad80>,\n",
       " ' [2\\x1b[31m♥\\x1b[0m],[3\\x1b[31m♥\\x1b[0m] | [4♠],[4\\x1b[32m♣\\x1b[0m] |1,3': <src.mccfr.Infoset at 0x11f9daa80>,\n",
       " ' [2\\x1b[32m♣\\x1b[0m],[5\\x1b[34m♦\\x1b[0m] | [4♠],[4\\x1b[32m♣\\x1b[0m] |3': <src.mccfr.Infoset at 0x11f9dac60>,\n",
       " ' [4\\x1b[32m♣\\x1b[0m],[T\\x1b[31m♥\\x1b[0m] | [3♠],[5\\x1b[31m♥\\x1b[0m] |': <src.mccfr.Infoset at 0x11f991f10>,\n",
       " ' [7\\x1b[32m♣\\x1b[0m],[9\\x1b[31m♥\\x1b[0m] | [3♠],[5\\x1b[31m♥\\x1b[0m] |3': <src.mccfr.Infoset at 0x11f9da840>,\n",
       " ' [4\\x1b[32m♣\\x1b[0m],[8\\x1b[32m♣\\x1b[0m] | [9\\x1b[32m♣\\x1b[0m],[J\\x1b[34m♦\\x1b[0m] |': <src.mccfr.Infoset at 0x11f9daf30>,\n",
       " ' [3♠],[Q♠] | [9\\x1b[32m♣\\x1b[0m],[J\\x1b[34m♦\\x1b[0m] |1': <src.mccfr.Infoset at 0x11f9d9d90>,\n",
       " ' [4\\x1b[32m♣\\x1b[0m],[8\\x1b[32m♣\\x1b[0m] | [9\\x1b[32m♣\\x1b[0m],[J\\x1b[34m♦\\x1b[0m] |1,3': <src.mccfr.Infoset at 0x11f9d9a90>,\n",
       " ' [3♠],[Q♠] | [9\\x1b[32m♣\\x1b[0m],[J\\x1b[34m♦\\x1b[0m] |3': <src.mccfr.Infoset at 0x11f9d9c70>,\n",
       " ' [K♠],[K\\x1b[32m♣\\x1b[0m] | [7\\x1b[32m♣\\x1b[0m],[8\\x1b[34m♦\\x1b[0m] |': <src.mccfr.Infoset at 0x11f9db230>,\n",
       " ' [4\\x1b[31m♥\\x1b[0m],[J\\x1b[31m♥\\x1b[0m] | [7\\x1b[32m♣\\x1b[0m],[8\\x1b[34m♦\\x1b[0m] |3': <src.mccfr.Infoset at 0x11f9d9850>,\n",
       " ' [T\\x1b[32m♣\\x1b[0m],[K\\x1b[34m♦\\x1b[0m] | [4\\x1b[31m♥\\x1b[0m],[9\\x1b[32m♣\\x1b[0m] |': <src.mccfr.Infoset at 0x11f9d9f40>,\n",
       " ' [K♠],[A♠] | [4\\x1b[31m♥\\x1b[0m],[9\\x1b[32m♣\\x1b[0m] |1': <src.mccfr.Infoset at 0x11f9d9190>,\n",
       " ' [T\\x1b[32m♣\\x1b[0m],[K\\x1b[34m♦\\x1b[0m] | [4\\x1b[31m♥\\x1b[0m],[9\\x1b[32m♣\\x1b[0m] |1,3': <src.mccfr.Infoset at 0x11f9d8e90>,\n",
       " ' [K♠],[A♠] | [4\\x1b[31m♥\\x1b[0m],[9\\x1b[32m♣\\x1b[0m] |3': <src.mccfr.Infoset at 0x11f9d9070>,\n",
       " ' [4\\x1b[31m♥\\x1b[0m],[Q♠] | [3♠],[5\\x1b[32m♣\\x1b[0m] |': <src.mccfr.Infoset at 0x11f9da630>,\n",
       " ' [9\\x1b[34m♦\\x1b[0m],[A\\x1b[32m♣\\x1b[0m] | [3♠],[5\\x1b[32m♣\\x1b[0m] |3': <src.mccfr.Infoset at 0x11f9d8c50>,\n",
       " ' [2♠],[Q\\x1b[31m♥\\x1b[0m] | [4\\x1b[31m♥\\x1b[0m],[T♠] |': <src.mccfr.Infoset at 0x11f9d9340>,\n",
       " ' [6\\x1b[32m♣\\x1b[0m],[Q\\x1b[34m♦\\x1b[0m] | [4\\x1b[31m♥\\x1b[0m],[T♠] |1': <src.mccfr.Infoset at 0x11f9d8590>,\n",
       " ' [2♠],[Q\\x1b[31m♥\\x1b[0m] | [4\\x1b[31m♥\\x1b[0m],[T♠] |1,3': <src.mccfr.Infoset at 0x11f9d8320>,\n",
       " ' [6\\x1b[32m♣\\x1b[0m],[Q\\x1b[34m♦\\x1b[0m] | [4\\x1b[31m♥\\x1b[0m],[T♠] |3': <src.mccfr.Infoset at 0x11f9d84a0>,\n",
       " ' [3\\x1b[31m♥\\x1b[0m],[4\\x1b[32m♣\\x1b[0m] | [9\\x1b[31m♥\\x1b[0m],[Q\\x1b[32m♣\\x1b[0m] |': <src.mccfr.Infoset at 0x11f9d9640>,\n",
       " ' [3\\x1b[32m♣\\x1b[0m],[9♠] | [9\\x1b[31m♥\\x1b[0m],[Q\\x1b[32m♣\\x1b[0m] |3': <src.mccfr.Infoset at 0x11f9d80e0>,\n",
       " ' [5\\x1b[31m♥\\x1b[0m],[7\\x1b[31m♥\\x1b[0m] | [8\\x1b[34m♦\\x1b[0m],[A\\x1b[32m♣\\x1b[0m] |': <src.mccfr.Infoset at 0x11f9d8740>,\n",
       " ' [2\\x1b[31m♥\\x1b[0m],[3\\x1b[34m♦\\x1b[0m] | [8\\x1b[34m♦\\x1b[0m],[A\\x1b[32m♣\\x1b[0m] |1': <src.mccfr.Infoset at 0x11f9db860>,\n",
       " ' [5\\x1b[31m♥\\x1b[0m],[7\\x1b[31m♥\\x1b[0m] | [8\\x1b[34m♦\\x1b[0m],[A\\x1b[32m♣\\x1b[0m] |1,3': <src.mccfr.Infoset at 0x11f9db920>,\n",
       " ' [2\\x1b[31m♥\\x1b[0m],[3\\x1b[34m♦\\x1b[0m] | [8\\x1b[34m♦\\x1b[0m],[A\\x1b[32m♣\\x1b[0m] |3': <src.mccfr.Infoset at 0x11f9db8f0>,\n",
       " ' [8\\x1b[34m♦\\x1b[0m],[K\\x1b[31m♥\\x1b[0m] | [2\\x1b[34m♦\\x1b[0m],[A♠] |': <src.mccfr.Infoset at 0x11f9d8a40>,\n",
       " ' [4♠],[7\\x1b[34m♦\\x1b[0m] | [2\\x1b[34m♦\\x1b[0m],[A♠] |3': <src.mccfr.Infoset at 0x11f9dba10>,\n",
       " ' [9\\x1b[31m♥\\x1b[0m],[T♠] | [3♠],[7♠] |': <src.mccfr.Infoset at 0x11f9db800>,\n",
       " ' [5♠],[A\\x1b[32m♣\\x1b[0m] | [3♠],[7♠] |1': <src.mccfr.Infoset at 0x11f9dbb60>,\n",
       " ' [9\\x1b[31m♥\\x1b[0m],[T♠] | [3♠],[7♠] |1,3': <src.mccfr.Infoset at 0x11f9dbc20>,\n",
       " ' [5♠],[A\\x1b[32m♣\\x1b[0m] | [3♠],[7♠] |3': <src.mccfr.Infoset at 0x11f9dbbf0>,\n",
       " ' [3\\x1b[32m♣\\x1b[0m],[K♠] | [4\\x1b[34m♦\\x1b[0m],[8\\x1b[34m♦\\x1b[0m] |': <src.mccfr.Infoset at 0x11f9d8110>,\n",
       " ' [4♠],[7\\x1b[32m♣\\x1b[0m] | [4\\x1b[34m♦\\x1b[0m],[8\\x1b[34m♦\\x1b[0m] |3': <src.mccfr.Infoset at 0x11f9dbd10>,\n",
       " ' [3\\x1b[31m♥\\x1b[0m],[T♠] | [8\\x1b[34m♦\\x1b[0m],[T\\x1b[32m♣\\x1b[0m] |': <src.mccfr.Infoset at 0x11ef91340>,\n",
       " ' [J\\x1b[32m♣\\x1b[0m],[Q\\x1b[32m♣\\x1b[0m] | [8\\x1b[34m♦\\x1b[0m],[T\\x1b[32m♣\\x1b[0m] |1': <src.mccfr.Infoset at 0x11f9dbec0>,\n",
       " ' [3\\x1b[31m♥\\x1b[0m],[T♠] | [8\\x1b[34m♦\\x1b[0m],[T\\x1b[32m♣\\x1b[0m] |1,3': <src.mccfr.Infoset at 0x11f9dbf80>,\n",
       " ' [J\\x1b[32m♣\\x1b[0m],[Q\\x1b[32m♣\\x1b[0m] | [8\\x1b[34m♦\\x1b[0m],[T\\x1b[32m♣\\x1b[0m] |3': <src.mccfr.Infoset at 0x11f9dbf50>,\n",
       " ' [9\\x1b[34m♦\\x1b[0m],[T\\x1b[31m♥\\x1b[0m] | [5\\x1b[34m♦\\x1b[0m],[T\\x1b[34m♦\\x1b[0m] |': <src.mccfr.Infoset at 0x11f9dba40>,\n",
       " ' [2\\x1b[31m♥\\x1b[0m],[6\\x1b[34m♦\\x1b[0m] | [5\\x1b[34m♦\\x1b[0m],[T\\x1b[34m♦\\x1b[0m] |3': <src.mccfr.Infoset at 0x12eb780b0>,\n",
       " ' [T♠],[T\\x1b[31m♥\\x1b[0m] | [6\\x1b[34m♦\\x1b[0m],[J\\x1b[34m♦\\x1b[0m] |': <src.mccfr.Infoset at 0x11f9dbe30>,\n",
       " ' [2\\x1b[34m♦\\x1b[0m],[Q♠] | [6\\x1b[34m♦\\x1b[0m],[J\\x1b[34m♦\\x1b[0m] |1': <src.mccfr.Infoset at 0x12eb78200>,\n",
       " ' [T♠],[T\\x1b[31m♥\\x1b[0m] | [6\\x1b[34m♦\\x1b[0m],[J\\x1b[34m♦\\x1b[0m] |1,3': <src.mccfr.Infoset at 0x12eb782c0>,\n",
       " ' [2\\x1b[34m♦\\x1b[0m],[Q♠] | [6\\x1b[34m♦\\x1b[0m],[J\\x1b[34m♦\\x1b[0m] |3': <src.mccfr.Infoset at 0x12eb78290>,\n",
       " ' [2♠],[Q♠] | [5\\x1b[31m♥\\x1b[0m],[J\\x1b[34m♦\\x1b[0m] |': <src.mccfr.Infoset at 0x11f9dbd40>,\n",
       " ' [2\\x1b[32m♣\\x1b[0m],[3♠] | [5\\x1b[31m♥\\x1b[0m],[J\\x1b[34m♦\\x1b[0m] |3': <src.mccfr.Infoset at 0x12eb783b0>,\n",
       " ' [7\\x1b[34m♦\\x1b[0m],[K\\x1b[32m♣\\x1b[0m] | [4\\x1b[31m♥\\x1b[0m],[6♠] |': <src.mccfr.Infoset at 0x12eb781a0>,\n",
       " ' [6\\x1b[34m♦\\x1b[0m],[8♠] | [4\\x1b[31m♥\\x1b[0m],[6♠] |1': <src.mccfr.Infoset at 0x12eb78500>,\n",
       " ' [7\\x1b[34m♦\\x1b[0m],[K\\x1b[32m♣\\x1b[0m] | [4\\x1b[31m♥\\x1b[0m],[6♠] |1,3': <src.mccfr.Infoset at 0x12eb785c0>,\n",
       " ' [6\\x1b[34m♦\\x1b[0m],[8♠] | [4\\x1b[31m♥\\x1b[0m],[6♠] |3': <src.mccfr.Infoset at 0x12eb78590>,\n",
       " ' [9\\x1b[31m♥\\x1b[0m],[K\\x1b[31m♥\\x1b[0m] | [3♠],[8♠] |': <src.mccfr.Infoset at 0x12eb780e0>,\n",
       " ' [Q\\x1b[31m♥\\x1b[0m],[K\\x1b[32m♣\\x1b[0m] | [3♠],[8♠] |3': <src.mccfr.Infoset at 0x12eb786b0>,\n",
       " ' [T\\x1b[34m♦\\x1b[0m],[T\\x1b[32m♣\\x1b[0m] | [K\\x1b[31m♥\\x1b[0m],[K\\x1b[34m♦\\x1b[0m] |': <src.mccfr.Infoset at 0x12eb784a0>,\n",
       " ' [J\\x1b[31m♥\\x1b[0m],[J\\x1b[32m♣\\x1b[0m] | [K\\x1b[31m♥\\x1b[0m],[K\\x1b[34m♦\\x1b[0m] |1': <src.mccfr.Infoset at 0x12eb78800>,\n",
       " ' [T\\x1b[34m♦\\x1b[0m],[T\\x1b[32m♣\\x1b[0m] | [K\\x1b[31m♥\\x1b[0m],[K\\x1b[34m♦\\x1b[0m] |1,3': <src.mccfr.Infoset at 0x12eb788c0>,\n",
       " ' [J\\x1b[31m♥\\x1b[0m],[J\\x1b[32m♣\\x1b[0m] | [K\\x1b[31m♥\\x1b[0m],[K\\x1b[34m♦\\x1b[0m] |3': <src.mccfr.Infoset at 0x12eb78890>,\n",
       " ' [4\\x1b[32m♣\\x1b[0m],[T\\x1b[32m♣\\x1b[0m] | [K♠],[A♠] |': <src.mccfr.Infoset at 0x12eb783e0>,\n",
       " ' [7♠],[9\\x1b[32m♣\\x1b[0m] | [K♠],[A♠] |3': <src.mccfr.Infoset at 0x12eb789b0>,\n",
       " ' [6♠],[A\\x1b[34m♦\\x1b[0m] | [8\\x1b[34m♦\\x1b[0m],[9\\x1b[32m♣\\x1b[0m] |': <src.mccfr.Infoset at 0x12eb787a0>,\n",
       " ' [4\\x1b[34m♦\\x1b[0m],[6\\x1b[32m♣\\x1b[0m] | [8\\x1b[34m♦\\x1b[0m],[9\\x1b[32m♣\\x1b[0m] |1': <src.mccfr.Infoset at 0x12eb78b00>,\n",
       " ' [6♠],[A\\x1b[34m♦\\x1b[0m] | [8\\x1b[34m♦\\x1b[0m],[9\\x1b[32m♣\\x1b[0m] |1,3': <src.mccfr.Infoset at 0x12eb78bc0>,\n",
       " ' [4\\x1b[34m♦\\x1b[0m],[6\\x1b[32m♣\\x1b[0m] | [8\\x1b[34m♦\\x1b[0m],[9\\x1b[32m♣\\x1b[0m] |3': <src.mccfr.Infoset at 0x12eb78b90>,\n",
       " ' [4\\x1b[34m♦\\x1b[0m],[K\\x1b[32m♣\\x1b[0m] | [5\\x1b[32m♣\\x1b[0m],[A\\x1b[31m♥\\x1b[0m] |': <src.mccfr.Infoset at 0x12eb786e0>,\n",
       " ' [2\\x1b[34m♦\\x1b[0m],[9\\x1b[31m♥\\x1b[0m] | [5\\x1b[32m♣\\x1b[0m],[A\\x1b[31m♥\\x1b[0m] |3': <src.mccfr.Infoset at 0x12eb78cb0>,\n",
       " ' [5♠],[9\\x1b[34m♦\\x1b[0m] | [4♠],[7\\x1b[31m♥\\x1b[0m] |': <src.mccfr.Infoset at 0x12eb78aa0>,\n",
       " ' [8\\x1b[34m♦\\x1b[0m],[9\\x1b[32m♣\\x1b[0m] | [4♠],[7\\x1b[31m♥\\x1b[0m] |1': <src.mccfr.Infoset at 0x12eb78e00>,\n",
       " ' [5♠],[9\\x1b[34m♦\\x1b[0m] | [4♠],[7\\x1b[31m♥\\x1b[0m] |1,3': <src.mccfr.Infoset at 0x12eb78ec0>,\n",
       " ' [8\\x1b[34m♦\\x1b[0m],[9\\x1b[32m♣\\x1b[0m] | [4♠],[7\\x1b[31m♥\\x1b[0m] |3': <src.mccfr.Infoset at 0x12eb78e90>,\n",
       " ' [4\\x1b[31m♥\\x1b[0m],[5♠] | [4\\x1b[32m♣\\x1b[0m],[K\\x1b[31m♥\\x1b[0m] |': <src.mccfr.Infoset at 0x12eb789e0>,\n",
       " ' [4♠],[5\\x1b[31m♥\\x1b[0m] | [4\\x1b[32m♣\\x1b[0m],[K\\x1b[31m♥\\x1b[0m] |3': <src.mccfr.Infoset at 0x12eb78fb0>,\n",
       " ' [9\\x1b[32m♣\\x1b[0m],[K♠] | [5\\x1b[31m♥\\x1b[0m],[Q♠] |': <src.mccfr.Infoset at 0x12eb78da0>,\n",
       " ' [3\\x1b[32m♣\\x1b[0m],[Q\\x1b[31m♥\\x1b[0m] | [5\\x1b[31m♥\\x1b[0m],[Q♠] |1': <src.mccfr.Infoset at 0x12eb79100>,\n",
       " ' [9\\x1b[32m♣\\x1b[0m],[K♠] | [5\\x1b[31m♥\\x1b[0m],[Q♠] |1,3': <src.mccfr.Infoset at 0x12eb791c0>,\n",
       " ' [3\\x1b[32m♣\\x1b[0m],[Q\\x1b[31m♥\\x1b[0m] | [5\\x1b[31m♥\\x1b[0m],[Q♠] |3': <src.mccfr.Infoset at 0x12eb79190>,\n",
       " ' [4\\x1b[31m♥\\x1b[0m],[9\\x1b[31m♥\\x1b[0m] | [K♠],[A♠] |': <src.mccfr.Infoset at 0x12eb78ce0>,\n",
       " ' [2♠],[A\\x1b[34m♦\\x1b[0m] | [K♠],[A♠] |3': <src.mccfr.Infoset at 0x12eb792b0>,\n",
       " ' [J\\x1b[31m♥\\x1b[0m],[J\\x1b[34m♦\\x1b[0m] | [4\\x1b[34m♦\\x1b[0m],[T\\x1b[31m♥\\x1b[0m] |': <src.mccfr.Infoset at 0x12eb790a0>,\n",
       " ' [T♠],[J♠] | [4\\x1b[34m♦\\x1b[0m],[T\\x1b[31m♥\\x1b[0m] |1': <src.mccfr.Infoset at 0x12eb79400>,\n",
       " ' [J\\x1b[31m♥\\x1b[0m],[J\\x1b[34m♦\\x1b[0m] | [4\\x1b[34m♦\\x1b[0m],[T\\x1b[31m♥\\x1b[0m] |1,3': <src.mccfr.Infoset at 0x12eb794c0>,\n",
       " ' [T♠],[J♠] | [4\\x1b[34m♦\\x1b[0m],[T\\x1b[31m♥\\x1b[0m] |3': <src.mccfr.Infoset at 0x12eb79490>,\n",
       " ' [3♠],[J\\x1b[32m♣\\x1b[0m] | [J\\x1b[34m♦\\x1b[0m],[K\\x1b[32m♣\\x1b[0m] |': <src.mccfr.Infoset at 0x12eb78fe0>,\n",
       " ' [7\\x1b[31m♥\\x1b[0m],[7\\x1b[32m♣\\x1b[0m] | [J\\x1b[34m♦\\x1b[0m],[K\\x1b[32m♣\\x1b[0m] |3': <src.mccfr.Infoset at 0x12eb795b0>,\n",
       " ' [J\\x1b[31m♥\\x1b[0m],[A\\x1b[31m♥\\x1b[0m] | [3\\x1b[32m♣\\x1b[0m],[5\\x1b[32m♣\\x1b[0m] |': <src.mccfr.Infoset at 0x12eb793a0>,\n",
       " ' [3♠],[9♠] | [3\\x1b[32m♣\\x1b[0m],[5\\x1b[32m♣\\x1b[0m] |1': <src.mccfr.Infoset at 0x12eb79700>,\n",
       " ' [J\\x1b[31m♥\\x1b[0m],[A\\x1b[31m♥\\x1b[0m] | [3\\x1b[32m♣\\x1b[0m],[5\\x1b[32m♣\\x1b[0m] |1,3': <src.mccfr.Infoset at 0x12eb797c0>,\n",
       " ' [3♠],[9♠] | [3\\x1b[32m♣\\x1b[0m],[5\\x1b[32m♣\\x1b[0m] |3': <src.mccfr.Infoset at 0x12eb79790>,\n",
       " ' [4\\x1b[31m♥\\x1b[0m],[5♠] | [4♠],[9\\x1b[31m♥\\x1b[0m] |': <src.mccfr.Infoset at 0x12eb792e0>,\n",
       " ' [4\\x1b[32m♣\\x1b[0m],[T\\x1b[34m♦\\x1b[0m] | [4♠],[9\\x1b[31m♥\\x1b[0m] |3': <src.mccfr.Infoset at 0x12eb798b0>,\n",
       " ' [J♠],[J\\x1b[34m♦\\x1b[0m] | [4\\x1b[34m♦\\x1b[0m],[7\\x1b[34m♦\\x1b[0m] |': <src.mccfr.Infoset at 0x12eb796a0>,\n",
       " ' [3♠],[8\\x1b[32m♣\\x1b[0m] | [4\\x1b[34m♦\\x1b[0m],[7\\x1b[34m♦\\x1b[0m] |1': <src.mccfr.Infoset at 0x12eb79a00>,\n",
       " ' [J♠],[J\\x1b[34m♦\\x1b[0m] | [4\\x1b[34m♦\\x1b[0m],[7\\x1b[34m♦\\x1b[0m] |1,3': <src.mccfr.Infoset at 0x12eb79ac0>,\n",
       " ' [3♠],[8\\x1b[32m♣\\x1b[0m] | [4\\x1b[34m♦\\x1b[0m],[7\\x1b[34m♦\\x1b[0m] |3': <src.mccfr.Infoset at 0x12eb79a90>,\n",
       " ' [3♠],[8\\x1b[32m♣\\x1b[0m] | [3\\x1b[32m♣\\x1b[0m],[8\\x1b[31m♥\\x1b[0m] |': <src.mccfr.Infoset at 0x12eb795e0>,\n",
       " ' [4\\x1b[32m♣\\x1b[0m],[5\\x1b[31m♥\\x1b[0m] | [3\\x1b[32m♣\\x1b[0m],[8\\x1b[31m♥\\x1b[0m] |3': <src.mccfr.Infoset at 0x12eb79bb0>,\n",
       " ' [7\\x1b[31m♥\\x1b[0m],[9\\x1b[31m♥\\x1b[0m] | [8♠],[A\\x1b[32m♣\\x1b[0m] |': <src.mccfr.Infoset at 0x12eb799a0>,\n",
       " ' [7♠],[7\\x1b[34m♦\\x1b[0m] | [8♠],[A\\x1b[32m♣\\x1b[0m] |1': <src.mccfr.Infoset at 0x12eb79d00>,\n",
       " ' [7\\x1b[31m♥\\x1b[0m],[9\\x1b[31m♥\\x1b[0m] | [8♠],[A\\x1b[32m♣\\x1b[0m] |1,3': <src.mccfr.Infoset at 0x12eb79dc0>,\n",
       " ' [7♠],[7\\x1b[34m♦\\x1b[0m] | [8♠],[A\\x1b[32m♣\\x1b[0m] |3': <src.mccfr.Infoset at 0x12eb79d90>,\n",
       " ' [4\\x1b[32m♣\\x1b[0m],[9\\x1b[32m♣\\x1b[0m] | [5♠],[A\\x1b[31m♥\\x1b[0m] |': <src.mccfr.Infoset at 0x12eb798e0>,\n",
       " ' [4♠],[J\\x1b[34m♦\\x1b[0m] | [5♠],[A\\x1b[31m♥\\x1b[0m] |3': <src.mccfr.Infoset at 0x12eb79eb0>,\n",
       " ' [8♠],[K\\x1b[32m♣\\x1b[0m] | [5\\x1b[34m♦\\x1b[0m],[A\\x1b[31m♥\\x1b[0m] |': <src.mccfr.Infoset at 0x12eb79ca0>,\n",
       " ' [2\\x1b[32m♣\\x1b[0m],[J\\x1b[31m♥\\x1b[0m] | [5\\x1b[34m♦\\x1b[0m],[A\\x1b[31m♥\\x1b[0m] |1': <src.mccfr.Infoset at 0x12eb7a000>,\n",
       " ' [8♠],[K\\x1b[32m♣\\x1b[0m] | [5\\x1b[34m♦\\x1b[0m],[A\\x1b[31m♥\\x1b[0m] |1,3': <src.mccfr.Infoset at 0x12eb7a0c0>,\n",
       " ' [2\\x1b[32m♣\\x1b[0m],[J\\x1b[31m♥\\x1b[0m] | [5\\x1b[34m♦\\x1b[0m],[A\\x1b[31m♥\\x1b[0m] |3': <src.mccfr.Infoset at 0x12eb7a090>,\n",
       " ' [5\\x1b[34m♦\\x1b[0m],[J♠] | [8♠],[A♠] |': <src.mccfr.Infoset at 0x12eb79be0>,\n",
       " ' [Q\\x1b[31m♥\\x1b[0m],[K♠] | [8♠],[A♠] |3': <src.mccfr.Infoset at 0x12eb7a1b0>,\n",
       " ' [7♠],[8\\x1b[32m♣\\x1b[0m] | [4\\x1b[31m♥\\x1b[0m],[K♠] |': <src.mccfr.Infoset at 0x12eb7a2a0>,\n",
       " ' [5\\x1b[32m♣\\x1b[0m],[9\\x1b[32m♣\\x1b[0m] | [4\\x1b[31m♥\\x1b[0m],[K♠] |1': <src.mccfr.Infoset at 0x12eb7a360>,\n",
       " ' [7♠],[8\\x1b[32m♣\\x1b[0m] | [4\\x1b[31m♥\\x1b[0m],[K♠] |1,3': <src.mccfr.Infoset at 0x12eb7a420>,\n",
       " ' [5\\x1b[32m♣\\x1b[0m],[9\\x1b[32m♣\\x1b[0m] | [4\\x1b[31m♥\\x1b[0m],[K♠] |3': <src.mccfr.Infoset at 0x12eb7a3f0>,\n",
       " ' [4♠],[4\\x1b[31m♥\\x1b[0m] | [8♠],[9\\x1b[32m♣\\x1b[0m] |': <src.mccfr.Infoset at 0x12eb79ee0>,\n",
       " ' [8\\x1b[31m♥\\x1b[0m],[A\\x1b[31m♥\\x1b[0m] | [8♠],[9\\x1b[32m♣\\x1b[0m] |3': <src.mccfr.Infoset at 0x12eb7a510>,\n",
       " ' [3\\x1b[34m♦\\x1b[0m],[8\\x1b[34m♦\\x1b[0m] | [T\\x1b[34m♦\\x1b[0m],[A\\x1b[34m♦\\x1b[0m] |': <src.mccfr.Infoset at 0x12eb7a2d0>,\n",
       " ' [J\\x1b[31m♥\\x1b[0m],[A♠] | [T\\x1b[34m♦\\x1b[0m],[A\\x1b[34m♦\\x1b[0m] |1': <src.mccfr.Infoset at 0x12eb7a660>,\n",
       " ' [3\\x1b[34m♦\\x1b[0m],[8\\x1b[34m♦\\x1b[0m] | [T\\x1b[34m♦\\x1b[0m],[A\\x1b[34m♦\\x1b[0m] |1,3': <src.mccfr.Infoset at 0x12eb7a720>,\n",
       " ' [J\\x1b[31m♥\\x1b[0m],[A♠] | [T\\x1b[34m♦\\x1b[0m],[A\\x1b[34m♦\\x1b[0m] |3': <src.mccfr.Infoset at 0x12eb7a6f0>,\n",
       " ' [9\\x1b[34m♦\\x1b[0m],[K\\x1b[31m♥\\x1b[0m] | [4\\x1b[32m♣\\x1b[0m],[5♠] |': <src.mccfr.Infoset at 0x12eb7a1e0>,\n",
       " ' [6\\x1b[34m♦\\x1b[0m],[J\\x1b[34m♦\\x1b[0m] | [4\\x1b[32m♣\\x1b[0m],[5♠] |3': <src.mccfr.Infoset at 0x12eb7a810>,\n",
       " ' [5\\x1b[32m♣\\x1b[0m],[7♠] | [2\\x1b[31m♥\\x1b[0m],[K\\x1b[31m♥\\x1b[0m] |': <src.mccfr.Infoset at 0x12eb7a600>,\n",
       " ' [6\\x1b[31m♥\\x1b[0m],[A♠] | [2\\x1b[31m♥\\x1b[0m],[K\\x1b[31m♥\\x1b[0m] |1': <src.mccfr.Infoset at 0x12eb7a960>,\n",
       " ' [5\\x1b[32m♣\\x1b[0m],[7♠] | [2\\x1b[31m♥\\x1b[0m],[K\\x1b[31m♥\\x1b[0m] |1,3': <src.mccfr.Infoset at 0x12eb7aa20>,\n",
       " ' [6\\x1b[31m♥\\x1b[0m],[A♠] | [2\\x1b[31m♥\\x1b[0m],[K\\x1b[31m♥\\x1b[0m] |3': <src.mccfr.Infoset at 0x12eb7a9f0>,\n",
       " ' [3\\x1b[31m♥\\x1b[0m],[Q\\x1b[32m♣\\x1b[0m] | [4\\x1b[31m♥\\x1b[0m],[A\\x1b[32m♣\\x1b[0m] |': <src.mccfr.Infoset at 0x12eb7a540>,\n",
       " ' [2\\x1b[31m♥\\x1b[0m],[K\\x1b[32m♣\\x1b[0m] | [4\\x1b[31m♥\\x1b[0m],[A\\x1b[32m♣\\x1b[0m] |3': <src.mccfr.Infoset at 0x12eb7ab10>,\n",
       " ' [5♠],[A\\x1b[32m♣\\x1b[0m] | [2\\x1b[34m♦\\x1b[0m],[6\\x1b[31m♥\\x1b[0m] |': <src.mccfr.Infoset at 0x12eb7a900>,\n",
       " ' [3\\x1b[32m♣\\x1b[0m],[7\\x1b[34m♦\\x1b[0m] | [2\\x1b[34m♦\\x1b[0m],[6\\x1b[31m♥\\x1b[0m] |1': <src.mccfr.Infoset at 0x12eb7ac60>,\n",
       " ' [5♠],[A\\x1b[32m♣\\x1b[0m] | [2\\x1b[34m♦\\x1b[0m],[6\\x1b[31m♥\\x1b[0m] |1,3': <src.mccfr.Infoset at 0x12eb7ad20>,\n",
       " ' [3\\x1b[32m♣\\x1b[0m],[7\\x1b[34m♦\\x1b[0m] | [2\\x1b[34m♦\\x1b[0m],[6\\x1b[31m♥\\x1b[0m] |3': <src.mccfr.Infoset at 0x12eb7acf0>,\n",
       " ' [4♠],[9\\x1b[34m♦\\x1b[0m] | [7\\x1b[34m♦\\x1b[0m],[K♠] |': <src.mccfr.Infoset at 0x12eb7a840>,\n",
       " ' [3♠],[T\\x1b[31m♥\\x1b[0m] | [7\\x1b[34m♦\\x1b[0m],[K♠] |3': <src.mccfr.Infoset at 0x12eb7ae10>,\n",
       " ' [T♠],[K\\x1b[34m♦\\x1b[0m] | [J♠],[K\\x1b[32m♣\\x1b[0m] |': <src.mccfr.Infoset at 0x12eb7ac00>,\n",
       " ' [6♠],[A\\x1b[34m♦\\x1b[0m] | [J♠],[K\\x1b[32m♣\\x1b[0m] |1': <src.mccfr.Infoset at 0x12eb7af60>,\n",
       " ' [T♠],[K\\x1b[34m♦\\x1b[0m] | [J♠],[K\\x1b[32m♣\\x1b[0m] |1,3': <src.mccfr.Infoset at 0x12eb7b020>,\n",
       " ' [6♠],[A\\x1b[34m♦\\x1b[0m] | [J♠],[K\\x1b[32m♣\\x1b[0m] |3': <src.mccfr.Infoset at 0x12eb7aff0>,\n",
       " ' [2♠],[4\\x1b[32m♣\\x1b[0m] | [9♠],[9\\x1b[31m♥\\x1b[0m] |': <src.mccfr.Infoset at 0x12eb7ab40>,\n",
       " ' [8\\x1b[32m♣\\x1b[0m],[T\\x1b[31m♥\\x1b[0m] | [9♠],[9\\x1b[31m♥\\x1b[0m] |3': <src.mccfr.Infoset at 0x12eb7b110>,\n",
       " ' [3♠],[A\\x1b[34m♦\\x1b[0m] | [4\\x1b[32m♣\\x1b[0m],[Q\\x1b[32m♣\\x1b[0m] |': <src.mccfr.Infoset at 0x12eb7af00>,\n",
       " ' [3\\x1b[32m♣\\x1b[0m],[5\\x1b[31m♥\\x1b[0m] | [4\\x1b[32m♣\\x1b[0m],[Q\\x1b[32m♣\\x1b[0m] |1': <src.mccfr.Infoset at 0x12eb7b260>,\n",
       " ' [3♠],[A\\x1b[34m♦\\x1b[0m] | [4\\x1b[32m♣\\x1b[0m],[Q\\x1b[32m♣\\x1b[0m] |1,3': <src.mccfr.Infoset at 0x12eb7b320>,\n",
       " ' [3\\x1b[32m♣\\x1b[0m],[5\\x1b[31m♥\\x1b[0m] | [4\\x1b[32m♣\\x1b[0m],[Q\\x1b[32m♣\\x1b[0m] |3': <src.mccfr.Infoset at 0x12eb7b2f0>,\n",
       " ' [5\\x1b[32m♣\\x1b[0m],[9\\x1b[34m♦\\x1b[0m] | [Q\\x1b[32m♣\\x1b[0m],[K\\x1b[34m♦\\x1b[0m] |': <src.mccfr.Infoset at 0x12eb7ae40>,\n",
       " ' [8♠],[8\\x1b[31m♥\\x1b[0m] | [Q\\x1b[32m♣\\x1b[0m],[K\\x1b[34m♦\\x1b[0m] |3': <src.mccfr.Infoset at 0x12eb7b410>,\n",
       " ' [3\\x1b[34m♦\\x1b[0m],[T\\x1b[31m♥\\x1b[0m] | [2\\x1b[34m♦\\x1b[0m],[K\\x1b[32m♣\\x1b[0m] |': <src.mccfr.Infoset at 0x12eb7b200>,\n",
       " ' [9\\x1b[31m♥\\x1b[0m],[Q\\x1b[31m♥\\x1b[0m] | [2\\x1b[34m♦\\x1b[0m],[K\\x1b[32m♣\\x1b[0m] |1': <src.mccfr.Infoset at 0x12eb7b560>,\n",
       " ' [3\\x1b[34m♦\\x1b[0m],[T\\x1b[31m♥\\x1b[0m] | [2\\x1b[34m♦\\x1b[0m],[K\\x1b[32m♣\\x1b[0m] |1,3': <src.mccfr.Infoset at 0x12eb7b620>,\n",
       " ' [9\\x1b[31m♥\\x1b[0m],[Q\\x1b[31m♥\\x1b[0m] | [2\\x1b[34m♦\\x1b[0m],[K\\x1b[32m♣\\x1b[0m] |3': <src.mccfr.Infoset at 0x12eb7b5f0>,\n",
       " ' [3\\x1b[32m♣\\x1b[0m],[8\\x1b[34m♦\\x1b[0m] | [8♠],[K\\x1b[31m♥\\x1b[0m] |': <src.mccfr.Infoset at 0x12eb7b140>,\n",
       " ' [4\\x1b[32m♣\\x1b[0m],[8\\x1b[31m♥\\x1b[0m] | [8♠],[K\\x1b[31m♥\\x1b[0m] |3': <src.mccfr.Infoset at 0x12eb7b710>,\n",
       " ' [6♠],[Q♠] | [4♠],[Q\\x1b[32m♣\\x1b[0m] |': <src.mccfr.Infoset at 0x12eb7b500>,\n",
       " ' [T♠],[J♠] | [4♠],[Q\\x1b[32m♣\\x1b[0m] |1': <src.mccfr.Infoset at 0x12eb7b860>,\n",
       " ' [6♠],[Q♠] | [4♠],[Q\\x1b[32m♣\\x1b[0m] |1,3': <src.mccfr.Infoset at 0x12eb7b920>,\n",
       " ' [T♠],[J♠] | [4♠],[Q\\x1b[32m♣\\x1b[0m] |3': <src.mccfr.Infoset at 0x12eb7b8f0>,\n",
       " ' [8\\x1b[31m♥\\x1b[0m],[Q♠] | [8♠],[K\\x1b[31m♥\\x1b[0m] |': <src.mccfr.Infoset at 0x12eb7b440>,\n",
       " ' [4\\x1b[32m♣\\x1b[0m],[T\\x1b[34m♦\\x1b[0m] | [8♠],[K\\x1b[31m♥\\x1b[0m] |3': <src.mccfr.Infoset at 0x12eb7ba10>,\n",
       " ' [T♠],[J\\x1b[31m♥\\x1b[0m] | [4♠],[Q♠] |': <src.mccfr.Infoset at 0x12eb7b800>,\n",
       " ' [7\\x1b[31m♥\\x1b[0m],[A♠] | [4♠],[Q♠] |1': <src.mccfr.Infoset at 0x12eb7bb60>,\n",
       " ' [T♠],[J\\x1b[31m♥\\x1b[0m] | [4♠],[Q♠] |1,3': <src.mccfr.Infoset at 0x12eb7bc20>,\n",
       " ' [7\\x1b[31m♥\\x1b[0m],[A♠] | [4♠],[Q♠] |3': <src.mccfr.Infoset at 0x12eb7bbf0>,\n",
       " ' [3\\x1b[34m♦\\x1b[0m],[7\\x1b[32m♣\\x1b[0m] | [Q\\x1b[32m♣\\x1b[0m],[K\\x1b[34m♦\\x1b[0m] |': <src.mccfr.Infoset at 0x12eb7b740>,\n",
       " ' [5\\x1b[32m♣\\x1b[0m],[J♠] | [Q\\x1b[32m♣\\x1b[0m],[K\\x1b[34m♦\\x1b[0m] |3': <src.mccfr.Infoset at 0x12eb7bd10>,\n",
       " ' [6\\x1b[34m♦\\x1b[0m],[K\\x1b[32m♣\\x1b[0m] | [4\\x1b[34m♦\\x1b[0m],[8\\x1b[31m♥\\x1b[0m] |': <src.mccfr.Infoset at 0x12eb7bb00>,\n",
       " ' [T\\x1b[32m♣\\x1b[0m],[A\\x1b[31m♥\\x1b[0m] | [4\\x1b[34m♦\\x1b[0m],[8\\x1b[31m♥\\x1b[0m] |1': <src.mccfr.Infoset at 0x12eb7be60>,\n",
       " ' [6\\x1b[34m♦\\x1b[0m],[K\\x1b[32m♣\\x1b[0m] | [4\\x1b[34m♦\\x1b[0m],[8\\x1b[31m♥\\x1b[0m] |1,3': <src.mccfr.Infoset at 0x12eb7bf20>,\n",
       " ' [T\\x1b[32m♣\\x1b[0m],[A\\x1b[31m♥\\x1b[0m] | [4\\x1b[34m♦\\x1b[0m],[8\\x1b[31m♥\\x1b[0m] |3': <src.mccfr.Infoset at 0x12eb7bef0>,\n",
       " ' [9\\x1b[32m♣\\x1b[0m],[Q\\x1b[32m♣\\x1b[0m] | [3♠],[Q♠] |': <src.mccfr.Infoset at 0x12eb7ba40>,\n",
       " ' [9\\x1b[31m♥\\x1b[0m],[9\\x1b[34m♦\\x1b[0m] | [3♠],[Q♠] |3': <src.mccfr.Infoset at 0x12eb7bfb0>,\n",
       " ' [6\\x1b[31m♥\\x1b[0m],[9\\x1b[32m♣\\x1b[0m] | [J♠],[K\\x1b[32m♣\\x1b[0m] |': <src.mccfr.Infoset at 0x12eb7be00>,\n",
       " ' [2\\x1b[31m♥\\x1b[0m],[7\\x1b[32m♣\\x1b[0m] | [J♠],[K\\x1b[32m♣\\x1b[0m] |1': <src.mccfr.Infoset at 0x12fbf01a0>,\n",
       " ' [6\\x1b[31m♥\\x1b[0m],[9\\x1b[32m♣\\x1b[0m] | [J♠],[K\\x1b[32m♣\\x1b[0m] |1,3': <src.mccfr.Infoset at 0x12fbf0260>,\n",
       " ' [2\\x1b[31m♥\\x1b[0m],[7\\x1b[32m♣\\x1b[0m] | [J♠],[K\\x1b[32m♣\\x1b[0m] |3': <src.mccfr.Infoset at 0x12fbf0230>,\n",
       " ' [2\\x1b[34m♦\\x1b[0m],[K\\x1b[32m♣\\x1b[0m] | [6♠],[A♠] |': <src.mccfr.Infoset at 0x12eb7bd40>,\n",
       " ' [8♠],[Q\\x1b[31m♥\\x1b[0m] | [6♠],[A♠] |3': <src.mccfr.Infoset at 0x12fbf0350>,\n",
       " ' [9\\x1b[32m♣\\x1b[0m],[K♠] | [7♠],[T\\x1b[32m♣\\x1b[0m] |': <src.mccfr.Infoset at 0x12fbf0140>,\n",
       " ' [3\\x1b[32m♣\\x1b[0m],[7\\x1b[34m♦\\x1b[0m] | [7♠],[T\\x1b[32m♣\\x1b[0m] |1': <src.mccfr.Infoset at 0x12fbf04a0>,\n",
       " ' [9\\x1b[32m♣\\x1b[0m],[K♠] | [7♠],[T\\x1b[32m♣\\x1b[0m] |1,3': <src.mccfr.Infoset at 0x12fbf0560>,\n",
       " ' [3\\x1b[32m♣\\x1b[0m],[7\\x1b[34m♦\\x1b[0m] | [7♠],[T\\x1b[32m♣\\x1b[0m] |3': <src.mccfr.Infoset at 0x12fbf0530>,\n",
       " ' [3♠],[4\\x1b[32m♣\\x1b[0m] | [3\\x1b[32m♣\\x1b[0m],[9\\x1b[34m♦\\x1b[0m] |': <src.mccfr.Infoset at 0x12fbf0080>,\n",
       " ' [2\\x1b[32m♣\\x1b[0m],[3\\x1b[34m♦\\x1b[0m] | [3\\x1b[32m♣\\x1b[0m],[9\\x1b[34m♦\\x1b[0m] |3': <src.mccfr.Infoset at 0x12fbf0650>,\n",
       " ' [6\\x1b[31m♥\\x1b[0m],[A♠] | [Q\\x1b[31m♥\\x1b[0m],[A\\x1b[34m♦\\x1b[0m] |': <src.mccfr.Infoset at 0x12fbf0440>,\n",
       " ' [5♠],[T\\x1b[34m♦\\x1b[0m] | [Q\\x1b[31m♥\\x1b[0m],[A\\x1b[34m♦\\x1b[0m] |1': <src.mccfr.Infoset at 0x12fbf07a0>,\n",
       " ' [6\\x1b[31m♥\\x1b[0m],[A♠] | [Q\\x1b[31m♥\\x1b[0m],[A\\x1b[34m♦\\x1b[0m] |1,3': <src.mccfr.Infoset at 0x12fbf0860>,\n",
       " ' [5♠],[T\\x1b[34m♦\\x1b[0m] | [Q\\x1b[31m♥\\x1b[0m],[A\\x1b[34m♦\\x1b[0m] |3': <src.mccfr.Infoset at 0x12fbf0830>,\n",
       " ' [4\\x1b[32m♣\\x1b[0m],[9♠] | [3\\x1b[34m♦\\x1b[0m],[6\\x1b[32m♣\\x1b[0m] |': <src.mccfr.Infoset at 0x12fbf0380>,\n",
       " ' [2\\x1b[32m♣\\x1b[0m],[A♠] | [3\\x1b[34m♦\\x1b[0m],[6\\x1b[32m♣\\x1b[0m] |3': <src.mccfr.Infoset at 0x12fbf0950>,\n",
       " ' [5♠],[J\\x1b[31m♥\\x1b[0m] | [7♠],[8\\x1b[34m♦\\x1b[0m] |': <src.mccfr.Infoset at 0x11f3a3b00>,\n",
       " ' [3\\x1b[32m♣\\x1b[0m],[4\\x1b[34m♦\\x1b[0m] | [7♠],[8\\x1b[34m♦\\x1b[0m] |1': <src.mccfr.Infoset at 0x12eb7bda0>,\n",
       " ' [5♠],[J\\x1b[31m♥\\x1b[0m] | [7♠],[8\\x1b[34m♦\\x1b[0m] |1,3': <src.mccfr.Infoset at 0x12eb7baa0>,\n",
       " ' [3\\x1b[32m♣\\x1b[0m],[4\\x1b[34m♦\\x1b[0m] | [7♠],[8\\x1b[34m♦\\x1b[0m] |3': <src.mccfr.Infoset at 0x12eb7ba70>,\n",
       " ' [3\\x1b[31m♥\\x1b[0m],[K♠] | [3♠],[6♠] |': <src.mccfr.Infoset at 0x10a1d3f80>,\n",
       " ' [7\\x1b[34m♦\\x1b[0m],[Q\\x1b[32m♣\\x1b[0m] | [3♠],[6♠] |3': <src.mccfr.Infoset at 0x12eb7b5c0>,\n",
       " ' [5\\x1b[32m♣\\x1b[0m],[Q\\x1b[31m♥\\x1b[0m] | [8\\x1b[32m♣\\x1b[0m],[A\\x1b[31m♥\\x1b[0m] |': <src.mccfr.Infoset at 0x12eb7bf80>,\n",
       " ' [3\\x1b[32m♣\\x1b[0m],[4\\x1b[31m♥\\x1b[0m] | [8\\x1b[32m♣\\x1b[0m],[A\\x1b[31m♥\\x1b[0m] |1': <src.mccfr.Infoset at 0x12eb7afc0>,\n",
       " ' [5\\x1b[32m♣\\x1b[0m],[Q\\x1b[31m♥\\x1b[0m] | [8\\x1b[32m♣\\x1b[0m],[A\\x1b[31m♥\\x1b[0m] |1,3': <src.mccfr.Infoset at 0x12eb7acc0>,\n",
       " ' [3\\x1b[32m♣\\x1b[0m],[4\\x1b[31m♥\\x1b[0m] | [8\\x1b[32m♣\\x1b[0m],[A\\x1b[31m♥\\x1b[0m] |3': <src.mccfr.Infoset at 0x12eb7aea0>,\n",
       " ' [6♠],[8\\x1b[31m♥\\x1b[0m] | [9♠],[9\\x1b[31m♥\\x1b[0m] |': <src.mccfr.Infoset at 0x12eb7b680>,\n",
       " ' [Q\\x1b[32m♣\\x1b[0m],[K♠] | [9♠],[9\\x1b[31m♥\\x1b[0m] |3': <src.mccfr.Infoset at 0x12eb7aa80>,\n",
       " ' [6♠],[J\\x1b[31m♥\\x1b[0m] | [K\\x1b[32m♣\\x1b[0m],[A\\x1b[34m♦\\x1b[0m] |': <src.mccfr.Infoset at 0x12eb7b170>,\n",
       " ' [4\\x1b[34m♦\\x1b[0m],[7\\x1b[32m♣\\x1b[0m] | [K\\x1b[32m♣\\x1b[0m],[A\\x1b[34m♦\\x1b[0m] |1': <src.mccfr.Infoset at 0x12eb7a3c0>,\n",
       " ' [6♠],[J\\x1b[31m♥\\x1b[0m] | [K\\x1b[32m♣\\x1b[0m],[A\\x1b[34m♦\\x1b[0m] |1,3': <src.mccfr.Infoset at 0x12eb7a060>,\n",
       " ' [4\\x1b[34m♦\\x1b[0m],[7\\x1b[32m♣\\x1b[0m] | [K\\x1b[32m♣\\x1b[0m],[A\\x1b[34m♦\\x1b[0m] |3': <src.mccfr.Infoset at 0x12eb7a240>,\n",
       " ' [2\\x1b[34m♦\\x1b[0m],[Q♠] | [2\\x1b[31m♥\\x1b[0m],[5\\x1b[34m♦\\x1b[0m] |': <src.mccfr.Infoset at 0x12eb7b7a0>,\n",
       " ' [Q\\x1b[32m♣\\x1b[0m],[A♠] | [2\\x1b[31m♥\\x1b[0m],[5\\x1b[34m♦\\x1b[0m] |3': <src.mccfr.Infoset at 0x12eb79e20>,\n",
       " ' [T\\x1b[31m♥\\x1b[0m],[T\\x1b[32m♣\\x1b[0m] | [5\\x1b[32m♣\\x1b[0m],[K\\x1b[34m♦\\x1b[0m] |': <src.mccfr.Infoset at 0x12eb7a570>,\n",
       " ' [4♠],[K♠] | [5\\x1b[32m♣\\x1b[0m],[K\\x1b[34m♦\\x1b[0m] |1': <src.mccfr.Infoset at 0x12eb79760>,\n",
       " ' [T\\x1b[31m♥\\x1b[0m],[T\\x1b[32m♣\\x1b[0m] | [5\\x1b[32m♣\\x1b[0m],[K\\x1b[34m♦\\x1b[0m] |1,3': <src.mccfr.Infoset at 0x12eb79460>,\n",
       " ' [4♠],[K♠] | [5\\x1b[32m♣\\x1b[0m],[K\\x1b[34m♦\\x1b[0m] |3': <src.mccfr.Infoset at 0x12eb79640>,\n",
       " ' [3\\x1b[32m♣\\x1b[0m],[J\\x1b[31m♥\\x1b[0m] | [J\\x1b[32m♣\\x1b[0m],[A\\x1b[31m♥\\x1b[0m] |': <src.mccfr.Infoset at 0x12eb7a870>,\n",
       " ' [4♠],[K\\x1b[32m♣\\x1b[0m] | [J\\x1b[32m♣\\x1b[0m],[A\\x1b[31m♥\\x1b[0m] |3': <src.mccfr.Infoset at 0x12eb79220>,\n",
       " ' [2\\x1b[32m♣\\x1b[0m],[K\\x1b[34m♦\\x1b[0m] | [4\\x1b[31m♥\\x1b[0m],[6\\x1b[32m♣\\x1b[0m] |': <src.mccfr.Infoset at 0x12eb79910>,\n",
       " ' [7\\x1b[31m♥\\x1b[0m],[Q\\x1b[32m♣\\x1b[0m] | [4\\x1b[31m♥\\x1b[0m],[6\\x1b[32m♣\\x1b[0m] |1': <src.mccfr.Infoset at 0x12eb78b60>,\n",
       " ' [2\\x1b[32m♣\\x1b[0m],[K\\x1b[34m♦\\x1b[0m] | [4\\x1b[31m♥\\x1b[0m],[6\\x1b[32m♣\\x1b[0m] |1,3': <src.mccfr.Infoset at 0x12eb78860>,\n",
       " ' [7\\x1b[31m♥\\x1b[0m],[Q\\x1b[32m♣\\x1b[0m] | [4\\x1b[31m♥\\x1b[0m],[6\\x1b[32m♣\\x1b[0m] |3': <src.mccfr.Infoset at 0x12eb78a40>,\n",
       " ' [3\\x1b[32m♣\\x1b[0m],[T\\x1b[32m♣\\x1b[0m] | [3♠],[8\\x1b[34m♦\\x1b[0m] |': <src.mccfr.Infoset at 0x12eb79c10>,\n",
       " ' [3\\x1b[34m♦\\x1b[0m],[Q\\x1b[31m♥\\x1b[0m] | [3♠],[8\\x1b[34m♦\\x1b[0m] |3': <src.mccfr.Infoset at 0x12eb78620>,\n",
       " ' [2♠],[K♠] | [T\\x1b[32m♣\\x1b[0m],[A\\x1b[31m♥\\x1b[0m] |': <src.mccfr.Infoset at 0x12eb78d10>,\n",
       " ' [4♠],[6\\x1b[31m♥\\x1b[0m] | [T\\x1b[32m♣\\x1b[0m],[A\\x1b[31m♥\\x1b[0m] |1': <src.mccfr.Infoset at 0x12eb78140>,\n",
       " ' [2♠],[K♠] | [T\\x1b[32m♣\\x1b[0m],[A\\x1b[31m♥\\x1b[0m] |1,3': <src.mccfr.Infoset at 0x11f9dbfe0>,\n",
       " ' [4♠],[6\\x1b[31m♥\\x1b[0m] | [T\\x1b[32m♣\\x1b[0m],[A\\x1b[31m♥\\x1b[0m] |3': <src.mccfr.Infoset at 0x11f9dbf20>,\n",
       " ' [2\\x1b[32m♣\\x1b[0m],[6\\x1b[34m♦\\x1b[0m] | [5\\x1b[34m♦\\x1b[0m],[A\\x1b[31m♥\\x1b[0m] |': <src.mccfr.Infoset at 0x12eb79010>,\n",
       " ' [3♠],[4\\x1b[34m♦\\x1b[0m] | [5\\x1b[34m♦\\x1b[0m],[A\\x1b[31m♥\\x1b[0m] |3': <src.mccfr.Infoset at 0x11f9dba70>,\n",
       " ' [T\\x1b[34m♦\\x1b[0m],[T\\x1b[32m♣\\x1b[0m] | [7\\x1b[31m♥\\x1b[0m],[7\\x1b[34m♦\\x1b[0m] |': <src.mccfr.Infoset at 0x12eb78110>,\n",
       " ' [3♠],[4♠] | [7\\x1b[31m♥\\x1b[0m],[7\\x1b[34m♦\\x1b[0m] |1': <src.mccfr.Infoset at 0x11f9d8380>,\n",
       " ' [T\\x1b[34m♦\\x1b[0m],[T\\x1b[32m♣\\x1b[0m] | [7\\x1b[31m♥\\x1b[0m],[7\\x1b[34m♦\\x1b[0m] |1,3': <src.mccfr.Infoset at 0x11f9d8d40>,\n",
       " ' [3♠],[4♠] | [7\\x1b[31m♥\\x1b[0m],[7\\x1b[34m♦\\x1b[0m] |3': <src.mccfr.Infoset at 0x11f9d9040>,\n",
       " ' [5\\x1b[34m♦\\x1b[0m],[7\\x1b[31m♥\\x1b[0m] | [9\\x1b[31m♥\\x1b[0m],[A\\x1b[32m♣\\x1b[0m] |': <src.mccfr.Infoset at 0x12eb78410>,\n",
       " ' [2\\x1b[32m♣\\x1b[0m],[8\\x1b[32m♣\\x1b[0m] | [9\\x1b[31m♥\\x1b[0m],[A\\x1b[32m♣\\x1b[0m] |3': <src.mccfr.Infoset at 0x11f9da660>,\n",
       " ' [4\\x1b[34m♦\\x1b[0m],[J\\x1b[31m♥\\x1b[0m] | [2\\x1b[32m♣\\x1b[0m],[7\\x1b[31m♥\\x1b[0m] |': <src.mccfr.Infoset at 0x11f9db770>,\n",
       " ' [6\\x1b[31m♥\\x1b[0m],[A\\x1b[32m♣\\x1b[0m] | [2\\x1b[32m♣\\x1b[0m],[7\\x1b[31m♥\\x1b[0m] |1': <src.mccfr.Infoset at 0x11f9db4a0>,\n",
       " ' [4\\x1b[34m♦\\x1b[0m],[J\\x1b[31m♥\\x1b[0m] | [2\\x1b[32m♣\\x1b[0m],[7\\x1b[31m♥\\x1b[0m] |1,3': <src.mccfr.Infoset at 0x11f9db260>,\n",
       " ' [6\\x1b[31m♥\\x1b[0m],[A\\x1b[32m♣\\x1b[0m] | [2\\x1b[32m♣\\x1b[0m],[7\\x1b[31m♥\\x1b[0m] |3': <src.mccfr.Infoset at 0x11f9922d0>,\n",
       " ' [7♠],[7\\x1b[34m♦\\x1b[0m] | [4♠],[A\\x1b[31m♥\\x1b[0m] |': <src.mccfr.Infoset at 0x11f9dbaa0>,\n",
       " ' [2\\x1b[31m♥\\x1b[0m],[4\\x1b[31m♥\\x1b[0m] | [4♠],[A\\x1b[31m♥\\x1b[0m] |3': <src.mccfr.Infoset at 0x11f993d70>,\n",
       " ' [7\\x1b[34m♦\\x1b[0m],[J♠] | [6\\x1b[31m♥\\x1b[0m],[9\\x1b[34m♦\\x1b[0m] |': <src.mccfr.Infoset at 0x11f9db080>,\n",
       " ' [3\\x1b[34m♦\\x1b[0m],[4\\x1b[34m♦\\x1b[0m] | [6\\x1b[31m♥\\x1b[0m],[9\\x1b[34m♦\\x1b[0m] |1': <src.mccfr.Infoset at 0x12fbf06b0>,\n",
       " ' [7\\x1b[34m♦\\x1b[0m],[J♠] | [6\\x1b[31m♥\\x1b[0m],[9\\x1b[34m♦\\x1b[0m] |1,3': <src.mccfr.Infoset at 0x12fbf03b0>,\n",
       " ' [3\\x1b[34m♦\\x1b[0m],[4\\x1b[34m♦\\x1b[0m] | [6\\x1b[31m♥\\x1b[0m],[9\\x1b[34m♦\\x1b[0m] |3': <src.mccfr.Infoset at 0x12fbf05c0>,\n",
       " ' [6♠],[8♠] | [T\\x1b[31m♥\\x1b[0m],[K\\x1b[31m♥\\x1b[0m] |': <src.mccfr.Infoset at 0x11f9da480>,\n",
       " ' [6\\x1b[31m♥\\x1b[0m],[7♠] | [T\\x1b[31m♥\\x1b[0m],[K\\x1b[31m♥\\x1b[0m] |3': <src.mccfr.Infoset at 0x12fbf00e0>,\n",
       " ' [3\\x1b[32m♣\\x1b[0m],[6♠] | [4\\x1b[31m♥\\x1b[0m],[5\\x1b[31m♥\\x1b[0m] |': <src.mccfr.Infoset at 0x12fbf0740>,\n",
       " ' [5\\x1b[34m♦\\x1b[0m],[Q♠] | [4\\x1b[31m♥\\x1b[0m],[5\\x1b[31m♥\\x1b[0m] |1': <src.mccfr.Infoset at 0x12fbf0b30>,\n",
       " ' [3\\x1b[32m♣\\x1b[0m],[6♠] | [4\\x1b[31m♥\\x1b[0m],[5\\x1b[31m♥\\x1b[0m] |1,3': <src.mccfr.Infoset at 0x12fbf0bf0>,\n",
       " ' [5\\x1b[34m♦\\x1b[0m],[Q♠] | [4\\x1b[31m♥\\x1b[0m],[5\\x1b[31m♥\\x1b[0m] |3': <src.mccfr.Infoset at 0x12fbf0bc0>,\n",
       " ' [2\\x1b[31m♥\\x1b[0m],[5\\x1b[34m♦\\x1b[0m] | [9\\x1b[31m♥\\x1b[0m],[K\\x1b[34m♦\\x1b[0m] |': <src.mccfr.Infoset at 0x11f993560>,\n",
       " ' [2\\x1b[34m♦\\x1b[0m],[5♠] | [9\\x1b[31m♥\\x1b[0m],[K\\x1b[34m♦\\x1b[0m] |3': <src.mccfr.Infoset at 0x12fbf0ce0>,\n",
       " ' [9\\x1b[31m♥\\x1b[0m],[J♠] | [8\\x1b[32m♣\\x1b[0m],[9\\x1b[34m♦\\x1b[0m] |': <src.mccfr.Infoset at 0x12fbf0ad0>,\n",
       " ' [5\\x1b[31m♥\\x1b[0m],[6\\x1b[32m♣\\x1b[0m] | [8\\x1b[32m♣\\x1b[0m],[9\\x1b[34m♦\\x1b[0m] |1': <src.mccfr.Infoset at 0x12fbf0e30>,\n",
       " ' [9\\x1b[31m♥\\x1b[0m],[J♠] | [8\\x1b[32m♣\\x1b[0m],[9\\x1b[34m♦\\x1b[0m] |1,3': <src.mccfr.Infoset at 0x12fbf0ef0>,\n",
       " ' [5\\x1b[31m♥\\x1b[0m],[6\\x1b[32m♣\\x1b[0m] | [8\\x1b[32m♣\\x1b[0m],[9\\x1b[34m♦\\x1b[0m] |3': <src.mccfr.Infoset at 0x12fbf0ec0>,\n",
       " ' [J\\x1b[34m♦\\x1b[0m],[A\\x1b[32m♣\\x1b[0m] | [3\\x1b[31m♥\\x1b[0m],[J♠] |': <src.mccfr.Infoset at 0x12fbf0a10>,\n",
       " ' [5♠],[Q\\x1b[34m♦\\x1b[0m] | [3\\x1b[31m♥\\x1b[0m],[J♠] |3': <src.mccfr.Infoset at 0x12fbf0fe0>,\n",
       " ' [J\\x1b[32m♣\\x1b[0m],[A\\x1b[31m♥\\x1b[0m] | [T\\x1b[32m♣\\x1b[0m],[Q♠] |': <src.mccfr.Infoset at 0x12fbf0dd0>,\n",
       " ' [4\\x1b[34m♦\\x1b[0m],[9\\x1b[31m♥\\x1b[0m] | [T\\x1b[32m♣\\x1b[0m],[Q♠] |1': <src.mccfr.Infoset at 0x12fbf1130>,\n",
       " ' [J\\x1b[32m♣\\x1b[0m],[A\\x1b[31m♥\\x1b[0m] | [T\\x1b[32m♣\\x1b[0m],[Q♠] |1,3': <src.mccfr.Infoset at 0x12fbf11f0>,\n",
       " ' [4\\x1b[34m♦\\x1b[0m],[9\\x1b[31m♥\\x1b[0m] | [T\\x1b[32m♣\\x1b[0m],[Q♠] |3': <src.mccfr.Infoset at 0x12fbf11c0>,\n",
       " ' [4\\x1b[34m♦\\x1b[0m],[K\\x1b[34m♦\\x1b[0m] | [2\\x1b[32m♣\\x1b[0m],[7\\x1b[32m♣\\x1b[0m] |': <src.mccfr.Infoset at 0x12fbf0d10>,\n",
       " ' [2♠],[6\\x1b[31m♥\\x1b[0m] | [2\\x1b[32m♣\\x1b[0m],[7\\x1b[32m♣\\x1b[0m] |3': <src.mccfr.Infoset at 0x12fbf12e0>,\n",
       " ' [2\\x1b[31m♥\\x1b[0m],[T\\x1b[34m♦\\x1b[0m] | [2♠],[6♠] |': <src.mccfr.Infoset at 0x12fbf10d0>,\n",
       " ' [3\\x1b[32m♣\\x1b[0m],[J\\x1b[32m♣\\x1b[0m] | [2♠],[6♠] |1': <src.mccfr.Infoset at 0x12fbf1430>,\n",
       " ' [2\\x1b[31m♥\\x1b[0m],[T\\x1b[34m♦\\x1b[0m] | [2♠],[6♠] |1,3': <src.mccfr.Infoset at 0x12fbf14f0>,\n",
       " ' [3\\x1b[32m♣\\x1b[0m],[J\\x1b[32m♣\\x1b[0m] | [2♠],[6♠] |3': <src.mccfr.Infoset at 0x12fbf14c0>,\n",
       " ' [8\\x1b[31m♥\\x1b[0m],[T\\x1b[34m♦\\x1b[0m] | [3♠],[7\\x1b[34m♦\\x1b[0m] |': <src.mccfr.Infoset at 0x12fbf1010>,\n",
       " ' [3\\x1b[31m♥\\x1b[0m],[5\\x1b[34m♦\\x1b[0m] | [3♠],[7\\x1b[34m♦\\x1b[0m] |3': <src.mccfr.Infoset at 0x12fbf15e0>,\n",
       " ' [4\\x1b[32m♣\\x1b[0m],[7♠] | [6\\x1b[34m♦\\x1b[0m],[9♠] |': <src.mccfr.Infoset at 0x12fbf13d0>,\n",
       " ' [J\\x1b[34m♦\\x1b[0m],[Q\\x1b[31m♥\\x1b[0m] | [6\\x1b[34m♦\\x1b[0m],[9♠] |1': <src.mccfr.Infoset at 0x12fbf1730>,\n",
       " ' [4\\x1b[32m♣\\x1b[0m],[7♠] | [6\\x1b[34m♦\\x1b[0m],[9♠] |1,3': <src.mccfr.Infoset at 0x12fbf17f0>,\n",
       " ' [J\\x1b[34m♦\\x1b[0m],[Q\\x1b[31m♥\\x1b[0m] | [6\\x1b[34m♦\\x1b[0m],[9♠] |3': <src.mccfr.Infoset at 0x12fbf17c0>,\n",
       " ' [2\\x1b[31m♥\\x1b[0m],[3\\x1b[31m♥\\x1b[0m] | [5♠],[Q♠] |': <src.mccfr.Infoset at 0x12fbf1310>,\n",
       " ' [6\\x1b[34m♦\\x1b[0m],[9\\x1b[31m♥\\x1b[0m] | [5♠],[Q♠] |3': <src.mccfr.Infoset at 0x12fbf18e0>,\n",
       " ' [9♠],[T\\x1b[34m♦\\x1b[0m] | [J\\x1b[34m♦\\x1b[0m],[A\\x1b[31m♥\\x1b[0m] |': <src.mccfr.Infoset at 0x12fbf16d0>,\n",
       " ' [3♠],[4\\x1b[31m♥\\x1b[0m] | [J\\x1b[34m♦\\x1b[0m],[A\\x1b[31m♥\\x1b[0m] |1': <src.mccfr.Infoset at 0x12fbf1a30>,\n",
       " ' [9♠],[T\\x1b[34m♦\\x1b[0m] | [J\\x1b[34m♦\\x1b[0m],[A\\x1b[31m♥\\x1b[0m] |1,3': <src.mccfr.Infoset at 0x12fbf1af0>,\n",
       " ' [3♠],[4\\x1b[31m♥\\x1b[0m] | [J\\x1b[34m♦\\x1b[0m],[A\\x1b[31m♥\\x1b[0m] |3': <src.mccfr.Infoset at 0x12fbf1ac0>,\n",
       " ' [3♠],[6♠] | [K\\x1b[34m♦\\x1b[0m],[A♠] |': <src.mccfr.Infoset at 0x12fbf1610>,\n",
       " ' [5♠],[5\\x1b[31m♥\\x1b[0m] | [K\\x1b[34m♦\\x1b[0m],[A♠] |3': <src.mccfr.Infoset at 0x12fbf1be0>,\n",
       " ' [3\\x1b[34m♦\\x1b[0m],[4\\x1b[31m♥\\x1b[0m] | [9\\x1b[32m♣\\x1b[0m],[Q\\x1b[31m♥\\x1b[0m] |': <src.mccfr.Infoset at 0x12fbf19d0>,\n",
       " ' [7\\x1b[31m♥\\x1b[0m],[A\\x1b[32m♣\\x1b[0m] | [9\\x1b[32m♣\\x1b[0m],[Q\\x1b[31m♥\\x1b[0m] |1': <src.mccfr.Infoset at 0x12fbf1d30>,\n",
       " ' [3\\x1b[34m♦\\x1b[0m],[4\\x1b[31m♥\\x1b[0m] | [9\\x1b[32m♣\\x1b[0m],[Q\\x1b[31m♥\\x1b[0m] |1,3': <src.mccfr.Infoset at 0x12fbf1df0>,\n",
       " ' [7\\x1b[31m♥\\x1b[0m],[A\\x1b[32m♣\\x1b[0m] | [9\\x1b[32m♣\\x1b[0m],[Q\\x1b[31m♥\\x1b[0m] |3': <src.mccfr.Infoset at 0x12fbf1dc0>,\n",
       " ' [5♠],[J\\x1b[34m♦\\x1b[0m] | [6♠],[8\\x1b[34m♦\\x1b[0m] |': <src.mccfr.Infoset at 0x12fbf1910>,\n",
       " ' [8♠],[A\\x1b[31m♥\\x1b[0m] | [6♠],[8\\x1b[34m♦\\x1b[0m] |3': <src.mccfr.Infoset at 0x12fbf1ee0>,\n",
       " ' [7\\x1b[34m♦\\x1b[0m],[J\\x1b[32m♣\\x1b[0m] | [3♠],[K\\x1b[31m♥\\x1b[0m] |': <src.mccfr.Infoset at 0x12fbf1cd0>,\n",
       " ' [4\\x1b[34m♦\\x1b[0m],[T\\x1b[32m♣\\x1b[0m] | [3♠],[K\\x1b[31m♥\\x1b[0m] |1': <src.mccfr.Infoset at 0x12fbf2030>,\n",
       " ' [7\\x1b[34m♦\\x1b[0m],[J\\x1b[32m♣\\x1b[0m] | [3♠],[K\\x1b[31m♥\\x1b[0m] |1,3': <src.mccfr.Infoset at 0x12fbf20f0>,\n",
       " ' [4\\x1b[34m♦\\x1b[0m],[T\\x1b[32m♣\\x1b[0m] | [3♠],[K\\x1b[31m♥\\x1b[0m] |3': <src.mccfr.Infoset at 0x12fbf20c0>,\n",
       " ' [4♠],[J\\x1b[34m♦\\x1b[0m] | [3\\x1b[32m♣\\x1b[0m],[T\\x1b[31m♥\\x1b[0m] |': <src.mccfr.Infoset at 0x12fbf1c10>,\n",
       " ' [9\\x1b[34m♦\\x1b[0m],[K\\x1b[34m♦\\x1b[0m] | [3\\x1b[32m♣\\x1b[0m],[T\\x1b[31m♥\\x1b[0m] |3': <src.mccfr.Infoset at 0x12fbf21e0>,\n",
       " ' [3\\x1b[31m♥\\x1b[0m],[A♠] | [5♠],[J\\x1b[32m♣\\x1b[0m] |': <src.mccfr.Infoset at 0x12fbf1fd0>,\n",
       " ' [3♠],[3\\x1b[32m♣\\x1b[0m] | [5♠],[J\\x1b[32m♣\\x1b[0m] |1': <src.mccfr.Infoset at 0x12fbf2330>,\n",
       " ' [3\\x1b[31m♥\\x1b[0m],[A♠] | [5♠],[J\\x1b[32m♣\\x1b[0m] |1,3': <src.mccfr.Infoset at 0x12fbf23f0>,\n",
       " ' [3♠],[3\\x1b[32m♣\\x1b[0m] | [5♠],[J\\x1b[32m♣\\x1b[0m] |3': <src.mccfr.Infoset at 0x12fbf23c0>,\n",
       " ' [4\\x1b[31m♥\\x1b[0m],[8♠] | [8\\x1b[31m♥\\x1b[0m],[J\\x1b[34m♦\\x1b[0m] |': <src.mccfr.Infoset at 0x12fbf1f10>,\n",
       " ' [8\\x1b[32m♣\\x1b[0m],[Q\\x1b[31m♥\\x1b[0m] | [8\\x1b[31m♥\\x1b[0m],[J\\x1b[34m♦\\x1b[0m] |3': <src.mccfr.Infoset at 0x12fbf24e0>,\n",
       " ' [3♠],[3\\x1b[34m♦\\x1b[0m] | [4\\x1b[34m♦\\x1b[0m],[7\\x1b[32m♣\\x1b[0m] |': <src.mccfr.Infoset at 0x12fbf22d0>,\n",
       " ' [5\\x1b[32m♣\\x1b[0m],[9\\x1b[31m♥\\x1b[0m] | [4\\x1b[34m♦\\x1b[0m],[7\\x1b[32m♣\\x1b[0m] |1': <src.mccfr.Infoset at 0x12fbf2630>,\n",
       " ' [3♠],[3\\x1b[34m♦\\x1b[0m] | [4\\x1b[34m♦\\x1b[0m],[7\\x1b[32m♣\\x1b[0m] |1,3': <src.mccfr.Infoset at 0x12fbf26f0>,\n",
       " ' [5\\x1b[32m♣\\x1b[0m],[9\\x1b[31m♥\\x1b[0m] | [4\\x1b[34m♦\\x1b[0m],[7\\x1b[32m♣\\x1b[0m] |3': <src.mccfr.Infoset at 0x12fbf26c0>,\n",
       " ' [J\\x1b[31m♥\\x1b[0m],[Q\\x1b[32m♣\\x1b[0m] | [3♠],[6\\x1b[31m♥\\x1b[0m] |': <src.mccfr.Infoset at 0x12fbf2210>,\n",
       " ' [4♠],[T♠] | [3♠],[6\\x1b[31m♥\\x1b[0m] |3': <src.mccfr.Infoset at 0x12fbf27e0>,\n",
       " ' [5\\x1b[34m♦\\x1b[0m],[T\\x1b[32m♣\\x1b[0m] | [7\\x1b[34m♦\\x1b[0m],[J\\x1b[32m♣\\x1b[0m] |': <src.mccfr.Infoset at 0x12fbf25d0>,\n",
       " ' [2\\x1b[32m♣\\x1b[0m],[Q\\x1b[32m♣\\x1b[0m] | [7\\x1b[34m♦\\x1b[0m],[J\\x1b[32m♣\\x1b[0m] |1': <src.mccfr.Infoset at 0x12fbf2930>,\n",
       " ' [5\\x1b[34m♦\\x1b[0m],[T\\x1b[32m♣\\x1b[0m] | [7\\x1b[34m♦\\x1b[0m],[J\\x1b[32m♣\\x1b[0m] |1,3': <src.mccfr.Infoset at 0x12fbf29f0>,\n",
       " ' [2\\x1b[32m♣\\x1b[0m],[Q\\x1b[32m♣\\x1b[0m] | [7\\x1b[34m♦\\x1b[0m],[J\\x1b[32m♣\\x1b[0m] |3': <src.mccfr.Infoset at 0x12fbf29c0>,\n",
       " ' [6\\x1b[31m♥\\x1b[0m],[6\\x1b[34m♦\\x1b[0m] | [2\\x1b[31m♥\\x1b[0m],[J\\x1b[31m♥\\x1b[0m] |': <src.mccfr.Infoset at 0x12fbf2510>,\n",
       " ' [5\\x1b[32m♣\\x1b[0m],[K\\x1b[31m♥\\x1b[0m] | [2\\x1b[31m♥\\x1b[0m],[J\\x1b[31m♥\\x1b[0m] |3': <src.mccfr.Infoset at 0x12fbf2ae0>,\n",
       " ' [6♠],[J\\x1b[34m♦\\x1b[0m] | [2♠],[8♠] |': <src.mccfr.Infoset at 0x12fbf28d0>,\n",
       " ' [5\\x1b[34m♦\\x1b[0m],[T♠] | [2♠],[8♠] |1': <src.mccfr.Infoset at 0x12fbf2c30>,\n",
       " ' [6♠],[J\\x1b[34m♦\\x1b[0m] | [2♠],[8♠] |1,3': <src.mccfr.Infoset at 0x12fbf2cf0>,\n",
       " ' [5\\x1b[34m♦\\x1b[0m],[T♠] | [2♠],[8♠] |3': <src.mccfr.Infoset at 0x12fbf2cc0>,\n",
       " ' [9\\x1b[32m♣\\x1b[0m],[K\\x1b[34m♦\\x1b[0m] | [4\\x1b[31m♥\\x1b[0m],[6\\x1b[31m♥\\x1b[0m] |': <src.mccfr.Infoset at 0x12fbf2810>,\n",
       " ' [9♠],[A♠] | [4\\x1b[31m♥\\x1b[0m],[6\\x1b[31m♥\\x1b[0m] |3': <src.mccfr.Infoset at 0x12fbf2de0>,\n",
       " ' [T\\x1b[32m♣\\x1b[0m],[A\\x1b[32m♣\\x1b[0m] | [4\\x1b[32m♣\\x1b[0m],[7♠] |': <src.mccfr.Infoset at 0x12fbf2bd0>,\n",
       " ' [2\\x1b[32m♣\\x1b[0m],[T\\x1b[34m♦\\x1b[0m] | [4\\x1b[32m♣\\x1b[0m],[7♠] |1': <src.mccfr.Infoset at 0x12fbf2f30>,\n",
       " ' [T\\x1b[32m♣\\x1b[0m],[A\\x1b[32m♣\\x1b[0m] | [4\\x1b[32m♣\\x1b[0m],[7♠] |1,3': <src.mccfr.Infoset at 0x12fbf2ff0>,\n",
       " ' [2\\x1b[32m♣\\x1b[0m],[T\\x1b[34m♦\\x1b[0m] | [4\\x1b[32m♣\\x1b[0m],[7♠] |3': <src.mccfr.Infoset at 0x12fbf2fc0>,\n",
       " ' [4\\x1b[34m♦\\x1b[0m],[A\\x1b[34m♦\\x1b[0m] | [T\\x1b[32m♣\\x1b[0m],[J\\x1b[34m♦\\x1b[0m] |': <src.mccfr.Infoset at 0x12fbf2b10>,\n",
       " ' [6\\x1b[34m♦\\x1b[0m],[7\\x1b[31m♥\\x1b[0m] | [T\\x1b[32m♣\\x1b[0m],[J\\x1b[34m♦\\x1b[0m] |3': <src.mccfr.Infoset at 0x12fbf30e0>,\n",
       " ' [2\\x1b[34m♦\\x1b[0m],[4\\x1b[34m♦\\x1b[0m] | [2\\x1b[32m♣\\x1b[0m],[A\\x1b[32m♣\\x1b[0m] |': <src.mccfr.Infoset at 0x12fbf2ed0>,\n",
       " ' [3\\x1b[34m♦\\x1b[0m],[Q\\x1b[31m♥\\x1b[0m] | [2\\x1b[32m♣\\x1b[0m],[A\\x1b[32m♣\\x1b[0m] |1': <src.mccfr.Infoset at 0x12fbf3230>,\n",
       " ' [2\\x1b[34m♦\\x1b[0m],[4\\x1b[34m♦\\x1b[0m] | [2\\x1b[32m♣\\x1b[0m],[A\\x1b[32m♣\\x1b[0m] |1,3': <src.mccfr.Infoset at 0x12fbf32f0>,\n",
       " ' [3\\x1b[34m♦\\x1b[0m],[Q\\x1b[31m♥\\x1b[0m] | [2\\x1b[32m♣\\x1b[0m],[A\\x1b[32m♣\\x1b[0m] |3': <src.mccfr.Infoset at 0x12fbf32c0>,\n",
       " ' [4\\x1b[31m♥\\x1b[0m],[T♠] | [4\\x1b[32m♣\\x1b[0m],[T\\x1b[32m♣\\x1b[0m] |': <src.mccfr.Infoset at 0x12fbf2e10>,\n",
       " ' [4\\x1b[34m♦\\x1b[0m],[Q\\x1b[32m♣\\x1b[0m] | [4\\x1b[32m♣\\x1b[0m],[T\\x1b[32m♣\\x1b[0m] |3': <src.mccfr.Infoset at 0x12fbf33e0>,\n",
       " ' [5\\x1b[31m♥\\x1b[0m],[Q\\x1b[34m♦\\x1b[0m] | [6\\x1b[32m♣\\x1b[0m],[7\\x1b[34m♦\\x1b[0m] |': <src.mccfr.Infoset at 0x12fbf31d0>,\n",
       " ' [Q♠],[K♠] | [6\\x1b[32m♣\\x1b[0m],[7\\x1b[34m♦\\x1b[0m] |1': <src.mccfr.Infoset at 0x12fbf3530>,\n",
       " ' [5\\x1b[31m♥\\x1b[0m],[Q\\x1b[34m♦\\x1b[0m] | [6\\x1b[32m♣\\x1b[0m],[7\\x1b[34m♦\\x1b[0m] |1,3': <src.mccfr.Infoset at 0x12fbf35f0>,\n",
       " ' [Q♠],[K♠] | [6\\x1b[32m♣\\x1b[0m],[7\\x1b[34m♦\\x1b[0m] |3': <src.mccfr.Infoset at 0x12fbf35c0>,\n",
       " ' [8\\x1b[32m♣\\x1b[0m],[T\\x1b[31m♥\\x1b[0m] | [6\\x1b[31m♥\\x1b[0m],[7\\x1b[32m♣\\x1b[0m] |': <src.mccfr.Infoset at 0x12fbf33b0>,\n",
       " ' [J\\x1b[31m♥\\x1b[0m],[K\\x1b[31m♥\\x1b[0m] | [6\\x1b[31m♥\\x1b[0m],[7\\x1b[32m♣\\x1b[0m] |3': <src.mccfr.Infoset at 0x12fbf36e0>,\n",
       " ' [3\\x1b[32m♣\\x1b[0m],[6♠] | [5♠],[K♠] |': <src.mccfr.Infoset at 0x12fbf34d0>,\n",
       " ' [4♠],[6\\x1b[31m♥\\x1b[0m] | [5♠],[K♠] |1': <src.mccfr.Infoset at 0x12fbf3830>,\n",
       " ' [3\\x1b[32m♣\\x1b[0m],[6♠] | [5♠],[K♠] |1,3': <src.mccfr.Infoset at 0x12fbf38f0>,\n",
       " ' [4♠],[6\\x1b[31m♥\\x1b[0m] | [5♠],[K♠] |3': <src.mccfr.Infoset at 0x12fbf38c0>,\n",
       " ' [4♠],[9♠] | [7♠],[T\\x1b[32m♣\\x1b[0m] |': <src.mccfr.Infoset at 0x12fbf3410>,\n",
       " ' [7\\x1b[31m♥\\x1b[0m],[J\\x1b[31m♥\\x1b[0m] | [7♠],[T\\x1b[32m♣\\x1b[0m] |3': <src.mccfr.Infoset at 0x12fbf39e0>,\n",
       " ' [3♠],[9♠] | [3\\x1b[31m♥\\x1b[0m],[8\\x1b[31m♥\\x1b[0m] |': <src.mccfr.Infoset at 0x12fbf37d0>,\n",
       " ' [9\\x1b[34m♦\\x1b[0m],[K\\x1b[34m♦\\x1b[0m] | [3\\x1b[31m♥\\x1b[0m],[8\\x1b[31m♥\\x1b[0m] |1': <src.mccfr.Infoset at 0x12fbf3b30>,\n",
       " ' [3♠],[9♠] | [3\\x1b[31m♥\\x1b[0m],[8\\x1b[31m♥\\x1b[0m] |1,3': <src.mccfr.Infoset at 0x12fbf3bf0>,\n",
       " ' [9\\x1b[34m♦\\x1b[0m],[K\\x1b[34m♦\\x1b[0m] | [3\\x1b[31m♥\\x1b[0m],[8\\x1b[31m♥\\x1b[0m] |3': <src.mccfr.Infoset at 0x12fbf3bc0>,\n",
       " ' [T\\x1b[32m♣\\x1b[0m],[A♠] | [9♠],[Q\\x1b[32m♣\\x1b[0m] |': <src.mccfr.Infoset at 0x12fbf3710>,\n",
       " ' [J\\x1b[32m♣\\x1b[0m],[Q♠] | [9♠],[Q\\x1b[32m♣\\x1b[0m] |3': <src.mccfr.Infoset at 0x12fbf3ce0>,\n",
       " ' [3\\x1b[34m♦\\x1b[0m],[Q\\x1b[32m♣\\x1b[0m] | [6\\x1b[32m♣\\x1b[0m],[Q\\x1b[34m♦\\x1b[0m] |': <src.mccfr.Infoset at 0x12fbf3ad0>,\n",
       " ' [6♠],[7♠] | [6\\x1b[32m♣\\x1b[0m],[Q\\x1b[34m♦\\x1b[0m] |1': <src.mccfr.Infoset at 0x12fbf3e30>,\n",
       " ' [3\\x1b[34m♦\\x1b[0m],[Q\\x1b[32m♣\\x1b[0m] | [6\\x1b[32m♣\\x1b[0m],[Q\\x1b[34m♦\\x1b[0m] |1,3': <src.mccfr.Infoset at 0x12fbf3ef0>,\n",
       " ' [6♠],[7♠] | [6\\x1b[32m♣\\x1b[0m],[Q\\x1b[34m♦\\x1b[0m] |3': <src.mccfr.Infoset at 0x12fbf3ec0>,\n",
       " ' [7♠],[J\\x1b[31m♥\\x1b[0m] | [5\\x1b[34m♦\\x1b[0m],[7\\x1b[32m♣\\x1b[0m] |': <src.mccfr.Infoset at 0x12fbf3a10>,\n",
       " ' [K\\x1b[34m♦\\x1b[0m],[A♠] | [5\\x1b[34m♦\\x1b[0m],[7\\x1b[32m♣\\x1b[0m] |3': <src.mccfr.Infoset at 0x12fbf3fe0>,\n",
       " ' [K\\x1b[31m♥\\x1b[0m],[K\\x1b[34m♦\\x1b[0m] | [4\\x1b[34m♦\\x1b[0m],[7\\x1b[34m♦\\x1b[0m] |': <src.mccfr.Infoset at 0x12fbf3dd0>,\n",
       " ' [J\\x1b[34m♦\\x1b[0m],[Q♠] | [4\\x1b[34m♦\\x1b[0m],[7\\x1b[34m♦\\x1b[0m] |1': <src.mccfr.Infoset at 0x12e930170>,\n",
       " ' [K\\x1b[31m♥\\x1b[0m],[K\\x1b[34m♦\\x1b[0m] | [4\\x1b[34m♦\\x1b[0m],[7\\x1b[34m♦\\x1b[0m] |1,3': <src.mccfr.Infoset at 0x12e930230>,\n",
       " ' [J\\x1b[34m♦\\x1b[0m],[Q♠] | [4\\x1b[34m♦\\x1b[0m],[7\\x1b[34m♦\\x1b[0m] |3': <src.mccfr.Infoset at 0x12e930200>,\n",
       " ' [J♠],[K\\x1b[34m♦\\x1b[0m] | [8♠],[A\\x1b[31m♥\\x1b[0m] |': <src.mccfr.Infoset at 0x12fbf3d10>,\n",
       " ' [3\\x1b[34m♦\\x1b[0m],[Q\\x1b[32m♣\\x1b[0m] | [8♠],[A\\x1b[31m♥\\x1b[0m] |3': <src.mccfr.Infoset at 0x12e930320>,\n",
       " ' [8\\x1b[31m♥\\x1b[0m],[A\\x1b[34m♦\\x1b[0m] | [4♠],[J\\x1b[32m♣\\x1b[0m] |': <src.mccfr.Infoset at 0x12e930110>,\n",
       " ' [5\\x1b[32m♣\\x1b[0m],[6\\x1b[34m♦\\x1b[0m] | [4♠],[J\\x1b[32m♣\\x1b[0m] |1': <src.mccfr.Infoset at 0x12e930470>,\n",
       " ' [8\\x1b[31m♥\\x1b[0m],[A\\x1b[34m♦\\x1b[0m] | [4♠],[J\\x1b[32m♣\\x1b[0m] |1,3': <src.mccfr.Infoset at 0x12e930530>,\n",
       " ' [5\\x1b[32m♣\\x1b[0m],[6\\x1b[34m♦\\x1b[0m] | [4♠],[J\\x1b[32m♣\\x1b[0m] |3': <src.mccfr.Infoset at 0x12e930500>,\n",
       " ' [6♠],[T\\x1b[31m♥\\x1b[0m] | [7♠],[7\\x1b[32m♣\\x1b[0m] |': <src.mccfr.Infoset at 0x12fbf3fb0>,\n",
       " ' [3\\x1b[31m♥\\x1b[0m],[8\\x1b[32m♣\\x1b[0m] | [7♠],[7\\x1b[32m♣\\x1b[0m] |3': <src.mccfr.Infoset at 0x12e930620>,\n",
       " ' [8♠],[8\\x1b[34m♦\\x1b[0m] | [6\\x1b[31m♥\\x1b[0m],[A♠] |': <src.mccfr.Infoset at 0x12e930410>,\n",
       " ' [3\\x1b[31m♥\\x1b[0m],[5\\x1b[32m♣\\x1b[0m] | [6\\x1b[31m♥\\x1b[0m],[A♠] |1': <src.mccfr.Infoset at 0x12e930770>,\n",
       " ' [8♠],[8\\x1b[34m♦\\x1b[0m] | [6\\x1b[31m♥\\x1b[0m],[A♠] |1,3': <src.mccfr.Infoset at 0x12e930830>,\n",
       " ' [3\\x1b[31m♥\\x1b[0m],[5\\x1b[32m♣\\x1b[0m] | [6\\x1b[31m♥\\x1b[0m],[A♠] |3': <src.mccfr.Infoset at 0x12e930800>,\n",
       " ' [2\\x1b[34m♦\\x1b[0m],[9\\x1b[32m♣\\x1b[0m] | [4\\x1b[34m♦\\x1b[0m],[Q\\x1b[34m♦\\x1b[0m] |': <src.mccfr.Infoset at 0x12e930350>,\n",
       " ' [3\\x1b[34m♦\\x1b[0m],[6♠] | [4\\x1b[34m♦\\x1b[0m],[Q\\x1b[34m♦\\x1b[0m] |3': <src.mccfr.Infoset at 0x12e930920>,\n",
       " ' [4\\x1b[34m♦\\x1b[0m],[9\\x1b[32m♣\\x1b[0m] | [2\\x1b[34m♦\\x1b[0m],[K\\x1b[31m♥\\x1b[0m] |': <src.mccfr.Infoset at 0x12e930710>,\n",
       " ' [7\\x1b[32m♣\\x1b[0m],[Q\\x1b[32m♣\\x1b[0m] | [2\\x1b[34m♦\\x1b[0m],[K\\x1b[31m♥\\x1b[0m] |1': <src.mccfr.Infoset at 0x12e930a70>,\n",
       " ' [4\\x1b[34m♦\\x1b[0m],[9\\x1b[32m♣\\x1b[0m] | [2\\x1b[34m♦\\x1b[0m],[K\\x1b[31m♥\\x1b[0m] |1,3': <src.mccfr.Infoset at 0x12e930b30>,\n",
       " ' [7\\x1b[32m♣\\x1b[0m],[Q\\x1b[32m♣\\x1b[0m] | [2\\x1b[34m♦\\x1b[0m],[K\\x1b[31m♥\\x1b[0m] |3': <src.mccfr.Infoset at 0x12e930b00>,\n",
       " ' [J♠],[A\\x1b[34m♦\\x1b[0m] | [3\\x1b[34m♦\\x1b[0m],[6\\x1b[31m♥\\x1b[0m] |': <src.mccfr.Infoset at 0x12e930650>,\n",
       " ' [8\\x1b[31m♥\\x1b[0m],[K\\x1b[34m♦\\x1b[0m] | [3\\x1b[34m♦\\x1b[0m],[6\\x1b[31m♥\\x1b[0m] |3': <src.mccfr.Infoset at 0x12e930c20>,\n",
       " ' [5\\x1b[34m♦\\x1b[0m],[6\\x1b[32m♣\\x1b[0m] | [J\\x1b[31m♥\\x1b[0m],[Q\\x1b[32m♣\\x1b[0m] |': <src.mccfr.Infoset at 0x12e930a10>,\n",
       " ' [3♠],[8\\x1b[34m♦\\x1b[0m] | [J\\x1b[31m♥\\x1b[0m],[Q\\x1b[32m♣\\x1b[0m] |1': <src.mccfr.Infoset at 0x12e930d70>,\n",
       " ' [5\\x1b[34m♦\\x1b[0m],[6\\x1b[32m♣\\x1b[0m] | [J\\x1b[31m♥\\x1b[0m],[Q\\x1b[32m♣\\x1b[0m] |1,3': <src.mccfr.Infoset at 0x12e930e30>,\n",
       " ' [3♠],[8\\x1b[34m♦\\x1b[0m] | [J\\x1b[31m♥\\x1b[0m],[Q\\x1b[32m♣\\x1b[0m] |3': <src.mccfr.Infoset at 0x12e930e00>,\n",
       " ' [8\\x1b[32m♣\\x1b[0m],[Q♠] | [2\\x1b[34m♦\\x1b[0m],[3\\x1b[34m♦\\x1b[0m] |': <src.mccfr.Infoset at 0x12e930950>,\n",
       " ' [8♠],[T\\x1b[31m♥\\x1b[0m] | [2\\x1b[34m♦\\x1b[0m],[3\\x1b[34m♦\\x1b[0m] |3': <src.mccfr.Infoset at 0x12e930f20>,\n",
       " ' [5♠],[J\\x1b[32m♣\\x1b[0m] | [K\\x1b[31m♥\\x1b[0m],[A\\x1b[31m♥\\x1b[0m] |': <src.mccfr.Infoset at 0x12e930d10>,\n",
       " ' [2\\x1b[32m♣\\x1b[0m],[9♠] | [K\\x1b[31m♥\\x1b[0m],[A\\x1b[31m♥\\x1b[0m] |1': <src.mccfr.Infoset at 0x12e931070>,\n",
       " ' [5♠],[J\\x1b[32m♣\\x1b[0m] | [K\\x1b[31m♥\\x1b[0m],[A\\x1b[31m♥\\x1b[0m] |1,3': <src.mccfr.Infoset at 0x12e931130>,\n",
       " ' [2\\x1b[32m♣\\x1b[0m],[9♠] | [K\\x1b[31m♥\\x1b[0m],[A\\x1b[31m♥\\x1b[0m] |3': <src.mccfr.Infoset at 0x12e931100>,\n",
       " ' [T\\x1b[31m♥\\x1b[0m],[Q\\x1b[31m♥\\x1b[0m] | [8♠],[Q♠] |': <src.mccfr.Infoset at 0x12e930c50>,\n",
       " ' [4\\x1b[32m♣\\x1b[0m],[8\\x1b[31m♥\\x1b[0m] | [8♠],[Q♠] |3': <src.mccfr.Infoset at 0x12e931220>,\n",
       " ' [8\\x1b[31m♥\\x1b[0m],[Q\\x1b[32m♣\\x1b[0m] | [2\\x1b[34m♦\\x1b[0m],[T\\x1b[32m♣\\x1b[0m] |': <src.mccfr.Infoset at 0x12e931010>,\n",
       " ' [T♠],[A\\x1b[31m♥\\x1b[0m] | [2\\x1b[34m♦\\x1b[0m],[T\\x1b[32m♣\\x1b[0m] |1': <src.mccfr.Infoset at 0x12e931370>,\n",
       " ' [8\\x1b[31m♥\\x1b[0m],[Q\\x1b[32m♣\\x1b[0m] | [2\\x1b[34m♦\\x1b[0m],[T\\x1b[32m♣\\x1b[0m] |1,3': <src.mccfr.Infoset at 0x12e931430>,\n",
       " ' [T♠],[A\\x1b[31m♥\\x1b[0m] | [2\\x1b[34m♦\\x1b[0m],[T\\x1b[32m♣\\x1b[0m] |3': <src.mccfr.Infoset at 0x12e931400>,\n",
       " ' [9♠],[J\\x1b[32m♣\\x1b[0m] | [3\\x1b[31m♥\\x1b[0m],[J\\x1b[34m♦\\x1b[0m] |': <src.mccfr.Infoset at 0x12e930f50>,\n",
       " ' [7\\x1b[31m♥\\x1b[0m],[A\\x1b[32m♣\\x1b[0m] | [3\\x1b[31m♥\\x1b[0m],[J\\x1b[34m♦\\x1b[0m] |3': <src.mccfr.Infoset at 0x12e931520>,\n",
       " ' [7♠],[A\\x1b[34m♦\\x1b[0m] | [6\\x1b[31m♥\\x1b[0m],[A\\x1b[31m♥\\x1b[0m] |': <src.mccfr.Infoset at 0x12e931310>,\n",
       " ' [2\\x1b[34m♦\\x1b[0m],[6♠] | [6\\x1b[31m♥\\x1b[0m],[A\\x1b[31m♥\\x1b[0m] |1': <src.mccfr.Infoset at 0x12e931670>,\n",
       " ' [7♠],[A\\x1b[34m♦\\x1b[0m] | [6\\x1b[31m♥\\x1b[0m],[A\\x1b[31m♥\\x1b[0m] |1,3': <src.mccfr.Infoset at 0x12e931730>,\n",
       " ' [2\\x1b[34m♦\\x1b[0m],[6♠] | [6\\x1b[31m♥\\x1b[0m],[A\\x1b[31m♥\\x1b[0m] |3': <src.mccfr.Infoset at 0x12e931700>,\n",
       " ' [7\\x1b[34m♦\\x1b[0m],[T\\x1b[32m♣\\x1b[0m] | [T♠],[Q\\x1b[34m♦\\x1b[0m] |': <src.mccfr.Infoset at 0x12e931250>,\n",
       " ' [7\\x1b[32m♣\\x1b[0m],[Q♠] | [T♠],[Q\\x1b[34m♦\\x1b[0m] |3': <src.mccfr.Infoset at 0x12e931820>,\n",
       " ' [4\\x1b[34m♦\\x1b[0m],[K\\x1b[31m♥\\x1b[0m] | [6\\x1b[31m♥\\x1b[0m],[9\\x1b[31m♥\\x1b[0m] |': <src.mccfr.Infoset at 0x12e931610>,\n",
       " ' [8\\x1b[32m♣\\x1b[0m],[Q♠] | [6\\x1b[31m♥\\x1b[0m],[9\\x1b[31m♥\\x1b[0m] |1': <src.mccfr.Infoset at 0x12e931970>,\n",
       " ' [4\\x1b[34m♦\\x1b[0m],[K\\x1b[31m♥\\x1b[0m] | [6\\x1b[31m♥\\x1b[0m],[9\\x1b[31m♥\\x1b[0m] |1,3': <src.mccfr.Infoset at 0x12e931a30>,\n",
       " ' [8\\x1b[32m♣\\x1b[0m],[Q♠] | [6\\x1b[31m♥\\x1b[0m],[9\\x1b[31m♥\\x1b[0m] |3': <src.mccfr.Infoset at 0x12e931a00>,\n",
       " ' [7\\x1b[34m♦\\x1b[0m],[9♠] | [A♠],[A\\x1b[34m♦\\x1b[0m] |': <src.mccfr.Infoset at 0x12fbf3e90>,\n",
       " ' [K\\x1b[31m♥\\x1b[0m],[A\\x1b[31m♥\\x1b[0m] | [A♠],[A\\x1b[34m♦\\x1b[0m] |3': <src.mccfr.Infoset at 0x12fbf3b90>,\n",
       " ' [7\\x1b[31m♥\\x1b[0m],[A\\x1b[31m♥\\x1b[0m] | [2\\x1b[31m♥\\x1b[0m],[T♠] |': <src.mccfr.Infoset at 0x12fbf3770>,\n",
       " ' [2♠],[Q♠] | [2\\x1b[31m♥\\x1b[0m],[T♠] |1': <src.mccfr.Infoset at 0x12fbf3470>,\n",
       " ' [7\\x1b[31m♥\\x1b[0m],[A\\x1b[31m♥\\x1b[0m] | [2\\x1b[31m♥\\x1b[0m],[T♠] |1,3': <src.mccfr.Infoset at 0x12fbf3170>,\n",
       " ' [2♠],[Q♠] | [2\\x1b[31m♥\\x1b[0m],[T♠] |3': <src.mccfr.Infoset at 0x12fbf3140>,\n",
       " ' [2♠],[A♠] | [3♠],[J\\x1b[31m♥\\x1b[0m] |': <src.mccfr.Infoset at 0x12fbf3d40>,\n",
       " ' [4\\x1b[31m♥\\x1b[0m],[4\\x1b[34m♦\\x1b[0m] | [3♠],[J\\x1b[31m♥\\x1b[0m] |3': <src.mccfr.Infoset at 0x12fbf2c90>,\n",
       " ' [Q\\x1b[32m♣\\x1b[0m],[A\\x1b[34m♦\\x1b[0m] | [6\\x1b[31m♥\\x1b[0m],[7♠] |': <src.mccfr.Infoset at 0x12fbf3590>,\n",
       " ' [3\\x1b[34m♦\\x1b[0m],[8\\x1b[34m♦\\x1b[0m] | [6\\x1b[31m♥\\x1b[0m],[7♠] |1': <src.mccfr.Infoset at 0x12fbf2870>,\n",
       " ' [Q\\x1b[32m♣\\x1b[0m],[A\\x1b[34m♦\\x1b[0m] | [6\\x1b[31m♥\\x1b[0m],[7♠] |1,3': <src.mccfr.Infoset at 0x12fbf2570>,\n",
       " ' [3\\x1b[34m♦\\x1b[0m],[8\\x1b[34m♦\\x1b[0m] | [6\\x1b[31m♥\\x1b[0m],[7♠] |3': <src.mccfr.Infoset at 0x12fbf2540>,\n",
       " ' [Q\\x1b[31m♥\\x1b[0m],[K\\x1b[34m♦\\x1b[0m] | [8\\x1b[31m♥\\x1b[0m],[J\\x1b[31m♥\\x1b[0m] |': <src.mccfr.Infoset at 0x12fbf3a40>,\n",
       " ' [6♠],[K♠] | [8\\x1b[31m♥\\x1b[0m],[J\\x1b[31m♥\\x1b[0m] |3': <src.mccfr.Infoset at 0x12fbf2090>,\n",
       " ' [8\\x1b[34m♦\\x1b[0m],[T\\x1b[34m♦\\x1b[0m] | [4\\x1b[34m♦\\x1b[0m],[6\\x1b[34m♦\\x1b[0m] |': <src.mccfr.Infoset at 0x12fbf2a50>,\n",
       " ' [3\\x1b[31m♥\\x1b[0m],[6\\x1b[32m♣\\x1b[0m] | [4\\x1b[34m♦\\x1b[0m],[6\\x1b[34m♦\\x1b[0m] |1': <src.mccfr.Infoset at 0x12fbf1c70>,\n",
       " ' [8\\x1b[34m♦\\x1b[0m],[T\\x1b[34m♦\\x1b[0m] | [4\\x1b[34m♦\\x1b[0m],[6\\x1b[34m♦\\x1b[0m] |1,3': <src.mccfr.Infoset at 0x12fbf1970>,\n",
       " ' [3\\x1b[31m♥\\x1b[0m],[6\\x1b[32m♣\\x1b[0m] | [4\\x1b[34m♦\\x1b[0m],[6\\x1b[34m♦\\x1b[0m] |3': <src.mccfr.Infoset at 0x12fbf1940>,\n",
       " ' [4\\x1b[31m♥\\x1b[0m],[Q\\x1b[31m♥\\x1b[0m] | [5♠],[9♠] |': <src.mccfr.Infoset at 0x12fbf2d50>,\n",
       " ' [6\\x1b[31m♥\\x1b[0m],[T\\x1b[34m♦\\x1b[0m] | [5♠],[9♠] |3': <src.mccfr.Infoset at 0x12fbf1490>,\n",
       " ' [9\\x1b[32m♣\\x1b[0m],[K\\x1b[31m♥\\x1b[0m] | [7\\x1b[32m♣\\x1b[0m],[T\\x1b[32m♣\\x1b[0m] |': <src.mccfr.Infoset at 0x12fbf1e50>,\n",
       " ' [Q\\x1b[32m♣\\x1b[0m],[A\\x1b[34m♦\\x1b[0m] | [7\\x1b[32m♣\\x1b[0m],[T\\x1b[32m♣\\x1b[0m] |1': <src.mccfr.Infoset at 0x12fbf1070>,\n",
       " ' [9\\x1b[32m♣\\x1b[0m],[K\\x1b[31m♥\\x1b[0m] | [7\\x1b[32m♣\\x1b[0m],[T\\x1b[32m♣\\x1b[0m] |1,3': <src.mccfr.Infoset at 0x12fbf0d70>,\n",
       " ' [Q\\x1b[32m♣\\x1b[0m],[A\\x1b[34m♦\\x1b[0m] | [7\\x1b[32m♣\\x1b[0m],[T\\x1b[32m♣\\x1b[0m] |3': <src.mccfr.Infoset at 0x12fbf0d40>,\n",
       " ' [9♠],[Q\\x1b[32m♣\\x1b[0m] | [5\\x1b[34m♦\\x1b[0m],[T♠] |': <src.mccfr.Infoset at 0x12fbf2150>,\n",
       " ' [J\\x1b[34m♦\\x1b[0m],[K♠] | [5\\x1b[34m♦\\x1b[0m],[T♠] |3': <src.mccfr.Infoset at 0x12fbf0500>,\n",
       " ' [6\\x1b[31m♥\\x1b[0m],[T♠] | [2\\x1b[34m♦\\x1b[0m],[9\\x1b[34m♦\\x1b[0m] |': <src.mccfr.Infoset at 0x12fbf1250>,\n",
       " ' [J♠],[K♠] | [2\\x1b[34m♦\\x1b[0m],[9\\x1b[34m♦\\x1b[0m] |1': <src.mccfr.Infoset at 0x11f991e80>,\n",
       " ' [6\\x1b[31m♥\\x1b[0m],[T♠] | [2\\x1b[34m♦\\x1b[0m],[9\\x1b[34m♦\\x1b[0m] |1,3': <src.mccfr.Infoset at 0x11f9db980>,\n",
       " ' [J♠],[K♠] | [2\\x1b[34m♦\\x1b[0m],[9\\x1b[34m♦\\x1b[0m] |3': <src.mccfr.Infoset at 0x11f9db8c0>,\n",
       " ' [8\\x1b[31m♥\\x1b[0m],[A\\x1b[31m♥\\x1b[0m] | [2♠],[8\\x1b[32m♣\\x1b[0m] |': <src.mccfr.Infoset at 0x12fbf1550>,\n",
       " ' [8\\x1b[34m♦\\x1b[0m],[9\\x1b[32m♣\\x1b[0m] | [2♠],[8\\x1b[32m♣\\x1b[0m] |3': <src.mccfr.Infoset at 0x12eb78a10>,\n",
       " ' [8\\x1b[32m♣\\x1b[0m],[9\\x1b[34m♦\\x1b[0m] | [4\\x1b[34m♦\\x1b[0m],[J\\x1b[31m♥\\x1b[0m] |': <src.mccfr.Infoset at 0x11f992720>,\n",
       " ' [3♠],[4\\x1b[32m♣\\x1b[0m] | [4\\x1b[34m♦\\x1b[0m],[J\\x1b[31m♥\\x1b[0m] |1': <src.mccfr.Infoset at 0x12eb79a60>,\n",
       " ' [8\\x1b[32m♣\\x1b[0m],[9\\x1b[34m♦\\x1b[0m] | [4\\x1b[34m♦\\x1b[0m],[J\\x1b[31m♥\\x1b[0m] |1,3': <src.mccfr.Infoset at 0x12eb7a6c0>,\n",
       " ' [3♠],[4\\x1b[32m♣\\x1b[0m] | [4\\x1b[34m♦\\x1b[0m],[J\\x1b[31m♥\\x1b[0m] |3': <src.mccfr.Infoset at 0x12eb7a8a0>,\n",
       " ' [K♠],[A\\x1b[31m♥\\x1b[0m] | [4♠],[K\\x1b[34m♦\\x1b[0m] |': <src.mccfr.Infoset at 0x12fbf0200>,\n",
       " ' [8\\x1b[31m♥\\x1b[0m],[9\\x1b[31m♥\\x1b[0m] | [4♠],[K\\x1b[34m♦\\x1b[0m] |3': <src.mccfr.Infoset at 0x12eb7bc80>,\n",
       " ' [8♠],[J\\x1b[32m♣\\x1b[0m] | [5♠],[J♠] |': <src.mccfr.Infoset at 0x12eb79310>,\n",
       " ' [2♠],[2\\x1b[31m♥\\x1b[0m] | [5♠],[J♠] |1': <src.mccfr.Infoset at 0x12e931af0>,\n",
       " ' [8♠],[J\\x1b[32m♣\\x1b[0m] | [5♠],[J♠] |1,3': <src.mccfr.Infoset at 0x12e9315b0>,\n",
       " ' [2♠],[2\\x1b[31m♥\\x1b[0m] | [5♠],[J♠] |3': <src.mccfr.Infoset at 0x12e931580>,\n",
       " ' [3♠],[8\\x1b[32m♣\\x1b[0m] | [6♠],[K\\x1b[34m♦\\x1b[0m] |': <src.mccfr.Infoset at 0x12eb78710>,\n",
       " ' [2\\x1b[34m♦\\x1b[0m],[5\\x1b[32m♣\\x1b[0m] | [6♠],[K\\x1b[34m♦\\x1b[0m] |3': <src.mccfr.Infoset at 0x12e9310d0>,\n",
       " ' [6\\x1b[32m♣\\x1b[0m],[A♠] | [K\\x1b[31m♥\\x1b[0m],[A\\x1b[32m♣\\x1b[0m] |': <src.mccfr.Infoset at 0x12e931550>,\n",
       " ' [J\\x1b[34m♦\\x1b[0m],[A\\x1b[34m♦\\x1b[0m] | [K\\x1b[31m♥\\x1b[0m],[A\\x1b[32m♣\\x1b[0m] |1': <src.mccfr.Infoset at 0x12e930cb0>,\n",
       " ' [6\\x1b[32m♣\\x1b[0m],[A♠] | [K\\x1b[31m♥\\x1b[0m],[A\\x1b[32m♣\\x1b[0m] |1,3': <src.mccfr.Infoset at 0x12e9309b0>,\n",
       " ' [J\\x1b[34m♦\\x1b[0m],[A\\x1b[34m♦\\x1b[0m] | [K\\x1b[31m♥\\x1b[0m],[A\\x1b[32m♣\\x1b[0m] |3': <src.mccfr.Infoset at 0x12e930980>,\n",
       " ' [4\\x1b[31m♥\\x1b[0m],[4\\x1b[32m♣\\x1b[0m] | [6\\x1b[31m♥\\x1b[0m],[J♠] |': <src.mccfr.Infoset at 0x12eb7b980>,\n",
       " ' [6\\x1b[32m♣\\x1b[0m],[A\\x1b[31m♥\\x1b[0m] | [6\\x1b[31m♥\\x1b[0m],[J♠] |3': <src.mccfr.Infoset at 0x12e9304d0>,\n",
       " ' [3\\x1b[34m♦\\x1b[0m],[5♠] | [3\\x1b[32m♣\\x1b[0m],[J\\x1b[34m♦\\x1b[0m] |': <src.mccfr.Infoset at 0x12e930e90>,\n",
       " ' [9♠],[Q\\x1b[34m♦\\x1b[0m] | [3\\x1b[32m♣\\x1b[0m],[J\\x1b[34m♦\\x1b[0m] |1': <src.mccfr.Infoset at 0x12e9300b0>,\n",
       " ' [3\\x1b[34m♦\\x1b[0m],[5♠] | [3\\x1b[32m♣\\x1b[0m],[J\\x1b[34m♦\\x1b[0m] |1,3': <src.mccfr.Infoset at 0x12e931b80>,\n",
       " ' [9♠],[Q\\x1b[34m♦\\x1b[0m] | [3\\x1b[32m♣\\x1b[0m],[J\\x1b[34m♦\\x1b[0m] |3': <src.mccfr.Infoset at 0x12e931b50>,\n",
       " ' [7\\x1b[32m♣\\x1b[0m],[Q\\x1b[31m♥\\x1b[0m] | [2\\x1b[32m♣\\x1b[0m],[4\\x1b[34m♦\\x1b[0m] |': <src.mccfr.Infoset at 0x12e931190>,\n",
       " ' [7♠],[J\\x1b[34m♦\\x1b[0m] | [2\\x1b[32m♣\\x1b[0m],[4\\x1b[34m♦\\x1b[0m] |3': <src.mccfr.Infoset at 0x12e931c70>,\n",
       " ' [4\\x1b[34m♦\\x1b[0m],[A\\x1b[31m♥\\x1b[0m] | [3\\x1b[31m♥\\x1b[0m],[K\\x1b[32m♣\\x1b[0m] |': <src.mccfr.Infoset at 0x12e930290>,\n",
       " ' [7♠],[A\\x1b[32m♣\\x1b[0m] | [3\\x1b[31m♥\\x1b[0m],[K\\x1b[32m♣\\x1b[0m] |1': <src.mccfr.Infoset at 0x12e931dc0>,\n",
       " ' [4\\x1b[34m♦\\x1b[0m],[A\\x1b[31m♥\\x1b[0m] | [3\\x1b[31m♥\\x1b[0m],[K\\x1b[32m♣\\x1b[0m] |1,3': <src.mccfr.Infoset at 0x12e931e80>,\n",
       " ' [7♠],[A\\x1b[32m♣\\x1b[0m] | [3\\x1b[31m♥\\x1b[0m],[K\\x1b[32m♣\\x1b[0m] |3': <src.mccfr.Infoset at 0x12e931e50>,\n",
       " ' [4\\x1b[34m♦\\x1b[0m],[T\\x1b[31m♥\\x1b[0m] | [J\\x1b[32m♣\\x1b[0m],[Q\\x1b[34m♦\\x1b[0m] |': <src.mccfr.Infoset at 0x12e930590>,\n",
       " ' [2\\x1b[31m♥\\x1b[0m],[J\\x1b[31m♥\\x1b[0m] | [J\\x1b[32m♣\\x1b[0m],[Q\\x1b[34m♦\\x1b[0m] |3': <src.mccfr.Infoset at 0x12e931f70>,\n",
       " ' [8♠],[Q♠] | [J\\x1b[31m♥\\x1b[0m],[A♠] |': <src.mccfr.Infoset at 0x12e931d60>,\n",
       " ' [4\\x1b[31m♥\\x1b[0m],[6\\x1b[34m♦\\x1b[0m] | [J\\x1b[31m♥\\x1b[0m],[A♠] |1': <src.mccfr.Infoset at 0x12e9320c0>,\n",
       " ' [8♠],[Q♠] | [J\\x1b[31m♥\\x1b[0m],[A♠] |1,3': <src.mccfr.Infoset at 0x12e932180>,\n",
       " ' [4\\x1b[31m♥\\x1b[0m],[6\\x1b[34m♦\\x1b[0m] | [J\\x1b[31m♥\\x1b[0m],[A♠] |3': <src.mccfr.Infoset at 0x12e932150>,\n",
       " ' [5\\x1b[32m♣\\x1b[0m],[8\\x1b[32m♣\\x1b[0m] | [3\\x1b[32m♣\\x1b[0m],[A\\x1b[31m♥\\x1b[0m] |': <src.mccfr.Infoset at 0x12e931ca0>,\n",
       " ' [3\\x1b[31m♥\\x1b[0m],[Q♠] | [3\\x1b[32m♣\\x1b[0m],[A\\x1b[31m♥\\x1b[0m] |3': <src.mccfr.Infoset at 0x12e932270>,\n",
       " ' [2\\x1b[32m♣\\x1b[0m],[6\\x1b[32m♣\\x1b[0m] | [T♠],[A\\x1b[34m♦\\x1b[0m] |': <src.mccfr.Infoset at 0x12e932060>,\n",
       " ' [K\\x1b[31m♥\\x1b[0m],[A\\x1b[31m♥\\x1b[0m] | [T♠],[A\\x1b[34m♦\\x1b[0m] |1': <src.mccfr.Infoset at 0x12e9323c0>,\n",
       " ' [2\\x1b[32m♣\\x1b[0m],[6\\x1b[32m♣\\x1b[0m] | [T♠],[A\\x1b[34m♦\\x1b[0m] |1,3': <src.mccfr.Infoset at 0x12e932480>,\n",
       " ' [K\\x1b[31m♥\\x1b[0m],[A\\x1b[31m♥\\x1b[0m] | [T♠],[A\\x1b[34m♦\\x1b[0m] |3': <src.mccfr.Infoset at 0x12e932450>,\n",
       " ' [3\\x1b[34m♦\\x1b[0m],[K\\x1b[34m♦\\x1b[0m] | [7\\x1b[34m♦\\x1b[0m],[K♠] |': <src.mccfr.Infoset at 0x12e931fa0>,\n",
       " ' [8\\x1b[32m♣\\x1b[0m],[9\\x1b[31m♥\\x1b[0m] | [7\\x1b[34m♦\\x1b[0m],[K♠] |3': <src.mccfr.Infoset at 0x12e932570>,\n",
       " ' [2\\x1b[32m♣\\x1b[0m],[K\\x1b[31m♥\\x1b[0m] | [T\\x1b[34m♦\\x1b[0m],[Q♠] |': <src.mccfr.Infoset at 0x12e932360>,\n",
       " ' [7♠],[7\\x1b[31m♥\\x1b[0m] | [T\\x1b[34m♦\\x1b[0m],[Q♠] |1': <src.mccfr.Infoset at 0x12e9326c0>,\n",
       " ' [2\\x1b[32m♣\\x1b[0m],[K\\x1b[31m♥\\x1b[0m] | [T\\x1b[34m♦\\x1b[0m],[Q♠] |1,3': <src.mccfr.Infoset at 0x12e932780>,\n",
       " ' [7♠],[7\\x1b[31m♥\\x1b[0m] | [T\\x1b[34m♦\\x1b[0m],[Q♠] |3': <src.mccfr.Infoset at 0x12e932750>,\n",
       " ' [5\\x1b[31m♥\\x1b[0m],[8\\x1b[31m♥\\x1b[0m] | [6\\x1b[34m♦\\x1b[0m],[7\\x1b[32m♣\\x1b[0m] |': <src.mccfr.Infoset at 0x12e9322a0>,\n",
       " ' [4♠],[8\\x1b[34m♦\\x1b[0m] | [6\\x1b[34m♦\\x1b[0m],[7\\x1b[32m♣\\x1b[0m] |3': <src.mccfr.Infoset at 0x12e932870>,\n",
       " ' [2\\x1b[31m♥\\x1b[0m],[5♠] | [9\\x1b[31m♥\\x1b[0m],[A♠] |': <src.mccfr.Infoset at 0x12e932660>,\n",
       " ' [5\\x1b[34m♦\\x1b[0m],[J\\x1b[31m♥\\x1b[0m] | [9\\x1b[31m♥\\x1b[0m],[A♠] |1': <src.mccfr.Infoset at 0x12e9329c0>,\n",
       " ' [2\\x1b[31m♥\\x1b[0m],[5♠] | [9\\x1b[31m♥\\x1b[0m],[A♠] |1,3': <src.mccfr.Infoset at 0x12e932a80>,\n",
       " ' [5\\x1b[34m♦\\x1b[0m],[J\\x1b[31m♥\\x1b[0m] | [9\\x1b[31m♥\\x1b[0m],[A♠] |3': <src.mccfr.Infoset at 0x12e932a50>,\n",
       " ' [6♠],[A\\x1b[32m♣\\x1b[0m] | [8\\x1b[34m♦\\x1b[0m],[K\\x1b[31m♥\\x1b[0m] |': <src.mccfr.Infoset at 0x12e9325a0>,\n",
       " ' [6\\x1b[34m♦\\x1b[0m],[A♠] | [8\\x1b[34m♦\\x1b[0m],[K\\x1b[31m♥\\x1b[0m] |3': <src.mccfr.Infoset at 0x12e932b70>,\n",
       " ' [8\\x1b[34m♦\\x1b[0m],[9\\x1b[31m♥\\x1b[0m] | [3\\x1b[34m♦\\x1b[0m],[J\\x1b[34m♦\\x1b[0m] |': <src.mccfr.Infoset at 0x12e932960>,\n",
       " ' [5\\x1b[34m♦\\x1b[0m],[Q♠] | [3\\x1b[34m♦\\x1b[0m],[J\\x1b[34m♦\\x1b[0m] |1': <src.mccfr.Infoset at 0x12e932cc0>,\n",
       " ' [8\\x1b[34m♦\\x1b[0m],[9\\x1b[31m♥\\x1b[0m] | [3\\x1b[34m♦\\x1b[0m],[J\\x1b[34m♦\\x1b[0m] |1,3': <src.mccfr.Infoset at 0x12e932d80>,\n",
       " ' [5\\x1b[34m♦\\x1b[0m],[Q♠] | [3\\x1b[34m♦\\x1b[0m],[J\\x1b[34m♦\\x1b[0m] |3': <src.mccfr.Infoset at 0x12e932d50>,\n",
       " ' [T\\x1b[31m♥\\x1b[0m],[A♠] | [T♠],[A\\x1b[31m♥\\x1b[0m] |': <src.mccfr.Infoset at 0x12fbf3c50>,\n",
       " ' [K♠],[K\\x1b[34m♦\\x1b[0m] | [T♠],[A\\x1b[31m♥\\x1b[0m] |3': <src.mccfr.Infoset at 0x12e932ea0>,\n",
       " ' [3\\x1b[31m♥\\x1b[0m],[A♠] | [5\\x1b[32m♣\\x1b[0m],[6\\x1b[34m♦\\x1b[0m] |': <src.mccfr.Infoset at 0x12e932c60>,\n",
       " ' [9♠],[K♠] | [5\\x1b[32m♣\\x1b[0m],[6\\x1b[34m♦\\x1b[0m] |1': <src.mccfr.Infoset at 0x12e932ff0>,\n",
       " ' [3\\x1b[31m♥\\x1b[0m],[A♠] | [5\\x1b[32m♣\\x1b[0m],[6\\x1b[34m♦\\x1b[0m] |1,3': <src.mccfr.Infoset at 0x12e9330b0>,\n",
       " ' [9♠],[K♠] | [5\\x1b[32m♣\\x1b[0m],[6\\x1b[34m♦\\x1b[0m] |3': <src.mccfr.Infoset at 0x12e933080>,\n",
       " ' [4\\x1b[34m♦\\x1b[0m],[K\\x1b[34m♦\\x1b[0m] | [2\\x1b[34m♦\\x1b[0m],[9\\x1b[34m♦\\x1b[0m] |': <src.mccfr.Infoset at 0x12e932ba0>,\n",
       " ' [2♠],[Q\\x1b[34m♦\\x1b[0m] | [2\\x1b[34m♦\\x1b[0m],[9\\x1b[34m♦\\x1b[0m] |3': <src.mccfr.Infoset at 0x12e9331a0>,\n",
       " ' [7\\x1b[34m♦\\x1b[0m],[J\\x1b[31m♥\\x1b[0m] | [2\\x1b[31m♥\\x1b[0m],[K\\x1b[34m♦\\x1b[0m] |': <src.mccfr.Infoset at 0x12e932f90>,\n",
       " ' [7♠],[T\\x1b[31m♥\\x1b[0m] | [2\\x1b[31m♥\\x1b[0m],[K\\x1b[34m♦\\x1b[0m] |1': <src.mccfr.Infoset at 0x12e9332f0>,\n",
       " ' [7\\x1b[34m♦\\x1b[0m],[J\\x1b[31m♥\\x1b[0m] | [2\\x1b[31m♥\\x1b[0m],[K\\x1b[34m♦\\x1b[0m] |1,3': <src.mccfr.Infoset at 0x12e9333b0>,\n",
       " ' [7♠],[T\\x1b[31m♥\\x1b[0m] | [2\\x1b[31m♥\\x1b[0m],[K\\x1b[34m♦\\x1b[0m] |3': <src.mccfr.Infoset at 0x12e933380>,\n",
       " ' [7\\x1b[34m♦\\x1b[0m],[9♠] | [3\\x1b[31m♥\\x1b[0m],[K\\x1b[31m♥\\x1b[0m] |': <src.mccfr.Infoset at 0x12e932ed0>,\n",
       " ' [4♠],[8♠] | [3\\x1b[31m♥\\x1b[0m],[K\\x1b[31m♥\\x1b[0m] |3': <src.mccfr.Infoset at 0x12e9334a0>,\n",
       " ' [5\\x1b[34m♦\\x1b[0m],[7\\x1b[32m♣\\x1b[0m] | [7\\x1b[31m♥\\x1b[0m],[A\\x1b[32m♣\\x1b[0m] |': <src.mccfr.Infoset at 0x12e933290>,\n",
       " ' [5\\x1b[32m♣\\x1b[0m],[9\\x1b[32m♣\\x1b[0m] | [7\\x1b[31m♥\\x1b[0m],[A\\x1b[32m♣\\x1b[0m] |1': <src.mccfr.Infoset at 0x12e9335f0>,\n",
       " ' [5\\x1b[34m♦\\x1b[0m],[7\\x1b[32m♣\\x1b[0m] | [7\\x1b[31m♥\\x1b[0m],[A\\x1b[32m♣\\x1b[0m] |1,3': <src.mccfr.Infoset at 0x12e9336b0>,\n",
       " ' [5\\x1b[32m♣\\x1b[0m],[9\\x1b[32m♣\\x1b[0m] | [7\\x1b[31m♥\\x1b[0m],[A\\x1b[32m♣\\x1b[0m] |3': <src.mccfr.Infoset at 0x12e933680>,\n",
       " ' [2\\x1b[34m♦\\x1b[0m],[8\\x1b[31m♥\\x1b[0m] | [3\\x1b[32m♣\\x1b[0m],[K\\x1b[32m♣\\x1b[0m] |': <src.mccfr.Infoset at 0x12e9331d0>,\n",
       " ' [9\\x1b[34m♦\\x1b[0m],[T♠] | [3\\x1b[32m♣\\x1b[0m],[K\\x1b[32m♣\\x1b[0m] |3': <src.mccfr.Infoset at 0x12e9337a0>,\n",
       " ' [T\\x1b[32m♣\\x1b[0m],[A\\x1b[32m♣\\x1b[0m] | [3\\x1b[34m♦\\x1b[0m],[J\\x1b[31m♥\\x1b[0m] |': <src.mccfr.Infoset at 0x12e933590>,\n",
       " ' [7\\x1b[34m♦\\x1b[0m],[9\\x1b[32m♣\\x1b[0m] | [3\\x1b[34m♦\\x1b[0m],[J\\x1b[31m♥\\x1b[0m] |1': <src.mccfr.Infoset at 0x12e9338f0>,\n",
       " ' [T\\x1b[32m♣\\x1b[0m],[A\\x1b[32m♣\\x1b[0m] | [3\\x1b[34m♦\\x1b[0m],[J\\x1b[31m♥\\x1b[0m] |1,3': <src.mccfr.Infoset at 0x12e9339b0>,\n",
       " ' [7\\x1b[34m♦\\x1b[0m],[9\\x1b[32m♣\\x1b[0m] | [3\\x1b[34m♦\\x1b[0m],[J\\x1b[31m♥\\x1b[0m] |3': <src.mccfr.Infoset at 0x12e933980>,\n",
       " ' [2\\x1b[34m♦\\x1b[0m],[9\\x1b[34m♦\\x1b[0m] | [Q\\x1b[31m♥\\x1b[0m],[A♠] |': <src.mccfr.Infoset at 0x12e9334d0>,\n",
       " ' [3♠],[8\\x1b[31m♥\\x1b[0m] | [Q\\x1b[31m♥\\x1b[0m],[A♠] |3': <src.mccfr.Infoset at 0x12e933aa0>,\n",
       " ' [2\\x1b[32m♣\\x1b[0m],[4\\x1b[31m♥\\x1b[0m] | [9\\x1b[34m♦\\x1b[0m],[A\\x1b[31m♥\\x1b[0m] |': <src.mccfr.Infoset at 0x12e933890>,\n",
       " ' [8\\x1b[32m♣\\x1b[0m],[T\\x1b[32m♣\\x1b[0m] | [9\\x1b[34m♦\\x1b[0m],[A\\x1b[31m♥\\x1b[0m] |1': <src.mccfr.Infoset at 0x12e933bf0>,\n",
       " ' [2\\x1b[32m♣\\x1b[0m],[4\\x1b[31m♥\\x1b[0m] | [9\\x1b[34m♦\\x1b[0m],[A\\x1b[31m♥\\x1b[0m] |1,3': <src.mccfr.Infoset at 0x12e933cb0>,\n",
       " ' [8\\x1b[32m♣\\x1b[0m],[T\\x1b[32m♣\\x1b[0m] | [9\\x1b[34m♦\\x1b[0m],[A\\x1b[31m♥\\x1b[0m] |3': <src.mccfr.Infoset at 0x12e933c80>,\n",
       " ' [4\\x1b[34m♦\\x1b[0m],[9\\x1b[34m♦\\x1b[0m] | [3\\x1b[34m♦\\x1b[0m],[J\\x1b[31m♥\\x1b[0m] |': <src.mccfr.Infoset at 0x12e9337d0>,\n",
       " ' [7♠],[T\\x1b[31m♥\\x1b[0m] | [3\\x1b[34m♦\\x1b[0m],[J\\x1b[31m♥\\x1b[0m] |3': <src.mccfr.Infoset at 0x12e933da0>,\n",
       " ' [7♠],[A\\x1b[34m♦\\x1b[0m] | [9\\x1b[34m♦\\x1b[0m],[J\\x1b[34m♦\\x1b[0m] |': <src.mccfr.Infoset at 0x12e933b90>,\n",
       " ' [4\\x1b[34m♦\\x1b[0m],[5\\x1b[32m♣\\x1b[0m] | [9\\x1b[34m♦\\x1b[0m],[J\\x1b[34m♦\\x1b[0m] |1': <src.mccfr.Infoset at 0x12e933ef0>,\n",
       " ' [7♠],[A\\x1b[34m♦\\x1b[0m] | [9\\x1b[34m♦\\x1b[0m],[J\\x1b[34m♦\\x1b[0m] |1,3': <src.mccfr.Infoset at 0x12e933fb0>,\n",
       " ' [4\\x1b[34m♦\\x1b[0m],[5\\x1b[32m♣\\x1b[0m] | [9\\x1b[34m♦\\x1b[0m],[J\\x1b[34m♦\\x1b[0m] |3': <src.mccfr.Infoset at 0x12e933f80>,\n",
       " ' [9\\x1b[34m♦\\x1b[0m],[T♠] | [3\\x1b[32m♣\\x1b[0m],[5\\x1b[31m♥\\x1b[0m] |': <src.mccfr.Infoset at 0x12e933ad0>,\n",
       " ' [2♠],[J\\x1b[32m♣\\x1b[0m] | [3\\x1b[32m♣\\x1b[0m],[5\\x1b[31m♥\\x1b[0m] |3': <src.mccfr.Infoset at 0x12f4a80e0>,\n",
       " ' [2\\x1b[31m♥\\x1b[0m],[4\\x1b[32m♣\\x1b[0m] | [4\\x1b[34m♦\\x1b[0m],[A\\x1b[31m♥\\x1b[0m] |': <src.mccfr.Infoset at 0x12e933e90>,\n",
       " ' [J♠],[Q\\x1b[31m♥\\x1b[0m] | [4\\x1b[34m♦\\x1b[0m],[A\\x1b[31m♥\\x1b[0m] |1': <src.mccfr.Infoset at 0x12f4a8230>,\n",
       " ' [2\\x1b[31m♥\\x1b[0m],[4\\x1b[32m♣\\x1b[0m] | [4\\x1b[34m♦\\x1b[0m],[A\\x1b[31m♥\\x1b[0m] |1,3': <src.mccfr.Infoset at 0x12f4a82f0>,\n",
       " ' [J♠],[Q\\x1b[31m♥\\x1b[0m] | [4\\x1b[34m♦\\x1b[0m],[A\\x1b[31m♥\\x1b[0m] |3': <src.mccfr.Infoset at 0x12f4a82c0>,\n",
       " ' [7\\x1b[32m♣\\x1b[0m],[J\\x1b[32m♣\\x1b[0m] | [Q\\x1b[34m♦\\x1b[0m],[K\\x1b[34m♦\\x1b[0m] |': <src.mccfr.Infoset at 0x12e933dd0>,\n",
       " ' [7\\x1b[34m♦\\x1b[0m],[9\\x1b[34m♦\\x1b[0m] | [Q\\x1b[34m♦\\x1b[0m],[K\\x1b[34m♦\\x1b[0m] |3': <src.mccfr.Infoset at 0x12f4a83e0>,\n",
       " ' [6\\x1b[34m♦\\x1b[0m],[7\\x1b[31m♥\\x1b[0m] | [3\\x1b[34m♦\\x1b[0m],[A\\x1b[32m♣\\x1b[0m] |': <src.mccfr.Infoset at 0x12f4a81d0>,\n",
       " ' [8\\x1b[31m♥\\x1b[0m],[A♠] | [3\\x1b[34m♦\\x1b[0m],[A\\x1b[32m♣\\x1b[0m] |1': <src.mccfr.Infoset at 0x12f4a8530>,\n",
       " ' [6\\x1b[34m♦\\x1b[0m],[7\\x1b[31m♥\\x1b[0m] | [3\\x1b[34m♦\\x1b[0m],[A\\x1b[32m♣\\x1b[0m] |1,3': <src.mccfr.Infoset at 0x12f4a85f0>,\n",
       " ' [8\\x1b[31m♥\\x1b[0m],[A♠] | [3\\x1b[34m♦\\x1b[0m],[A\\x1b[32m♣\\x1b[0m] |3': <src.mccfr.Infoset at 0x12f4a85c0>,\n",
       " ' [5\\x1b[34m♦\\x1b[0m],[A\\x1b[32m♣\\x1b[0m] | [9♠],[J\\x1b[32m♣\\x1b[0m] |': <src.mccfr.Infoset at 0x12f4a8110>,\n",
       " ' [5♠],[6♠] | [9♠],[J\\x1b[32m♣\\x1b[0m] |3': <src.mccfr.Infoset at 0x12f4a86e0>,\n",
       " ' [5\\x1b[31m♥\\x1b[0m],[J\\x1b[34m♦\\x1b[0m] | [5♠],[8\\x1b[34m♦\\x1b[0m] |': <src.mccfr.Infoset at 0x12f4a84d0>,\n",
       " ' [3♠],[3\\x1b[34m♦\\x1b[0m] | [5♠],[8\\x1b[34m♦\\x1b[0m] |1': <src.mccfr.Infoset at 0x12f4a8830>,\n",
       " ' [5\\x1b[31m♥\\x1b[0m],[J\\x1b[34m♦\\x1b[0m] | [5♠],[8\\x1b[34m♦\\x1b[0m] |1,3': <src.mccfr.Infoset at 0x12f4a88f0>,\n",
       " ' [3♠],[3\\x1b[34m♦\\x1b[0m] | [5♠],[8\\x1b[34m♦\\x1b[0m] |3': <src.mccfr.Infoset at 0x12f4a88c0>,\n",
       " ' [4♠],[Q\\x1b[34m♦\\x1b[0m] | [7\\x1b[31m♥\\x1b[0m],[9\\x1b[31m♥\\x1b[0m] |': <src.mccfr.Infoset at 0x12f4a8410>,\n",
       " ' [5\\x1b[32m♣\\x1b[0m],[9\\x1b[34m♦\\x1b[0m] | [7\\x1b[31m♥\\x1b[0m],[9\\x1b[31m♥\\x1b[0m] |3': <src.mccfr.Infoset at 0x12f4a89e0>,\n",
       " ' [T\\x1b[34m♦\\x1b[0m],[J\\x1b[32m♣\\x1b[0m] | [6\\x1b[31m♥\\x1b[0m],[8\\x1b[31m♥\\x1b[0m] |': <src.mccfr.Infoset at 0x12f4a87d0>,\n",
       " ' [7\\x1b[32m♣\\x1b[0m],[8♠] | [6\\x1b[31m♥\\x1b[0m],[8\\x1b[31m♥\\x1b[0m] |1': <src.mccfr.Infoset at 0x12f4a8b30>,\n",
       " ' [T\\x1b[34m♦\\x1b[0m],[J\\x1b[32m♣\\x1b[0m] | [6\\x1b[31m♥\\x1b[0m],[8\\x1b[31m♥\\x1b[0m] |1,3': <src.mccfr.Infoset at 0x12f4a8bf0>,\n",
       " ' [7\\x1b[32m♣\\x1b[0m],[8♠] | [6\\x1b[31m♥\\x1b[0m],[8\\x1b[31m♥\\x1b[0m] |3': <src.mccfr.Infoset at 0x12f4a8bc0>,\n",
       " ' [5♠],[Q\\x1b[34m♦\\x1b[0m] | [4\\x1b[31m♥\\x1b[0m],[T♠] |': <src.mccfr.Infoset at 0x12f4a8710>,\n",
       " ' [9\\x1b[32m♣\\x1b[0m],[A\\x1b[32m♣\\x1b[0m] | [4\\x1b[31m♥\\x1b[0m],[T♠] |3': <src.mccfr.Infoset at 0x12f4a8ce0>,\n",
       " ' [3\\x1b[34m♦\\x1b[0m],[T♠] | [7♠],[T\\x1b[32m♣\\x1b[0m] |': <src.mccfr.Infoset at 0x12f4a8ad0>,\n",
       " ' [9\\x1b[34m♦\\x1b[0m],[A\\x1b[31m♥\\x1b[0m] | [7♠],[T\\x1b[32m♣\\x1b[0m] |1': <src.mccfr.Infoset at 0x12f4a8e30>,\n",
       " ' [3\\x1b[34m♦\\x1b[0m],[T♠] | [7♠],[T\\x1b[32m♣\\x1b[0m] |1,3': <src.mccfr.Infoset at 0x12f4a8ef0>,\n",
       " ' [9\\x1b[34m♦\\x1b[0m],[A\\x1b[31m♥\\x1b[0m] | [7♠],[T\\x1b[32m♣\\x1b[0m] |3': <src.mccfr.Infoset at 0x12f4a8ec0>,\n",
       " ' [2\\x1b[32m♣\\x1b[0m],[7\\x1b[32m♣\\x1b[0m] | [8\\x1b[31m♥\\x1b[0m],[K♠] |': <src.mccfr.Infoset at 0x12f4a8a10>,\n",
       " ' [6♠],[9\\x1b[32m♣\\x1b[0m] | [8\\x1b[31m♥\\x1b[0m],[K♠] |3': <src.mccfr.Infoset at 0x12f4a8fe0>,\n",
       " ' [7\\x1b[34m♦\\x1b[0m],[A♠] | [Q\\x1b[31m♥\\x1b[0m],[A\\x1b[34m♦\\x1b[0m] |': <src.mccfr.Infoset at 0x12f4a8dd0>,\n",
       " ' [5\\x1b[34m♦\\x1b[0m],[A\\x1b[31m♥\\x1b[0m] | [Q\\x1b[31m♥\\x1b[0m],[A\\x1b[34m♦\\x1b[0m] |1': <src.mccfr.Infoset at 0x12f4a9130>,\n",
       " ' [7\\x1b[34m♦\\x1b[0m],[A♠] | [Q\\x1b[31m♥\\x1b[0m],[A\\x1b[34m♦\\x1b[0m] |1,3': <src.mccfr.Infoset at 0x12f4a91f0>,\n",
       " ' [5\\x1b[34m♦\\x1b[0m],[A\\x1b[31m♥\\x1b[0m] | [Q\\x1b[31m♥\\x1b[0m],[A\\x1b[34m♦\\x1b[0m] |3': <src.mccfr.Infoset at 0x12f4a91c0>,\n",
       " ' [5♠],[7\\x1b[32m♣\\x1b[0m] | [J\\x1b[34m♦\\x1b[0m],[K\\x1b[34m♦\\x1b[0m] |': <src.mccfr.Infoset at 0x12f4a8d10>,\n",
       " ' [3\\x1b[31m♥\\x1b[0m],[4\\x1b[34m♦\\x1b[0m] | [J\\x1b[34m♦\\x1b[0m],[K\\x1b[34m♦\\x1b[0m] |3': <src.mccfr.Infoset at 0x12f4a92e0>,\n",
       " ' [9\\x1b[32m♣\\x1b[0m],[T\\x1b[31m♥\\x1b[0m] | [4\\x1b[32m♣\\x1b[0m],[5\\x1b[32m♣\\x1b[0m] |': <src.mccfr.Infoset at 0x12f4a90d0>,\n",
       " ' [7\\x1b[32m♣\\x1b[0m],[T\\x1b[34m♦\\x1b[0m] | [4\\x1b[32m♣\\x1b[0m],[5\\x1b[32m♣\\x1b[0m] |1': <src.mccfr.Infoset at 0x12f4a9430>,\n",
       " ' [9\\x1b[32m♣\\x1b[0m],[T\\x1b[31m♥\\x1b[0m] | [4\\x1b[32m♣\\x1b[0m],[5\\x1b[32m♣\\x1b[0m] |1,3': <src.mccfr.Infoset at 0x12f4a94f0>,\n",
       " ' [7\\x1b[32m♣\\x1b[0m],[T\\x1b[34m♦\\x1b[0m] | [4\\x1b[32m♣\\x1b[0m],[5\\x1b[32m♣\\x1b[0m] |3': <src.mccfr.Infoset at 0x12f4a94c0>,\n",
       " ' [3♠],[Q♠] | [3\\x1b[31m♥\\x1b[0m],[5\\x1b[31m♥\\x1b[0m] |': <src.mccfr.Infoset at 0x12f4a9010>,\n",
       " ' [4\\x1b[32m♣\\x1b[0m],[T\\x1b[34m♦\\x1b[0m] | [3\\x1b[31m♥\\x1b[0m],[5\\x1b[31m♥\\x1b[0m] |3': <src.mccfr.Infoset at 0x12f4a95e0>,\n",
       " ' [2♠],[T♠] | [7\\x1b[31m♥\\x1b[0m],[8\\x1b[32m♣\\x1b[0m] |': <src.mccfr.Infoset at 0x12f4a93d0>,\n",
       " ' [6\\x1b[32m♣\\x1b[0m],[9♠] | [7\\x1b[31m♥\\x1b[0m],[8\\x1b[32m♣\\x1b[0m] |1': <src.mccfr.Infoset at 0x12f4a9730>,\n",
       " ' [2♠],[T♠] | [7\\x1b[31m♥\\x1b[0m],[8\\x1b[32m♣\\x1b[0m] |1,3': <src.mccfr.Infoset at 0x12f4a97f0>,\n",
       " ' [6\\x1b[32m♣\\x1b[0m],[9♠] | [7\\x1b[31m♥\\x1b[0m],[8\\x1b[32m♣\\x1b[0m] |3': <src.mccfr.Infoset at 0x12f4a97c0>,\n",
       " ' [7\\x1b[31m♥\\x1b[0m],[A\\x1b[32m♣\\x1b[0m] | [5♠],[A\\x1b[34m♦\\x1b[0m] |': <src.mccfr.Infoset at 0x12f4a9310>,\n",
       " ' [2\\x1b[34m♦\\x1b[0m],[4♠] | [5♠],[A\\x1b[34m♦\\x1b[0m] |3': <src.mccfr.Infoset at 0x12f4a98e0>,\n",
       " ' [3♠],[6\\x1b[31m♥\\x1b[0m] | [Q\\x1b[34m♦\\x1b[0m],[K♠] |': <src.mccfr.Infoset at 0x12f4a96d0>,\n",
       " ' [4♠],[A\\x1b[31m♥\\x1b[0m] | [Q\\x1b[34m♦\\x1b[0m],[K♠] |1': <src.mccfr.Infoset at 0x12f4a9a30>,\n",
       " ' [3♠],[6\\x1b[31m♥\\x1b[0m] | [Q\\x1b[34m♦\\x1b[0m],[K♠] |1,3': <src.mccfr.Infoset at 0x12f4a9af0>,\n",
       " ' [4♠],[A\\x1b[31m♥\\x1b[0m] | [Q\\x1b[34m♦\\x1b[0m],[K♠] |3': <src.mccfr.Infoset at 0x12f4a9ac0>,\n",
       " ' [T\\x1b[31m♥\\x1b[0m],[T\\x1b[32m♣\\x1b[0m] | [2\\x1b[31m♥\\x1b[0m],[8♠] |': <src.mccfr.Infoset at 0x12f4a9610>,\n",
       " ' [5\\x1b[31m♥\\x1b[0m],[J\\x1b[34m♦\\x1b[0m] | [2\\x1b[31m♥\\x1b[0m],[8♠] |3': <src.mccfr.Infoset at 0x12f4a9be0>,\n",
       " ' [4\\x1b[34m♦\\x1b[0m],[6♠] | [K\\x1b[32m♣\\x1b[0m],[A\\x1b[32m♣\\x1b[0m] |': <src.mccfr.Infoset at 0x12f4a99d0>,\n",
       " ' [3\\x1b[34m♦\\x1b[0m],[5\\x1b[31m♥\\x1b[0m] | [K\\x1b[32m♣\\x1b[0m],[A\\x1b[32m♣\\x1b[0m] |1': <src.mccfr.Infoset at 0x12f4a9d30>,\n",
       " ' [4\\x1b[34m♦\\x1b[0m],[6♠] | [K\\x1b[32m♣\\x1b[0m],[A\\x1b[32m♣\\x1b[0m] |1,3': <src.mccfr.Infoset at 0x12f4a9df0>,\n",
       " ' [3\\x1b[34m♦\\x1b[0m],[5\\x1b[31m♥\\x1b[0m] | [K\\x1b[32m♣\\x1b[0m],[A\\x1b[32m♣\\x1b[0m] |3': <src.mccfr.Infoset at 0x12f4a9dc0>,\n",
       " ' [6\\x1b[32m♣\\x1b[0m],[J\\x1b[31m♥\\x1b[0m] | [5♠],[Q♠] |': <src.mccfr.Infoset at 0x12f4a9910>,\n",
       " ' [8♠],[T\\x1b[34m♦\\x1b[0m] | [5♠],[Q♠] |3': <src.mccfr.Infoset at 0x12f4a9ee0>,\n",
       " ' [2\\x1b[31m♥\\x1b[0m],[T\\x1b[34m♦\\x1b[0m] | [4\\x1b[32m♣\\x1b[0m],[7\\x1b[34m♦\\x1b[0m] |': <src.mccfr.Infoset at 0x12f4a9cd0>,\n",
       " ' [5\\x1b[32m♣\\x1b[0m],[J\\x1b[31m♥\\x1b[0m] | [4\\x1b[32m♣\\x1b[0m],[7\\x1b[34m♦\\x1b[0m] |1': <src.mccfr.Infoset at 0x12f4aa030>,\n",
       " ' [2\\x1b[31m♥\\x1b[0m],[T\\x1b[34m♦\\x1b[0m] | [4\\x1b[32m♣\\x1b[0m],[7\\x1b[34m♦\\x1b[0m] |1,3': <src.mccfr.Infoset at 0x12f4aa0f0>,\n",
       " ' [5\\x1b[32m♣\\x1b[0m],[J\\x1b[31m♥\\x1b[0m] | [4\\x1b[32m♣\\x1b[0m],[7\\x1b[34m♦\\x1b[0m] |3': <src.mccfr.Infoset at 0x12f4aa0c0>,\n",
       " ' [8\\x1b[32m♣\\x1b[0m],[Q♠] | [2\\x1b[31m♥\\x1b[0m],[A\\x1b[34m♦\\x1b[0m] |': <src.mccfr.Infoset at 0x12f4a9c10>,\n",
       " ' [4♠],[9\\x1b[31m♥\\x1b[0m] | [2\\x1b[31m♥\\x1b[0m],[A\\x1b[34m♦\\x1b[0m] |3': <src.mccfr.Infoset at 0x12f4aa1e0>,\n",
       " ' [4\\x1b[34m♦\\x1b[0m],[7\\x1b[32m♣\\x1b[0m] | [4\\x1b[31m♥\\x1b[0m],[J♠] |': <src.mccfr.Infoset at 0x12f4a9fd0>,\n",
       " ' [3♠],[K♠] | [4\\x1b[31m♥\\x1b[0m],[J♠] |1': <src.mccfr.Infoset at 0x12f4aa330>,\n",
       " ' [4\\x1b[34m♦\\x1b[0m],[7\\x1b[32m♣\\x1b[0m] | [4\\x1b[31m♥\\x1b[0m],[J♠] |1,3': <src.mccfr.Infoset at 0x12f4aa3f0>,\n",
       " ' [3♠],[K♠] | [4\\x1b[31m♥\\x1b[0m],[J♠] |3': <src.mccfr.Infoset at 0x12f4aa3c0>,\n",
       " ' [4♠],[T\\x1b[34m♦\\x1b[0m] | [4\\x1b[32m♣\\x1b[0m],[9\\x1b[32m♣\\x1b[0m] |': <src.mccfr.Infoset at 0x12f4a9f10>,\n",
       " ' [2\\x1b[32m♣\\x1b[0m],[5\\x1b[32m♣\\x1b[0m] | [4\\x1b[32m♣\\x1b[0m],[9\\x1b[32m♣\\x1b[0m] |3': <src.mccfr.Infoset at 0x12f4aa4e0>,\n",
       " ' [7\\x1b[34m♦\\x1b[0m],[K\\x1b[31m♥\\x1b[0m] | [J\\x1b[34m♦\\x1b[0m],[Q\\x1b[32m♣\\x1b[0m] |': <src.mccfr.Infoset at 0x12f4aa2d0>,\n",
       " ' [2\\x1b[34m♦\\x1b[0m],[3♠] | [J\\x1b[34m♦\\x1b[0m],[Q\\x1b[32m♣\\x1b[0m] |1': <src.mccfr.Infoset at 0x12f4aa630>,\n",
       " ' [7\\x1b[34m♦\\x1b[0m],[K\\x1b[31m♥\\x1b[0m] | [J\\x1b[34m♦\\x1b[0m],[Q\\x1b[32m♣\\x1b[0m] |1,3': <src.mccfr.Infoset at 0x12f4aa6f0>,\n",
       " ' [2\\x1b[34m♦\\x1b[0m],[3♠] | [J\\x1b[34m♦\\x1b[0m],[Q\\x1b[32m♣\\x1b[0m] |3': <src.mccfr.Infoset at 0x12f4aa6c0>,\n",
       " ' [5\\x1b[34m♦\\x1b[0m],[T\\x1b[34m♦\\x1b[0m] | [4♠],[5\\x1b[32m♣\\x1b[0m] |': <src.mccfr.Infoset at 0x12f4aa210>,\n",
       " ' [4\\x1b[31m♥\\x1b[0m],[K\\x1b[32m♣\\x1b[0m] | [4♠],[5\\x1b[32m♣\\x1b[0m] |3': <src.mccfr.Infoset at 0x12f4aa7e0>,\n",
       " ' [3\\x1b[34m♦\\x1b[0m],[T♠] | [5\\x1b[34m♦\\x1b[0m],[7\\x1b[32m♣\\x1b[0m] |': <src.mccfr.Infoset at 0x12f4aa5d0>,\n",
       " ' [4\\x1b[31m♥\\x1b[0m],[9\\x1b[34m♦\\x1b[0m] | [5\\x1b[34m♦\\x1b[0m],[7\\x1b[32m♣\\x1b[0m] |1': <src.mccfr.Infoset at 0x12f4aa930>,\n",
       " ' [3\\x1b[34m♦\\x1b[0m],[T♠] | [5\\x1b[34m♦\\x1b[0m],[7\\x1b[32m♣\\x1b[0m] |1,3': <src.mccfr.Infoset at 0x12e933d10>,\n",
       " ' [4\\x1b[31m♥\\x1b[0m],[9\\x1b[34m♦\\x1b[0m] | [5\\x1b[34m♦\\x1b[0m],[7\\x1b[32m♣\\x1b[0m] |3': <src.mccfr.Infoset at 0x12e933c50>,\n",
       " ' [5\\x1b[34m♦\\x1b[0m],[5\\x1b[32m♣\\x1b[0m] | [6\\x1b[34m♦\\x1b[0m],[J\\x1b[32m♣\\x1b[0m] |': <src.mccfr.Infoset at 0x12e933800>,\n",
       " ' [9\\x1b[32m♣\\x1b[0m],[K♠] | [6\\x1b[34m♦\\x1b[0m],[J\\x1b[32m♣\\x1b[0m] |3': <src.mccfr.Infoset at 0x12e933710>,\n",
       " ' [J\\x1b[31m♥\\x1b[0m],[K\\x1b[34m♦\\x1b[0m] | [2\\x1b[34m♦\\x1b[0m],[4\\x1b[32m♣\\x1b[0m] |': <src.mccfr.Infoset at 0x12e933b00>,\n",
       " ' [5\\x1b[34m♦\\x1b[0m],[9\\x1b[31m♥\\x1b[0m] | [2\\x1b[34m♦\\x1b[0m],[4\\x1b[32m♣\\x1b[0m] |1': <src.mccfr.Infoset at 0x12e933110>,\n",
       " ' [J\\x1b[31m♥\\x1b[0m],[K\\x1b[34m♦\\x1b[0m] | [2\\x1b[34m♦\\x1b[0m],[4\\x1b[32m♣\\x1b[0m] |1,3': <src.mccfr.Infoset at 0x12e932de0>,\n",
       " ' [5\\x1b[34m♦\\x1b[0m],[9\\x1b[31m♥\\x1b[0m] | [2\\x1b[34m♦\\x1b[0m],[4\\x1b[32m♣\\x1b[0m] |3': <src.mccfr.Infoset at 0x12e932d20>,\n",
       " ' [4\\x1b[32m♣\\x1b[0m],[Q\\x1b[32m♣\\x1b[0m] | [A\\x1b[31m♥\\x1b[0m],[A\\x1b[32m♣\\x1b[0m] |': <src.mccfr.Infoset at 0x12e933500>,\n",
       " ' [Q\\x1b[31m♥\\x1b[0m],[A♠] | [A\\x1b[31m♥\\x1b[0m],[A\\x1b[32m♣\\x1b[0m] |3': <src.mccfr.Infoset at 0x12e9328d0>,\n",
       " ' [7\\x1b[32m♣\\x1b[0m],[J\\x1b[34m♦\\x1b[0m] | [8\\x1b[31m♥\\x1b[0m],[A\\x1b[32m♣\\x1b[0m] |': <src.mccfr.Infoset at 0x12e933230>,\n",
       " ' [4\\x1b[31m♥\\x1b[0m],[A\\x1b[34m♦\\x1b[0m] | [8\\x1b[31m♥\\x1b[0m],[A\\x1b[32m♣\\x1b[0m] |1': <src.mccfr.Infoset at 0x12e9324e0>,\n",
       " ' [7\\x1b[32m♣\\x1b[0m],[J\\x1b[34m♦\\x1b[0m] | [8\\x1b[31m♥\\x1b[0m],[A\\x1b[32m♣\\x1b[0m] |1,3': <src.mccfr.Infoset at 0x12e9321e0>,\n",
       " ' [4\\x1b[31m♥\\x1b[0m],[A\\x1b[34m♦\\x1b[0m] | [8\\x1b[31m♥\\x1b[0m],[A\\x1b[32m♣\\x1b[0m] |3': <src.mccfr.Infoset at 0x12e932120>,\n",
       " ' [9\\x1b[34m♦\\x1b[0m],[K\\x1b[32m♣\\x1b[0m] | [8\\x1b[32m♣\\x1b[0m],[Q\\x1b[34m♦\\x1b[0m] |': <src.mccfr.Infoset at 0x12e933830>,\n",
       " ' [5\\x1b[34m♦\\x1b[0m],[Q♠] | [8\\x1b[32m♣\\x1b[0m],[Q\\x1b[34m♦\\x1b[0m] |3': <src.mccfr.Infoset at 0x12e931cd0>,\n",
       " ' [7\\x1b[31m♥\\x1b[0m],[7\\x1b[32m♣\\x1b[0m] | [6\\x1b[34m♦\\x1b[0m],[9\\x1b[31m♥\\x1b[0m] |': <src.mccfr.Infoset at 0x12e932600>,\n",
       " ' [2\\x1b[31m♥\\x1b[0m],[T\\x1b[34m♦\\x1b[0m] | [6\\x1b[34m♦\\x1b[0m],[9\\x1b[31m♥\\x1b[0m] |1': <src.mccfr.Infoset at 0x12e930890>,\n",
       " ' [7\\x1b[31m♥\\x1b[0m],[7\\x1b[32m♣\\x1b[0m] | [6\\x1b[34m♦\\x1b[0m],[9\\x1b[31m♥\\x1b[0m] |1,3': <src.mccfr.Infoset at 0x12e931490>,\n",
       " ' [2\\x1b[31m♥\\x1b[0m],[T\\x1b[34m♦\\x1b[0m] | [6\\x1b[34m♦\\x1b[0m],[9\\x1b[31m♥\\x1b[0m] |3': <src.mccfr.Infoset at 0x12e931790>,\n",
       " ' [8\\x1b[32m♣\\x1b[0m],[J\\x1b[34m♦\\x1b[0m] | [8\\x1b[31m♥\\x1b[0m],[Q\\x1b[32m♣\\x1b[0m] |': <src.mccfr.Infoset at 0x12e932900>,\n",
       " ' [T♠],[Q♠] | [8\\x1b[31m♥\\x1b[0m],[Q\\x1b[32m♣\\x1b[0m] |3': <src.mccfr.Infoset at 0x12eb79040>,\n",
       " ' [9\\x1b[34m♦\\x1b[0m],[Q\\x1b[31m♥\\x1b[0m] | [2\\x1b[31m♥\\x1b[0m],[6♠] |': <src.mccfr.Infoset at 0x12e9303b0>,\n",
       " ' [3\\x1b[31m♥\\x1b[0m],[K♠] | [2\\x1b[31m♥\\x1b[0m],[6♠] |1': <src.mccfr.Infoset at 0x12fbf0c50>,\n",
       " ' [9\\x1b[34m♦\\x1b[0m],[Q\\x1b[31m♥\\x1b[0m] | [2\\x1b[31m♥\\x1b[0m],[6♠] |1,3': <src.mccfr.Infoset at 0x12fbf1850>,\n",
       " ' [3\\x1b[31m♥\\x1b[0m],[K♠] | [2\\x1b[31m♥\\x1b[0m],[6♠] |3': <src.mccfr.Infoset at 0x12fbf1b50>,\n",
       " ' [K\\x1b[32m♣\\x1b[0m],[A\\x1b[32m♣\\x1b[0m] | [4\\x1b[34m♦\\x1b[0m],[J\\x1b[31m♥\\x1b[0m] |': <src.mccfr.Infoset at 0x12e931d00>,\n",
       " ' [8♠],[9\\x1b[34m♦\\x1b[0m] | [4\\x1b[34m♦\\x1b[0m],[J\\x1b[31m♥\\x1b[0m] |3': <src.mccfr.Infoset at 0x12fbf2b40>,\n",
       " ' [3\\x1b[34m♦\\x1b[0m],[9♠] | [5♠],[6\\x1b[34m♦\\x1b[0m] |': <src.mccfr.Infoset at 0x12fbf0680>,\n",
       " ' [Q\\x1b[34m♦\\x1b[0m],[Q\\x1b[32m♣\\x1b[0m] | [5♠],[6\\x1b[34m♦\\x1b[0m] |1': <src.mccfr.Infoset at 0x12fbf3890>,\n",
       " ' [3\\x1b[34m♦\\x1b[0m],[9♠] | [5♠],[6\\x1b[34m♦\\x1b[0m] |1,3': <src.mccfr.Infoset at 0x12f4aa690>,\n",
       " ' [Q\\x1b[34m♦\\x1b[0m],[Q\\x1b[32m♣\\x1b[0m] | [5♠],[6\\x1b[34m♦\\x1b[0m] |3': <src.mccfr.Infoset at 0x12f4aa8a0>,\n",
       " ' [6\\x1b[32m♣\\x1b[0m],[Q♠] | [A\\x1b[34m♦\\x1b[0m],[A\\x1b[32m♣\\x1b[0m] |': <src.mccfr.Infoset at 0x12eb78e60>,\n",
       " ' [3\\x1b[32m♣\\x1b[0m],[T♠] | [A\\x1b[34m♦\\x1b[0m],[A\\x1b[32m♣\\x1b[0m] |3': <src.mccfr.Infoset at 0x12f4aa450>,\n",
       " ' [7\\x1b[34m♦\\x1b[0m],[9\\x1b[31m♥\\x1b[0m] | [2♠],[A\\x1b[32m♣\\x1b[0m] |': <src.mccfr.Infoset at 0x12fbf3950>,\n",
       " ' [K\\x1b[31m♥\\x1b[0m],[A\\x1b[31m♥\\x1b[0m] | [2♠],[A\\x1b[32m♣\\x1b[0m] |1': <src.mccfr.Infoset at 0x12f4a9d90>,\n",
       " ' [7\\x1b[34m♦\\x1b[0m],[9\\x1b[31m♥\\x1b[0m] | [2♠],[A\\x1b[32m♣\\x1b[0m] |1,3': <src.mccfr.Infoset at 0x12f4a9a90>,\n",
       " ' [K\\x1b[31m♥\\x1b[0m],[A\\x1b[31m♥\\x1b[0m] | [2♠],[A\\x1b[32m♣\\x1b[0m] |3': <src.mccfr.Infoset at 0x12f4a9c70>,\n",
       " ' [6\\x1b[31m♥\\x1b[0m],[8\\x1b[34m♦\\x1b[0m] | [9♠],[A\\x1b[32m♣\\x1b[0m] |': <src.mccfr.Infoset at 0x12fbf2b70>,\n",
       " ' [7\\x1b[32m♣\\x1b[0m],[A\\x1b[34m♦\\x1b[0m] | [9♠],[A\\x1b[32m♣\\x1b[0m] |3': <src.mccfr.Infoset at 0x12f4a9850>,\n",
       " ' [5♠],[A\\x1b[31m♥\\x1b[0m] | [T♠],[Q\\x1b[34m♦\\x1b[0m] |': <src.mccfr.Infoset at 0x12f4a9f40>,\n",
       " ' [2\\x1b[31m♥\\x1b[0m],[4♠] | [T♠],[Q\\x1b[34m♦\\x1b[0m] |1': <src.mccfr.Infoset at 0x12f4a9190>,\n",
       " ' [5♠],[A\\x1b[31m♥\\x1b[0m] | [T♠],[Q\\x1b[34m♦\\x1b[0m] |1,3': <src.mccfr.Infoset at 0x12f4a8e90>,\n",
       " ' [2\\x1b[31m♥\\x1b[0m],[4♠] | [T♠],[Q\\x1b[34m♦\\x1b[0m] |3': <src.mccfr.Infoset at 0x12f4a9070>,\n",
       " ' [3\\x1b[32m♣\\x1b[0m],[5\\x1b[32m♣\\x1b[0m] | [4♠],[Q\\x1b[34m♦\\x1b[0m] |': <src.mccfr.Infoset at 0x12f4aa240>,\n",
       " ' [3\\x1b[31m♥\\x1b[0m],[T\\x1b[34m♦\\x1b[0m] | [4♠],[Q\\x1b[34m♦\\x1b[0m] |3': <src.mccfr.Infoset at 0x12f4a8c50>,\n",
       " ' [Q\\x1b[31m♥\\x1b[0m],[A♠] | [2\\x1b[32m♣\\x1b[0m],[J\\x1b[31m♥\\x1b[0m] |': <src.mccfr.Infoset at 0x12f4a9340>,\n",
       " ' [2\\x1b[31m♥\\x1b[0m],[6♠] | [2\\x1b[32m♣\\x1b[0m],[J\\x1b[31m♥\\x1b[0m] |1': <src.mccfr.Infoset at 0x12f4a8590>,\n",
       " ' [Q\\x1b[31m♥\\x1b[0m],[A♠] | [2\\x1b[32m♣\\x1b[0m],[J\\x1b[31m♥\\x1b[0m] |1,3': <src.mccfr.Infoset at 0x12f4a8290>,\n",
       " ' [2\\x1b[31m♥\\x1b[0m],[6♠] | [2\\x1b[32m♣\\x1b[0m],[J\\x1b[31m♥\\x1b[0m] |3': <src.mccfr.Infoset at 0x12f4a8470>,\n",
       " ' [8\\x1b[34m♦\\x1b[0m],[J\\x1b[32m♣\\x1b[0m] | [6\\x1b[34m♦\\x1b[0m],[A\\x1b[34m♦\\x1b[0m] |': <src.mccfr.Infoset at 0x12f4a9640>,\n",
       " ' [K\\x1b[32m♣\\x1b[0m],[A♠] | [6\\x1b[34m♦\\x1b[0m],[A\\x1b[34m♦\\x1b[0m] |3': <src.mccfr.Infoset at 0x12f4aa960>,\n",
       " ' [3\\x1b[32m♣\\x1b[0m],[4♠] | [8\\x1b[32m♣\\x1b[0m],[9\\x1b[31m♥\\x1b[0m] |': <src.mccfr.Infoset at 0x12f4a8740>,\n",
       " ' [2\\x1b[32m♣\\x1b[0m],[Q♠] | [8\\x1b[32m♣\\x1b[0m],[9\\x1b[31m♥\\x1b[0m] |1': <src.mccfr.Infoset at 0x12f4aaab0>,\n",
       " ' [3\\x1b[32m♣\\x1b[0m],[4♠] | [8\\x1b[32m♣\\x1b[0m],[9\\x1b[31m♥\\x1b[0m] |1,3': <src.mccfr.Infoset at 0x12f4aab70>,\n",
       " ' [2\\x1b[32m♣\\x1b[0m],[Q♠] | [8\\x1b[32m♣\\x1b[0m],[9\\x1b[31m♥\\x1b[0m] |3': <src.mccfr.Infoset at 0x12f4aab40>,\n",
       " ' [2♠],[5\\x1b[34m♦\\x1b[0m] | [2\\x1b[32m♣\\x1b[0m],[J♠] |': <src.mccfr.Infoset at 0x12f4a8a40>,\n",
       " ' [6\\x1b[31m♥\\x1b[0m],[A\\x1b[31m♥\\x1b[0m] | [2\\x1b[32m♣\\x1b[0m],[J♠] |3': <src.mccfr.Infoset at 0x12f4aac60>,\n",
       " ' [2\\x1b[32m♣\\x1b[0m],[8\\x1b[34m♦\\x1b[0m] | [9\\x1b[31m♥\\x1b[0m],[J\\x1b[31m♥\\x1b[0m] |': <src.mccfr.Infoset at 0x12f4aaa50>,\n",
       " ' [4\\x1b[31m♥\\x1b[0m],[4\\x1b[34m♦\\x1b[0m] | [9\\x1b[31m♥\\x1b[0m],[J\\x1b[31m♥\\x1b[0m] |1': <src.mccfr.Infoset at 0x12f4aadb0>,\n",
       " ' [2\\x1b[32m♣\\x1b[0m],[8\\x1b[34m♦\\x1b[0m] | [9\\x1b[31m♥\\x1b[0m],[J\\x1b[31m♥\\x1b[0m] |1,3': <src.mccfr.Infoset at 0x12f4aae70>,\n",
       " ' [4\\x1b[31m♥\\x1b[0m],[4\\x1b[34m♦\\x1b[0m] | [9\\x1b[31m♥\\x1b[0m],[J\\x1b[31m♥\\x1b[0m] |3': <src.mccfr.Infoset at 0x12f4aae40>,\n",
       " ' [2\\x1b[31m♥\\x1b[0m],[T\\x1b[32m♣\\x1b[0m] | [3\\x1b[31m♥\\x1b[0m],[T♠] |': <src.mccfr.Infoset at 0x12f4aa990>,\n",
       " ' [2\\x1b[32m♣\\x1b[0m],[J\\x1b[31m♥\\x1b[0m] | [3\\x1b[31m♥\\x1b[0m],[T♠] |3': <src.mccfr.Infoset at 0x12f4aaf60>,\n",
       " ' [9\\x1b[34m♦\\x1b[0m],[T\\x1b[32m♣\\x1b[0m] | [Q\\x1b[32m♣\\x1b[0m],[A\\x1b[31m♥\\x1b[0m] |': <src.mccfr.Infoset at 0x12f4aad50>,\n",
       " ' [5\\x1b[34m♦\\x1b[0m],[9♠] | [Q\\x1b[32m♣\\x1b[0m],[A\\x1b[31m♥\\x1b[0m] |1': <src.mccfr.Infoset at 0x12f4ab0b0>,\n",
       " ' [9\\x1b[34m♦\\x1b[0m],[T\\x1b[32m♣\\x1b[0m] | [Q\\x1b[32m♣\\x1b[0m],[A\\x1b[31m♥\\x1b[0m] |1,3': <src.mccfr.Infoset at 0x12f4ab170>,\n",
       " ' [5\\x1b[34m♦\\x1b[0m],[9♠] | [Q\\x1b[32m♣\\x1b[0m],[A\\x1b[31m♥\\x1b[0m] |3': <src.mccfr.Infoset at 0x12f4ab140>,\n",
       " ' [3\\x1b[34m♦\\x1b[0m],[6\\x1b[34m♦\\x1b[0m] | [3\\x1b[31m♥\\x1b[0m],[4\\x1b[34m♦\\x1b[0m] |': <src.mccfr.Infoset at 0x12f4aac90>,\n",
       " ' [4\\x1b[32m♣\\x1b[0m],[8\\x1b[31m♥\\x1b[0m] | [3\\x1b[31m♥\\x1b[0m],[4\\x1b[34m♦\\x1b[0m] |3': <src.mccfr.Infoset at 0x12f4ab260>,\n",
       " ' [5♠],[A\\x1b[34m♦\\x1b[0m] | [5\\x1b[31m♥\\x1b[0m],[8\\x1b[31m♥\\x1b[0m] |': <src.mccfr.Infoset at 0x12f4ab050>,\n",
       " ' [Q\\x1b[34m♦\\x1b[0m],[K\\x1b[34m♦\\x1b[0m] | [5\\x1b[31m♥\\x1b[0m],[8\\x1b[31m♥\\x1b[0m] |1': <src.mccfr.Infoset at 0x12f4ab3b0>,\n",
       " ' [5♠],[A\\x1b[34m♦\\x1b[0m] | [5\\x1b[31m♥\\x1b[0m],[8\\x1b[31m♥\\x1b[0m] |1,3': <src.mccfr.Infoset at 0x12f4ab470>,\n",
       " ' [Q\\x1b[34m♦\\x1b[0m],[K\\x1b[34m♦\\x1b[0m] | [5\\x1b[31m♥\\x1b[0m],[8\\x1b[31m♥\\x1b[0m] |3': <src.mccfr.Infoset at 0x12f4ab440>,\n",
       " ' [2\\x1b[34m♦\\x1b[0m],[6\\x1b[31m♥\\x1b[0m] | [5\\x1b[34m♦\\x1b[0m],[7\\x1b[31m♥\\x1b[0m] |': <src.mccfr.Infoset at 0x12f4aaf90>,\n",
       " ' [Q\\x1b[31m♥\\x1b[0m],[Q\\x1b[34m♦\\x1b[0m] | [5\\x1b[34m♦\\x1b[0m],[7\\x1b[31m♥\\x1b[0m] |3': <src.mccfr.Infoset at 0x12f4ab560>,\n",
       " ' [9♠],[A♠] | [2\\x1b[31m♥\\x1b[0m],[K\\x1b[32m♣\\x1b[0m] |': <src.mccfr.Infoset at 0x12f4ab350>,\n",
       " ' [4\\x1b[32m♣\\x1b[0m],[7\\x1b[34m♦\\x1b[0m] | [2\\x1b[31m♥\\x1b[0m],[K\\x1b[32m♣\\x1b[0m] |1': <src.mccfr.Infoset at 0x12f4ab6b0>,\n",
       " ' [9♠],[A♠] | [2\\x1b[31m♥\\x1b[0m],[K\\x1b[32m♣\\x1b[0m] |1,3': <src.mccfr.Infoset at 0x12f4ab770>,\n",
       " ' [4\\x1b[32m♣\\x1b[0m],[7\\x1b[34m♦\\x1b[0m] | [2\\x1b[31m♥\\x1b[0m],[K\\x1b[32m♣\\x1b[0m] |3': <src.mccfr.Infoset at 0x12f4ab740>,\n",
       " ' [T\\x1b[31m♥\\x1b[0m],[Q♠] | [3\\x1b[34m♦\\x1b[0m],[8\\x1b[32m♣\\x1b[0m] |': <src.mccfr.Infoset at 0x12f4ab290>,\n",
       " ' [5\\x1b[31m♥\\x1b[0m],[7♠] | [3\\x1b[34m♦\\x1b[0m],[8\\x1b[32m♣\\x1b[0m] |3': <src.mccfr.Infoset at 0x12f4ab860>,\n",
       " ' [7\\x1b[34m♦\\x1b[0m],[J\\x1b[34m♦\\x1b[0m] | [6\\x1b[31m♥\\x1b[0m],[6\\x1b[34m♦\\x1b[0m] |': <src.mccfr.Infoset at 0x12f4ab650>,\n",
       " ' [3\\x1b[31m♥\\x1b[0m],[5♠] | [6\\x1b[31m♥\\x1b[0m],[6\\x1b[34m♦\\x1b[0m] |1': <src.mccfr.Infoset at 0x12f4ab9b0>,\n",
       " ' [7\\x1b[34m♦\\x1b[0m],[J\\x1b[34m♦\\x1b[0m] | [6\\x1b[31m♥\\x1b[0m],[6\\x1b[34m♦\\x1b[0m] |1,3': <src.mccfr.Infoset at 0x12f4aba70>,\n",
       " ' [3\\x1b[31m♥\\x1b[0m],[5♠] | [6\\x1b[31m♥\\x1b[0m],[6\\x1b[34m♦\\x1b[0m] |3': <src.mccfr.Infoset at 0x12f4aba40>,\n",
       " ' [6♠],[8\\x1b[34m♦\\x1b[0m] | [2♠],[4\\x1b[34m♦\\x1b[0m] |': <src.mccfr.Infoset at 0x12f4ab590>,\n",
       " ' [2\\x1b[31m♥\\x1b[0m],[T\\x1b[32m♣\\x1b[0m] | [2♠],[4\\x1b[34m♦\\x1b[0m] |3': <src.mccfr.Infoset at 0x12f4abb60>,\n",
       " ' [T\\x1b[32m♣\\x1b[0m],[Q♠] | [5♠],[Q\\x1b[32m♣\\x1b[0m] |': <src.mccfr.Infoset at 0x12f4ab950>,\n",
       " ' [5\\x1b[31m♥\\x1b[0m],[6\\x1b[34m♦\\x1b[0m] | [5♠],[Q\\x1b[32m♣\\x1b[0m] |1': <src.mccfr.Infoset at 0x12f4abcb0>,\n",
       " ' [T\\x1b[32m♣\\x1b[0m],[Q♠] | [5♠],[Q\\x1b[32m♣\\x1b[0m] |1,3': <src.mccfr.Infoset at 0x12f4abd70>,\n",
       " ' [5\\x1b[31m♥\\x1b[0m],[6\\x1b[34m♦\\x1b[0m] | [5♠],[Q\\x1b[32m♣\\x1b[0m] |3': <src.mccfr.Infoset at 0x12f4abd40>,\n",
       " ' [6\\x1b[31m♥\\x1b[0m],[K\\x1b[34m♦\\x1b[0m] | [5♠],[7\\x1b[31m♥\\x1b[0m] |': <src.mccfr.Infoset at 0x12f4ab890>,\n",
       " ' [2\\x1b[34m♦\\x1b[0m],[6\\x1b[34m♦\\x1b[0m] | [5♠],[7\\x1b[31m♥\\x1b[0m] |3': <src.mccfr.Infoset at 0x12f4abe60>,\n",
       " ' [K\\x1b[32m♣\\x1b[0m],[A\\x1b[34m♦\\x1b[0m] | [3\\x1b[31m♥\\x1b[0m],[T♠] |': <src.mccfr.Infoset at 0x12f4abc50>,\n",
       " ' [2\\x1b[32m♣\\x1b[0m],[6\\x1b[34m♦\\x1b[0m] | [3\\x1b[31m♥\\x1b[0m],[T♠] |1': <src.mccfr.Infoset at 0x12f4abfb0>,\n",
       " ' [K\\x1b[32m♣\\x1b[0m],[A\\x1b[34m♦\\x1b[0m] | [3\\x1b[31m♥\\x1b[0m],[T♠] |1,3': <src.mccfr.Infoset at 0x12f4abfe0>,\n",
       " ' [2\\x1b[32m♣\\x1b[0m],[6\\x1b[34m♦\\x1b[0m] | [3\\x1b[31m♥\\x1b[0m],[T♠] |3': <src.mccfr.Infoset at 0x12eb0c080>,\n",
       " ' [J\\x1b[31m♥\\x1b[0m],[K\\x1b[34m♦\\x1b[0m] | [2\\x1b[34m♦\\x1b[0m],[5\\x1b[32m♣\\x1b[0m] |': <src.mccfr.Infoset at 0x12f4abb90>,\n",
       " ' [7♠],[T♠] | [2\\x1b[34m♦\\x1b[0m],[5\\x1b[32m♣\\x1b[0m] |3': <src.mccfr.Infoset at 0x12eb0c1a0>,\n",
       " ' [6\\x1b[34m♦\\x1b[0m],[7\\x1b[31m♥\\x1b[0m] | [3\\x1b[31m♥\\x1b[0m],[J\\x1b[31m♥\\x1b[0m] |': <src.mccfr.Infoset at 0x12f4abf50>,\n",
       " ' [5\\x1b[32m♣\\x1b[0m],[K\\x1b[31m♥\\x1b[0m] | [3\\x1b[31m♥\\x1b[0m],[J\\x1b[31m♥\\x1b[0m] |1': <src.mccfr.Infoset at 0x12eb0c2f0>,\n",
       " ' [6\\x1b[34m♦\\x1b[0m],[7\\x1b[31m♥\\x1b[0m] | [3\\x1b[31m♥\\x1b[0m],[J\\x1b[31m♥\\x1b[0m] |1,3': <src.mccfr.Infoset at 0x12eb0c3b0>,\n",
       " ' [5\\x1b[32m♣\\x1b[0m],[K\\x1b[31m♥\\x1b[0m] | [3\\x1b[31m♥\\x1b[0m],[J\\x1b[31m♥\\x1b[0m] |3': <src.mccfr.Infoset at 0x12eb0c380>,\n",
       " ' [6♠],[8\\x1b[34m♦\\x1b[0m] | [9\\x1b[31m♥\\x1b[0m],[K♠] |': <src.mccfr.Infoset at 0x12f4abe90>,\n",
       " ' [4\\x1b[31m♥\\x1b[0m],[5\\x1b[31m♥\\x1b[0m] | [9\\x1b[31m♥\\x1b[0m],[K♠] |3': <src.mccfr.Infoset at 0x12eb0c4a0>,\n",
       " ' [2♠],[T\\x1b[34m♦\\x1b[0m] | [9\\x1b[34m♦\\x1b[0m],[A\\x1b[34m♦\\x1b[0m] |': <src.mccfr.Infoset at 0x12eb0c290>,\n",
       " ' [3\\x1b[34m♦\\x1b[0m],[J\\x1b[34m♦\\x1b[0m] | [9\\x1b[34m♦\\x1b[0m],[A\\x1b[34m♦\\x1b[0m] |1': <src.mccfr.Infoset at 0x12eb0c5f0>,\n",
       " ' [2♠],[T\\x1b[34m♦\\x1b[0m] | [9\\x1b[34m♦\\x1b[0m],[A\\x1b[34m♦\\x1b[0m] |1,3': <src.mccfr.Infoset at 0x12eb0c6b0>,\n",
       " ' [3\\x1b[34m♦\\x1b[0m],[J\\x1b[34m♦\\x1b[0m] | [9\\x1b[34m♦\\x1b[0m],[A\\x1b[34m♦\\x1b[0m] |3': <src.mccfr.Infoset at 0x12eb0c680>,\n",
       " ' [6\\x1b[34m♦\\x1b[0m],[9\\x1b[34m♦\\x1b[0m] | [8♠],[A\\x1b[31m♥\\x1b[0m] |': <src.mccfr.Infoset at 0x12eb0c1d0>,\n",
       " ' [5\\x1b[31m♥\\x1b[0m],[A\\x1b[34m♦\\x1b[0m] | [8♠],[A\\x1b[31m♥\\x1b[0m] |3': <src.mccfr.Infoset at 0x12eb0c7a0>,\n",
       " ' [6\\x1b[34m♦\\x1b[0m],[J♠] | [2\\x1b[32m♣\\x1b[0m],[A\\x1b[32m♣\\x1b[0m] |': <src.mccfr.Infoset at 0x12eb0c590>,\n",
       " ' [J\\x1b[34m♦\\x1b[0m],[A\\x1b[31m♥\\x1b[0m] | [2\\x1b[32m♣\\x1b[0m],[A\\x1b[32m♣\\x1b[0m] |1': <src.mccfr.Infoset at 0x12eb0c8f0>,\n",
       " ' [6\\x1b[34m♦\\x1b[0m],[J♠] | [2\\x1b[32m♣\\x1b[0m],[A\\x1b[32m♣\\x1b[0m] |1,3': <src.mccfr.Infoset at 0x12eb0c9b0>,\n",
       " ' [J\\x1b[34m♦\\x1b[0m],[A\\x1b[31m♥\\x1b[0m] | [2\\x1b[32m♣\\x1b[0m],[A\\x1b[32m♣\\x1b[0m] |3': <src.mccfr.Infoset at 0x12eb0c980>,\n",
       " ' [2\\x1b[34m♦\\x1b[0m],[6\\x1b[32m♣\\x1b[0m] | [8\\x1b[31m♥\\x1b[0m],[Q\\x1b[31m♥\\x1b[0m] |': <src.mccfr.Infoset at 0x12eb0c4d0>,\n",
       " ' [2♠],[T♠] | [8\\x1b[31m♥\\x1b[0m],[Q\\x1b[31m♥\\x1b[0m] |3': <src.mccfr.Infoset at 0x12eb0caa0>,\n",
       " ' [2\\x1b[32m♣\\x1b[0m],[4\\x1b[31m♥\\x1b[0m] | [7\\x1b[31m♥\\x1b[0m],[7\\x1b[34m♦\\x1b[0m] |': <src.mccfr.Infoset at 0x12eb0cc20>,\n",
       " ' [4\\x1b[32m♣\\x1b[0m],[A\\x1b[32m♣\\x1b[0m] | [7\\x1b[31m♥\\x1b[0m],[7\\x1b[34m♦\\x1b[0m] |1': <src.mccfr.Infoset at 0x12eb0cd10>,\n",
       " ' [2\\x1b[32m♣\\x1b[0m],[4\\x1b[31m♥\\x1b[0m] | [7\\x1b[31m♥\\x1b[0m],[7\\x1b[34m♦\\x1b[0m] |1,3': <src.mccfr.Infoset at 0x12eb0cdd0>,\n",
       " ' [4\\x1b[32m♣\\x1b[0m],[A\\x1b[32m♣\\x1b[0m] | [7\\x1b[31m♥\\x1b[0m],[7\\x1b[34m♦\\x1b[0m] |3': <src.mccfr.Infoset at 0x12eb0cda0>,\n",
       " ' [3\\x1b[32m♣\\x1b[0m],[Q\\x1b[31m♥\\x1b[0m] | [5\\x1b[34m♦\\x1b[0m],[K\\x1b[32m♣\\x1b[0m] |': <src.mccfr.Infoset at 0x12eb0ce60>,\n",
       " ' [7\\x1b[32m♣\\x1b[0m],[A\\x1b[32m♣\\x1b[0m] | [5\\x1b[34m♦\\x1b[0m],[K\\x1b[32m♣\\x1b[0m] |3': <src.mccfr.Infoset at 0x12eb0cf50>,\n",
       " ' [5♠],[6\\x1b[31m♥\\x1b[0m] | [J\\x1b[31m♥\\x1b[0m],[K♠] |': <src.mccfr.Infoset at 0x12eb0cc80>,\n",
       " ' [6\\x1b[32m♣\\x1b[0m],[T\\x1b[31m♥\\x1b[0m] | [J\\x1b[31m♥\\x1b[0m],[K♠] |1': <src.mccfr.Infoset at 0x12eb0d0a0>,\n",
       " ' [5♠],[6\\x1b[31m♥\\x1b[0m] | [J\\x1b[31m♥\\x1b[0m],[K♠] |1,3': <src.mccfr.Infoset at 0x12eb0d160>,\n",
       " ' [6\\x1b[32m♣\\x1b[0m],[T\\x1b[31m♥\\x1b[0m] | [J\\x1b[31m♥\\x1b[0m],[K♠] |3': <src.mccfr.Infoset at 0x12eb0d130>,\n",
       " ' [8\\x1b[32m♣\\x1b[0m],[A\\x1b[32m♣\\x1b[0m] | [3\\x1b[34m♦\\x1b[0m],[Q\\x1b[34m♦\\x1b[0m] |': <src.mccfr.Infoset at 0x12eb0cad0>,\n",
       " ' [3\\x1b[31m♥\\x1b[0m],[5\\x1b[32m♣\\x1b[0m] | [3\\x1b[34m♦\\x1b[0m],[Q\\x1b[34m♦\\x1b[0m] |3': <src.mccfr.Infoset at 0x12eb0d250>,\n",
       " ' [A♠],[A\\x1b[34m♦\\x1b[0m] | [7♠],[Q\\x1b[32m♣\\x1b[0m] |': <src.mccfr.Infoset at 0x12eb0d040>,\n",
       " ' [T\\x1b[32m♣\\x1b[0m],[A\\x1b[32m♣\\x1b[0m] | [7♠],[Q\\x1b[32m♣\\x1b[0m] |1': <src.mccfr.Infoset at 0x12eb0d3a0>,\n",
       " ' [A♠],[A\\x1b[34m♦\\x1b[0m] | [7♠],[Q\\x1b[32m♣\\x1b[0m] |1,3': <src.mccfr.Infoset at 0x12eb0d460>,\n",
       " ' [T\\x1b[32m♣\\x1b[0m],[A\\x1b[32m♣\\x1b[0m] | [7♠],[Q\\x1b[32m♣\\x1b[0m] |3': <src.mccfr.Infoset at 0x12eb0d430>,\n",
       " ' [6\\x1b[32m♣\\x1b[0m],[A\\x1b[32m♣\\x1b[0m] | [7♠],[8\\x1b[34m♦\\x1b[0m] |': <src.mccfr.Infoset at 0x12eb0cf80>,\n",
       " ' [3\\x1b[32m♣\\x1b[0m],[K\\x1b[34m♦\\x1b[0m] | [7♠],[8\\x1b[34m♦\\x1b[0m] |3': <src.mccfr.Infoset at 0x12eb0d550>,\n",
       " ' [3\\x1b[34m♦\\x1b[0m],[5♠] | [J\\x1b[31m♥\\x1b[0m],[J\\x1b[32m♣\\x1b[0m] |': <src.mccfr.Infoset at 0x12eb0d340>,\n",
       " ' [4\\x1b[31m♥\\x1b[0m],[J♠] | [J\\x1b[31m♥\\x1b[0m],[J\\x1b[32m♣\\x1b[0m] |1': <src.mccfr.Infoset at 0x12eb0d6a0>,\n",
       " ' [3\\x1b[34m♦\\x1b[0m],[5♠] | [J\\x1b[31m♥\\x1b[0m],[J\\x1b[32m♣\\x1b[0m] |1,3': <src.mccfr.Infoset at 0x12eb0d760>,\n",
       " ' [4\\x1b[31m♥\\x1b[0m],[J♠] | [J\\x1b[31m♥\\x1b[0m],[J\\x1b[32m♣\\x1b[0m] |3': <src.mccfr.Infoset at 0x12eb0d730>,\n",
       " ' [2\\x1b[32m♣\\x1b[0m],[8♠] | [8\\x1b[31m♥\\x1b[0m],[K\\x1b[31m♥\\x1b[0m] |': <src.mccfr.Infoset at 0x12eb0d280>,\n",
       " ' [3\\x1b[32m♣\\x1b[0m],[J\\x1b[34m♦\\x1b[0m] | [8\\x1b[31m♥\\x1b[0m],[K\\x1b[31m♥\\x1b[0m] |3': <src.mccfr.Infoset at 0x12eb0d850>,\n",
       " ' [3\\x1b[31m♥\\x1b[0m],[K\\x1b[31m♥\\x1b[0m] | [T\\x1b[32m♣\\x1b[0m],[J♠] |': <src.mccfr.Infoset at 0x12eb0d640>,\n",
       " ' [2♠],[A\\x1b[32m♣\\x1b[0m] | [T\\x1b[32m♣\\x1b[0m],[J♠] |1': <src.mccfr.Infoset at 0x12eb0d9a0>,\n",
       " ' [3\\x1b[31m♥\\x1b[0m],[K\\x1b[31m♥\\x1b[0m] | [T\\x1b[32m♣\\x1b[0m],[J♠] |1,3': <src.mccfr.Infoset at 0x12eb0da60>,\n",
       " ' [2♠],[A\\x1b[32m♣\\x1b[0m] | [T\\x1b[32m♣\\x1b[0m],[J♠] |3': <src.mccfr.Infoset at 0x12eb0da30>,\n",
       " ' [2\\x1b[31m♥\\x1b[0m],[5\\x1b[32m♣\\x1b[0m] | [7\\x1b[31m♥\\x1b[0m],[K\\x1b[32m♣\\x1b[0m] |': <src.mccfr.Infoset at 0x12eb0d580>,\n",
       " ' [T♠],[J\\x1b[31m♥\\x1b[0m] | [7\\x1b[31m♥\\x1b[0m],[K\\x1b[32m♣\\x1b[0m] |3': <src.mccfr.Infoset at 0x12eb0db50>,\n",
       " ' [5\\x1b[32m♣\\x1b[0m],[Q\\x1b[32m♣\\x1b[0m] | [4\\x1b[32m♣\\x1b[0m],[8\\x1b[31m♥\\x1b[0m] |': <src.mccfr.Infoset at 0x12eb0d940>,\n",
       " ' [3♠],[J♠] | [4\\x1b[32m♣\\x1b[0m],[8\\x1b[31m♥\\x1b[0m] |1': <src.mccfr.Infoset at 0x12eb0dca0>,\n",
       " ' [5\\x1b[32m♣\\x1b[0m],[Q\\x1b[32m♣\\x1b[0m] | [4\\x1b[32m♣\\x1b[0m],[8\\x1b[31m♥\\x1b[0m] |1,3': <src.mccfr.Infoset at 0x12eb0dd60>,\n",
       " ' [3♠],[J♠] | [4\\x1b[32m♣\\x1b[0m],[8\\x1b[31m♥\\x1b[0m] |3': <src.mccfr.Infoset at 0x12eb0dd30>,\n",
       " ' [4\\x1b[32m♣\\x1b[0m],[7\\x1b[34m♦\\x1b[0m] | [T\\x1b[31m♥\\x1b[0m],[Q\\x1b[32m♣\\x1b[0m] |': <src.mccfr.Infoset at 0x12eb0d880>,\n",
       " ' [7\\x1b[32m♣\\x1b[0m],[A\\x1b[34m♦\\x1b[0m] | [T\\x1b[31m♥\\x1b[0m],[Q\\x1b[32m♣\\x1b[0m] |3': <src.mccfr.Infoset at 0x12eb0de50>,\n",
       " ' [6\\x1b[34m♦\\x1b[0m],[8\\x1b[32m♣\\x1b[0m] | [4♠],[K\\x1b[34m♦\\x1b[0m] |': <src.mccfr.Infoset at 0x12eb0dc40>,\n",
       " ' [6♠],[A♠] | [4♠],[K\\x1b[34m♦\\x1b[0m] |1': <src.mccfr.Infoset at 0x12eb0dfa0>,\n",
       " ' [6\\x1b[34m♦\\x1b[0m],[8\\x1b[32m♣\\x1b[0m] | [4♠],[K\\x1b[34m♦\\x1b[0m] |1,3': <src.mccfr.Infoset at 0x12eb0e060>,\n",
       " ' [6♠],[A♠] | [4♠],[K\\x1b[34m♦\\x1b[0m] |3': <src.mccfr.Infoset at 0x12eb0e030>,\n",
       " ' [3\\x1b[34m♦\\x1b[0m],[5\\x1b[31m♥\\x1b[0m] | [3\\x1b[32m♣\\x1b[0m],[5\\x1b[34m♦\\x1b[0m] |': <src.mccfr.Infoset at 0x12eb0db80>,\n",
       " ' [8\\x1b[31m♥\\x1b[0m],[T♠] | [3\\x1b[32m♣\\x1b[0m],[5\\x1b[34m♦\\x1b[0m] |3': <src.mccfr.Infoset at 0x12eb0e150>,\n",
       " ' [4\\x1b[34m♦\\x1b[0m],[T♠] | [5♠],[K♠] |': <src.mccfr.Infoset at 0x12eb0df40>,\n",
       " ' [4\\x1b[32m♣\\x1b[0m],[7\\x1b[34m♦\\x1b[0m] | [5♠],[K♠] |1': <src.mccfr.Infoset at 0x12eb0e2a0>,\n",
       " ' [4\\x1b[34m♦\\x1b[0m],[T♠] | [5♠],[K♠] |1,3': <src.mccfr.Infoset at 0x12eb0e360>,\n",
       " ' [4\\x1b[32m♣\\x1b[0m],[7\\x1b[34m♦\\x1b[0m] | [5♠],[K♠] |3': <src.mccfr.Infoset at 0x12eb0e330>,\n",
       " ' [5\\x1b[31m♥\\x1b[0m],[8♠] | [9\\x1b[31m♥\\x1b[0m],[Q\\x1b[31m♥\\x1b[0m] |': <src.mccfr.Infoset at 0x12eb0de80>,\n",
       " ' [5\\x1b[34m♦\\x1b[0m],[6\\x1b[31m♥\\x1b[0m] | [9\\x1b[31m♥\\x1b[0m],[Q\\x1b[31m♥\\x1b[0m] |3': <src.mccfr.Infoset at 0x12eb0e450>,\n",
       " ' [7\\x1b[34m♦\\x1b[0m],[8\\x1b[31m♥\\x1b[0m] | [4\\x1b[32m♣\\x1b[0m],[6\\x1b[31m♥\\x1b[0m] |': <src.mccfr.Infoset at 0x12eb0e240>,\n",
       " ' [5♠],[T\\x1b[31m♥\\x1b[0m] | [4\\x1b[32m♣\\x1b[0m],[6\\x1b[31m♥\\x1b[0m] |1': <src.mccfr.Infoset at 0x12eb0e5a0>,\n",
       " ' [7\\x1b[34m♦\\x1b[0m],[8\\x1b[31m♥\\x1b[0m] | [4\\x1b[32m♣\\x1b[0m],[6\\x1b[31m♥\\x1b[0m] |1,3': <src.mccfr.Infoset at 0x12eb0e660>,\n",
       " ' [5♠],[T\\x1b[31m♥\\x1b[0m] | [4\\x1b[32m♣\\x1b[0m],[6\\x1b[31m♥\\x1b[0m] |3': <src.mccfr.Infoset at 0x12eb0e630>,\n",
       " ' [2\\x1b[32m♣\\x1b[0m],[T\\x1b[31m♥\\x1b[0m] | [3\\x1b[34m♦\\x1b[0m],[J\\x1b[31m♥\\x1b[0m] |': <src.mccfr.Infoset at 0x12eb0e180>,\n",
       " ' [3\\x1b[31m♥\\x1b[0m],[J\\x1b[34m♦\\x1b[0m] | [3\\x1b[34m♦\\x1b[0m],[J\\x1b[31m♥\\x1b[0m] |3': <src.mccfr.Infoset at 0x12eb0e750>,\n",
       " ' [2\\x1b[32m♣\\x1b[0m],[8♠] | [3♠],[7\\x1b[32m♣\\x1b[0m] |': <src.mccfr.Infoset at 0x12eb0e540>,\n",
       " ' [6\\x1b[34m♦\\x1b[0m],[J\\x1b[31m♥\\x1b[0m] | [3♠],[7\\x1b[32m♣\\x1b[0m] |1': <src.mccfr.Infoset at 0x12eb0e8a0>,\n",
       " ' [2\\x1b[32m♣\\x1b[0m],[8♠] | [3♠],[7\\x1b[32m♣\\x1b[0m] |1,3': <src.mccfr.Infoset at 0x12eb0e960>,\n",
       " ' [6\\x1b[34m♦\\x1b[0m],[J\\x1b[31m♥\\x1b[0m] | [3♠],[7\\x1b[32m♣\\x1b[0m] |3': <src.mccfr.Infoset at 0x12eb0e930>,\n",
       " ' [3\\x1b[32m♣\\x1b[0m],[6♠] | [2\\x1b[31m♥\\x1b[0m],[3\\x1b[34m♦\\x1b[0m] |': <src.mccfr.Infoset at 0x12eb0e480>,\n",
       " ' [2\\x1b[34m♦\\x1b[0m],[4\\x1b[34m♦\\x1b[0m] | [2\\x1b[31m♥\\x1b[0m],[3\\x1b[34m♦\\x1b[0m] |3': <src.mccfr.Infoset at 0x12eb0ea50>,\n",
       " ' [7\\x1b[32m♣\\x1b[0m],[Q\\x1b[34m♦\\x1b[0m] | [2\\x1b[32m♣\\x1b[0m],[6♠] |': <src.mccfr.Infoset at 0x12eb0e840>,\n",
       " ' [5\\x1b[32m♣\\x1b[0m],[T♠] | [2\\x1b[32m♣\\x1b[0m],[6♠] |1': <src.mccfr.Infoset at 0x12eb0eba0>,\n",
       " ' [7\\x1b[32m♣\\x1b[0m],[Q\\x1b[34m♦\\x1b[0m] | [2\\x1b[32m♣\\x1b[0m],[6♠] |1,3': <src.mccfr.Infoset at 0x12eb0ec60>,\n",
       " ' [5\\x1b[32m♣\\x1b[0m],[T♠] | [2\\x1b[32m♣\\x1b[0m],[6♠] |3': <src.mccfr.Infoset at 0x12eb0ec30>,\n",
       " ' [2\\x1b[32m♣\\x1b[0m],[6\\x1b[34m♦\\x1b[0m] | [7♠],[Q\\x1b[32m♣\\x1b[0m] |': <src.mccfr.Infoset at 0x12eb0e780>,\n",
       " ' [5\\x1b[32m♣\\x1b[0m],[T\\x1b[32m♣\\x1b[0m] | [7♠],[Q\\x1b[32m♣\\x1b[0m] |3': <src.mccfr.Infoset at 0x12eb0ed50>,\n",
       " ' [4\\x1b[34m♦\\x1b[0m],[5\\x1b[31m♥\\x1b[0m] | [4\\x1b[31m♥\\x1b[0m],[9\\x1b[34m♦\\x1b[0m] |': <src.mccfr.Infoset at 0x12eb0eb40>,\n",
       " ' [T\\x1b[34m♦\\x1b[0m],[K♠] | [4\\x1b[31m♥\\x1b[0m],[9\\x1b[34m♦\\x1b[0m] |1': <src.mccfr.Infoset at 0x12eb0eea0>,\n",
       " ' [4\\x1b[34m♦\\x1b[0m],[5\\x1b[31m♥\\x1b[0m] | [4\\x1b[31m♥\\x1b[0m],[9\\x1b[34m♦\\x1b[0m] |1,3': <src.mccfr.Infoset at 0x12eb0ef60>,\n",
       " ' [T\\x1b[34m♦\\x1b[0m],[K♠] | [4\\x1b[31m♥\\x1b[0m],[9\\x1b[34m♦\\x1b[0m] |3': <src.mccfr.Infoset at 0x12eb0ef30>,\n",
       " ' [7\\x1b[34m♦\\x1b[0m],[T\\x1b[31m♥\\x1b[0m] | [7♠],[7\\x1b[32m♣\\x1b[0m] |': <src.mccfr.Infoset at 0x12eb0ea80>,\n",
       " ' [T\\x1b[34m♦\\x1b[0m],[A\\x1b[32m♣\\x1b[0m] | [7♠],[7\\x1b[32m♣\\x1b[0m] |3': <src.mccfr.Infoset at 0x12eb0f050>,\n",
       " ' [4\\x1b[31m♥\\x1b[0m],[8\\x1b[31m♥\\x1b[0m] | [J\\x1b[31m♥\\x1b[0m],[A\\x1b[32m♣\\x1b[0m] |': <src.mccfr.Infoset at 0x12eb0ee40>,\n",
       " ' [6\\x1b[31m♥\\x1b[0m],[8\\x1b[32m♣\\x1b[0m] | [J\\x1b[31m♥\\x1b[0m],[A\\x1b[32m♣\\x1b[0m] |1': <src.mccfr.Infoset at 0x12eb0f1a0>,\n",
       " ' [4\\x1b[31m♥\\x1b[0m],[8\\x1b[31m♥\\x1b[0m] | [J\\x1b[31m♥\\x1b[0m],[A\\x1b[32m♣\\x1b[0m] |1,3': <src.mccfr.Infoset at 0x12eb0f260>,\n",
       " ' [6\\x1b[31m♥\\x1b[0m],[8\\x1b[32m♣\\x1b[0m] | [J\\x1b[31m♥\\x1b[0m],[A\\x1b[32m♣\\x1b[0m] |3': <src.mccfr.Infoset at 0x12eb0f230>,\n",
       " ' [4♠],[Q\\x1b[31m♥\\x1b[0m] | [6\\x1b[34m♦\\x1b[0m],[K\\x1b[32m♣\\x1b[0m] |': <src.mccfr.Infoset at 0x12eb0ed80>,\n",
       " ' [2\\x1b[31m♥\\x1b[0m],[Q\\x1b[32m♣\\x1b[0m] | [6\\x1b[34m♦\\x1b[0m],[K\\x1b[32m♣\\x1b[0m] |3': <src.mccfr.Infoset at 0x12eb0f350>,\n",
       " ' [K♠],[A\\x1b[32m♣\\x1b[0m] | [3\\x1b[34m♦\\x1b[0m],[9\\x1b[31m♥\\x1b[0m] |': <src.mccfr.Infoset at 0x12eb0f140>,\n",
       " ' [4\\x1b[34m♦\\x1b[0m],[7♠] | [3\\x1b[34m♦\\x1b[0m],[9\\x1b[31m♥\\x1b[0m] |1': <src.mccfr.Infoset at 0x12eb0f4a0>,\n",
       " ' [K♠],[A\\x1b[32m♣\\x1b[0m] | [3\\x1b[34m♦\\x1b[0m],[9\\x1b[31m♥\\x1b[0m] |1,3': <src.mccfr.Infoset at 0x12eb0f560>,\n",
       " ' [4\\x1b[34m♦\\x1b[0m],[7♠] | [3\\x1b[34m♦\\x1b[0m],[9\\x1b[31m♥\\x1b[0m] |3': <src.mccfr.Infoset at 0x12eb0f530>,\n",
       " ...}"
      ]
     },
     "execution_count": 8,
     "metadata": {},
     "output_type": "execute_result"
    }
   ],
   "source": [
    "mc.nodes"
   ]
  },
  {
   "cell_type": "code",
   "execution_count": 26,
   "id": "cba883fa-1f94-4c95-926e-ccd48f4e2f03",
   "metadata": {},
   "outputs": [
    {
     "name": "stdout",
     "output_type": "stream",
     "text": [
      " [9\u001b[34m♦\u001b[0m],[T\u001b[32m♣\u001b[0m] | [2♠],[T\u001b[34m♦\u001b[0m] |\n",
      "[0. 0. 0. 1.]\n"
     ]
    }
   ],
   "source": [
    "for node in list(mc.nodes.keys()):\n",
    "    if mc.nodes[node].get_average_strategy()[0] != 0.25:\n",
    "        print(node)\n",
    "        print(mc.nodes[node].get_average_strategy())"
   ]
  },
  {
   "cell_type": "code",
   "execution_count": 18,
   "id": "502976f9-fa45-4e86-848b-530ea70ba040",
   "metadata": {},
   "outputs": [
    {
     "data": {
      "text/plain": [
       "array([0.25, 0.25, 0.25, 0.25])"
      ]
     },
     "execution_count": 18,
     "metadata": {},
     "output_type": "execute_result"
    }
   ],
   "source": [
    "mc.nodes[list(mc.nodes.keys())[1000]].get_average_strategy()"
   ]
  },
  {
   "cell_type": "code",
   "execution_count": 28,
   "id": "7a9d9ab1-7c84-49f1-84d8-3d47c3d1c0f7",
   "metadata": {},
   "outputs": [
    {
     "data": {
      "text/plain": [
       "array([0.25, 0.25, 0.25, 0.25])"
      ]
     },
     "execution_count": 28,
     "metadata": {},
     "output_type": "execute_result"
    }
   ],
   "source": [
    "mc.nodes['164099,279045|1082379,268471337|1'].get_average()"
   ]
  }
 ],
 "metadata": {
  "kernelspec": {
   "display_name": "Python [conda env:base] *",
   "language": "python",
   "name": "conda-base-py"
  },
  "language_info": {
   "codemirror_mode": {
    "name": "ipython",
    "version": 3
   },
   "file_extension": ".py",
   "mimetype": "text/x-python",
   "name": "python",
   "nbconvert_exporter": "python",
   "pygments_lexer": "ipython3",
   "version": "3.12.2"
  }
 },
 "nbformat": 4,
 "nbformat_minor": 5
}
