{
 "cells": [
  {
   "cell_type": "code",
   "execution_count": 2,
   "id": "8b68a851-9ebf-4439-83d9-15c003878c25",
   "metadata": {},
   "outputs": [],
   "source": [
    "from core.poker.deck import Deck\n",
    "from core.poker.game import PokerGame\n",
    "from core.poker.player import Player, PlayerAction, RandomPlayer, HumanPlayer\n",
    "from core.cfr import KuhnCFR\n",
    "from treys import Card\n",
    "from treys import Evaluator"
   ]
  },
  {
   "cell_type": "code",
   "execution_count": 242,
   "id": "439cf072-9479-4fa9-9367-c3c080d7bbd6",
   "metadata": {},
   "outputs": [
    {
     "name": "stdout",
     "output_type": "stream",
     "text": [
      " [A\u001b[31m♥\u001b[0m],[K♠],[Q\u001b[32m♣\u001b[0m],[J\u001b[34m♦\u001b[0m],[4\u001b[31m♥\u001b[0m],[2♠],[3♠] \n"
     ]
    }
   ],
   "source": [
    "evaluator = Evaluator()\n",
    "board = [Card.new('Ah'), Card.new('Ks'), Card.new('Qc'), Card.new('Jd'), Card.new('4h')]\n",
    "hand1 = [Card.new('2s'), Card.new('3s')]\n",
    "hand2 = [Card.new('2c'), Card.new('9c')]\n",
    "Card.print_pretty_cards(board + hand1)"
   ]
  },
  {
   "cell_type": "code",
   "execution_count": 244,
   "id": "69e1d3bb-0aad-48a1-83f5-91ef9175a53a",
   "metadata": {},
   "outputs": [
    {
     "name": "stdout",
     "output_type": "stream",
     "text": [
      "6191\n",
      "6186\n",
      "High Card\n"
     ]
    }
   ],
   "source": [
    "p1_score = evaluator.evaluate(board, hand1)\n",
    "p2_score = evaluator.evaluate(board, hand2)\n",
    "p1_class = evaluator.get_rank_class(p1_score)\n",
    "print(p1_score)\n",
    "print(p2_score)\n",
    "print(evaluator.class_to_string(p1_class))"
   ]
  },
  {
   "cell_type": "code",
   "execution_count": 6,
   "id": "d791c1b8-d74e-411f-aec3-aefa4b365496",
   "metadata": {},
   "outputs": [],
   "source": [
    "deck = Deck(seed=52)\n",
    "deck.shuffle()"
   ]
  },
  {
   "cell_type": "code",
   "execution_count": 198,
   "id": "cb8a363b-82d5-4d3d-8bd0-43437d7ae183",
   "metadata": {},
   "outputs": [
    {
     "name": "stdout",
     "output_type": "stream",
     "text": [
      " [J\u001b[32m♣\u001b[0m],[Q\u001b[31m♥\u001b[0m],[T\u001b[31m♥\u001b[0m],[8\u001b[31m♥\u001b[0m],[6\u001b[32m♣\u001b[0m],[4\u001b[31m♥\u001b[0m],[A♠],[3♠],[6♠],[Q\u001b[34m♦\u001b[0m],[5\u001b[34m♦\u001b[0m],[3\u001b[34m♦\u001b[0m],[7\u001b[31m♥\u001b[0m],[A\u001b[32m♣\u001b[0m],[T\u001b[32m♣\u001b[0m],[Q♠],[6\u001b[34m♦\u001b[0m],[K\u001b[32m♣\u001b[0m],[5♠],[2\u001b[31m♥\u001b[0m],[A\u001b[34m♦\u001b[0m],[5\u001b[31m♥\u001b[0m],[A\u001b[31m♥\u001b[0m],[8\u001b[32m♣\u001b[0m],[Q\u001b[32m♣\u001b[0m],[7♠],[3\u001b[32m♣\u001b[0m],[9\u001b[32m♣\u001b[0m],[9\u001b[31m♥\u001b[0m],[3\u001b[31m♥\u001b[0m],[J♠],[5\u001b[32m♣\u001b[0m],[J\u001b[31m♥\u001b[0m],[J\u001b[34m♦\u001b[0m],[8♠],[T\u001b[34m♦\u001b[0m],[K♠],[2♠],[9♠],[7\u001b[34m♦\u001b[0m],[4\u001b[32m♣\u001b[0m],[K\u001b[31m♥\u001b[0m],[4\u001b[34m♦\u001b[0m],[4♠],[2\u001b[34m♦\u001b[0m],[8\u001b[34m♦\u001b[0m],[7\u001b[32m♣\u001b[0m],[9\u001b[34m♦\u001b[0m],[T♠],[K\u001b[34m♦\u001b[0m],[2\u001b[32m♣\u001b[0m],[6\u001b[31m♥\u001b[0m] \n"
     ]
    }
   ],
   "source": [
    "print(deck)"
   ]
  },
  {
   "cell_type": "code",
   "execution_count": 200,
   "id": "0d84a5e7-0c6a-4eb8-bf59-7028b5b12f7b",
   "metadata": {},
   "outputs": [],
   "source": [
    "board = deck.draw(5)\n",
    "p1 = deck.draw(2)\n",
    "p2 = deck.draw(2)"
   ]
  },
  {
   "cell_type": "code",
   "execution_count": null,
   "id": "8ef271cb-6bf1-4538-b233-dd131f347839",
   "metadata": {},
   "outputs": [],
   "source": []
  },
  {
   "cell_type": "code",
   "execution_count": 6,
   "id": "1b1d5ff9-b1f4-4de9-a15f-09a2a7f63ffd",
   "metadata": {},
   "outputs": [
    {
     "name": "stdout",
     "output_type": "stream",
     "text": [
      "\n",
      "==================================================\n",
      "New Round starting. Player 1: $10 | Player 2: $10\n",
      "==================================================\n",
      "Pot: 0\n",
      "Community cards:  \n",
      "\n",
      "Player 1 Hand:  [9\u001b[32m♣\u001b[0m],[3\u001b[31m♥\u001b[0m] \n",
      "Player 2 Hand:  [9\u001b[31m♥\u001b[0m],[7\u001b[32m♣\u001b[0m] \n",
      "\n",
      "A posts: $1\n",
      "B posts: $1\n",
      "A available actions: FOLD, CHECK, RAISE\n"
     ]
    },
    {
     "name": "stdin",
     "output_type": "stream",
     "text": [
      "Your action:  fold\n"
     ]
    },
    {
     "name": "stdout",
     "output_type": "stream",
     "text": [
      "A folds.\n",
      "\n",
      "A folded. B wins $2!\n"
     ]
    },
    {
     "name": "stdin",
     "output_type": "stream",
     "text": [
      "\n",
      "Continue playing? (y/n):  y\n"
     ]
    },
    {
     "name": "stdout",
     "output_type": "stream",
     "text": [
      "\n",
      "==================================================\n",
      "New Round starting. Player 1: $9 | Player 2: $11\n",
      "==================================================\n",
      "Pot: 0\n",
      "Community cards:  \n",
      "\n",
      "Player 1 Hand:  [5♠],[T\u001b[34m♦\u001b[0m] \n",
      "Player 2 Hand:  [3\u001b[31m♥\u001b[0m],[6\u001b[34m♦\u001b[0m] \n",
      "\n",
      "B posts: $1\n",
      "A posts: $1\n",
      "B available actions: FOLD, CHECK, RAISE\n"
     ]
    },
    {
     "name": "stdin",
     "output_type": "stream",
     "text": [
      "Your action:  raise\n"
     ]
    },
    {
     "name": "stdout",
     "output_type": "stream",
     "text": [
      "B raises by $1 to $2.\n",
      "A available actions: FOLD, CALL\n"
     ]
    },
    {
     "name": "stdin",
     "output_type": "stream",
     "text": [
      "Your action:  call\n"
     ]
    },
    {
     "name": "stdout",
     "output_type": "stream",
     "text": [
      "A calls $1.\n",
      "\n",
      "==================================================\n",
      "Flop starting. Player 1: $7 | Player 2: $9\n",
      "==================================================\n",
      "Pot: 4\n",
      "Community cards:  [J\u001b[32m♣\u001b[0m],[4\u001b[32m♣\u001b[0m],[A\u001b[31m♥\u001b[0m] \n",
      "\n",
      "Player 1 Hand:  [5♠],[T\u001b[34m♦\u001b[0m] \n",
      "Player 2 Hand:  [3\u001b[31m♥\u001b[0m],[6\u001b[34m♦\u001b[0m] \n",
      "B available actions: FOLD, CHECK, RAISE\n"
     ]
    },
    {
     "name": "stdin",
     "output_type": "stream",
     "text": [
      "Your action:  raise\n"
     ]
    },
    {
     "name": "stdout",
     "output_type": "stream",
     "text": [
      "B raises by $1 to $3.\n",
      "A available actions: FOLD, CALL\n"
     ]
    },
    {
     "name": "stdin",
     "output_type": "stream",
     "text": [
      "Your action:  call\n"
     ]
    },
    {
     "name": "stdout",
     "output_type": "stream",
     "text": [
      "A calls $1.\n",
      "\n",
      "==================================================\n",
      "Turn starting. Player 1: $6 | Player 2: $8\n",
      "==================================================\n",
      "Pot: 6\n",
      "Community cards:  [J\u001b[32m♣\u001b[0m],[4\u001b[32m♣\u001b[0m],[A\u001b[31m♥\u001b[0m],[9\u001b[34m♦\u001b[0m] \n",
      "\n",
      "Player 1 Hand:  [5♠],[T\u001b[34m♦\u001b[0m] \n",
      "Player 2 Hand:  [3\u001b[31m♥\u001b[0m],[6\u001b[34m♦\u001b[0m] \n",
      "B available actions: FOLD, CHECK, RAISE\n"
     ]
    },
    {
     "name": "stdin",
     "output_type": "stream",
     "text": [
      "Your action:  check\n"
     ]
    },
    {
     "name": "stdout",
     "output_type": "stream",
     "text": [
      "B checks.\n",
      "A available actions: FOLD, CHECK, RAISE\n"
     ]
    },
    {
     "name": "stdin",
     "output_type": "stream",
     "text": [
      "Your action:  check\n"
     ]
    },
    {
     "name": "stdout",
     "output_type": "stream",
     "text": [
      "A checks.\n",
      "\n",
      "==================================================\n",
      "River starting. Player 1: $6 | Player 2: $8\n",
      "==================================================\n",
      "Pot: 6\n",
      "Community cards:  [J\u001b[32m♣\u001b[0m],[4\u001b[32m♣\u001b[0m],[A\u001b[31m♥\u001b[0m],[9\u001b[34m♦\u001b[0m],[2\u001b[31m♥\u001b[0m] \n",
      "\n",
      "Player 1 Hand:  [5♠],[T\u001b[34m♦\u001b[0m] \n",
      "Player 2 Hand:  [3\u001b[31m♥\u001b[0m],[6\u001b[34m♦\u001b[0m] \n",
      "B available actions: FOLD, CHECK, RAISE\n"
     ]
    },
    {
     "name": "stdin",
     "output_type": "stream",
     "text": [
      "Your action:  check\n"
     ]
    },
    {
     "name": "stdout",
     "output_type": "stream",
     "text": [
      "B checks.\n",
      "A available actions: FOLD, CHECK, RAISE\n"
     ]
    },
    {
     "name": "stdin",
     "output_type": "stream",
     "text": [
      "Your action:  raise\n"
     ]
    },
    {
     "name": "stdout",
     "output_type": "stream",
     "text": [
      "A raises by $1 to $4.\n",
      "B available actions: FOLD, CALL\n"
     ]
    },
    {
     "name": "stdin",
     "output_type": "stream",
     "text": [
      "Your action:  call\n"
     ]
    },
    {
     "name": "stdout",
     "output_type": "stream",
     "text": [
      "B calls $1.\n",
      "\n",
      "==================================================\n",
      "Showdown starting. Player 1: $5 | Player 2: $7\n",
      "==================================================\n",
      "\n",
      "A wins $8 with a High Card!\n"
     ]
    },
    {
     "name": "stdin",
     "output_type": "stream",
     "text": [
      "\n",
      "Continue playing? (y/n):  y\n"
     ]
    },
    {
     "name": "stdout",
     "output_type": "stream",
     "text": [
      "\n",
      "==================================================\n",
      "New Round starting. Player 1: $13 | Player 2: $7\n",
      "==================================================\n",
      "Pot: 0\n",
      "Community cards:  \n",
      "\n",
      "Player 1 Hand:  [6\u001b[32m♣\u001b[0m],[3\u001b[31m♥\u001b[0m] \n",
      "Player 2 Hand:  [9\u001b[34m♦\u001b[0m],[5♠] \n",
      "\n",
      "A posts: $1\n",
      "B posts: $1\n",
      "A available actions: FOLD, CHECK, RAISE\n"
     ]
    },
    {
     "name": "stdin",
     "output_type": "stream",
     "text": [
      "Your action:  raise\n"
     ]
    },
    {
     "name": "stdout",
     "output_type": "stream",
     "text": [
      "A raises by $1 to $2.\n",
      "B available actions: FOLD, CALL\n"
     ]
    },
    {
     "name": "stdin",
     "output_type": "stream",
     "text": [
      "Your action:  call\n"
     ]
    },
    {
     "name": "stdout",
     "output_type": "stream",
     "text": [
      "B calls $1.\n",
      "\n",
      "==================================================\n",
      "Flop starting. Player 1: $11 | Player 2: $5\n",
      "==================================================\n",
      "Pot: 4\n",
      "Community cards:  [3♠],[4\u001b[32m♣\u001b[0m],[3\u001b[32m♣\u001b[0m] \n",
      "\n",
      "Player 1 Hand:  [6\u001b[32m♣\u001b[0m],[3\u001b[31m♥\u001b[0m] \n",
      "Player 2 Hand:  [9\u001b[34m♦\u001b[0m],[5♠] \n",
      "A available actions: FOLD, CHECK, RAISE\n"
     ]
    },
    {
     "name": "stdin",
     "output_type": "stream",
     "text": [
      "Your action:  check\n"
     ]
    },
    {
     "name": "stdout",
     "output_type": "stream",
     "text": [
      "A checks.\n",
      "B available actions: FOLD, CHECK, RAISE\n"
     ]
    },
    {
     "name": "stdin",
     "output_type": "stream",
     "text": [
      "Your action:  raise\n"
     ]
    },
    {
     "name": "stdout",
     "output_type": "stream",
     "text": [
      "B raises by $1 to $3.\n",
      "A available actions: FOLD, CALL\n"
     ]
    },
    {
     "name": "stdin",
     "output_type": "stream",
     "text": [
      "Your action:  call\n"
     ]
    },
    {
     "name": "stdout",
     "output_type": "stream",
     "text": [
      "A calls $1.\n",
      "\n",
      "==================================================\n",
      "Turn starting. Player 1: $10 | Player 2: $4\n",
      "==================================================\n",
      "Pot: 6\n",
      "Community cards:  [3♠],[4\u001b[32m♣\u001b[0m],[3\u001b[32m♣\u001b[0m],[K\u001b[31m♥\u001b[0m] \n",
      "\n",
      "Player 1 Hand:  [6\u001b[32m♣\u001b[0m],[3\u001b[31m♥\u001b[0m] \n",
      "Player 2 Hand:  [9\u001b[34m♦\u001b[0m],[5♠] \n",
      "A available actions: FOLD, CHECK, RAISE\n"
     ]
    },
    {
     "name": "stdin",
     "output_type": "stream",
     "text": [
      "Your action:  raise\n"
     ]
    },
    {
     "name": "stdout",
     "output_type": "stream",
     "text": [
      "A raises by $1 to $4.\n",
      "B available actions: FOLD, CALL\n"
     ]
    },
    {
     "name": "stdin",
     "output_type": "stream",
     "text": [
      "Your action:  call\n"
     ]
    },
    {
     "name": "stdout",
     "output_type": "stream",
     "text": [
      "B calls $1.\n",
      "\n",
      "==================================================\n",
      "River starting. Player 1: $9 | Player 2: $3\n",
      "==================================================\n",
      "Pot: 8\n",
      "Community cards:  [3♠],[4\u001b[32m♣\u001b[0m],[3\u001b[32m♣\u001b[0m],[K\u001b[31m♥\u001b[0m],[J\u001b[31m♥\u001b[0m] \n",
      "\n",
      "Player 1 Hand:  [6\u001b[32m♣\u001b[0m],[3\u001b[31m♥\u001b[0m] \n",
      "Player 2 Hand:  [9\u001b[34m♦\u001b[0m],[5♠] \n",
      "A available actions: FOLD, CHECK, RAISE\n"
     ]
    },
    {
     "name": "stdin",
     "output_type": "stream",
     "text": [
      "Your action:  raise\n"
     ]
    },
    {
     "name": "stdout",
     "output_type": "stream",
     "text": [
      "A raises by $1 to $5.\n",
      "B available actions: FOLD, CALL\n"
     ]
    },
    {
     "name": "stdin",
     "output_type": "stream",
     "text": [
      "Your action:  call\n"
     ]
    },
    {
     "name": "stdout",
     "output_type": "stream",
     "text": [
      "B calls $1.\n",
      "\n",
      "==================================================\n",
      "Showdown starting. Player 1: $8 | Player 2: $2\n",
      "==================================================\n",
      "\n",
      "A wins $10 with a Three of a Kind!\n"
     ]
    },
    {
     "name": "stdin",
     "output_type": "stream",
     "text": [
      "\n",
      "Continue playing? (y/n):  y\n"
     ]
    },
    {
     "name": "stdout",
     "output_type": "stream",
     "text": [
      "\n",
      "==================================================\n",
      "New Round starting. Player 1: $18 | Player 2: $2\n",
      "==================================================\n",
      "Pot: 0\n",
      "Community cards:  \n",
      "\n",
      "Player 1 Hand:  [4\u001b[34m♦\u001b[0m],[8\u001b[31m♥\u001b[0m] \n",
      "Player 2 Hand:  [3♠],[8♠] \n",
      "\n",
      "B posts: $1\n",
      "A posts: $1\n",
      "B available actions: FOLD, CHECK, RAISE\n"
     ]
    },
    {
     "name": "stdin",
     "output_type": "stream",
     "text": [
      "Your action:  raise\n"
     ]
    },
    {
     "name": "stdout",
     "output_type": "stream",
     "text": [
      "B raises by $1 to $2.\n",
      "A available actions: FOLD, CALL\n"
     ]
    },
    {
     "name": "stdin",
     "output_type": "stream",
     "text": [
      "Your action:  call\n"
     ]
    },
    {
     "name": "stdout",
     "output_type": "stream",
     "text": [
      "A calls $1.\n",
      "\n",
      "==================================================\n",
      "Flop starting. Player 1: $16 | Player 2: $0\n",
      "==================================================\n",
      "Pot: 4\n",
      "Community cards:  [3\u001b[32m♣\u001b[0m],[6\u001b[31m♥\u001b[0m],[5\u001b[31m♥\u001b[0m] \n",
      "\n",
      "Player 1 Hand:  [4\u001b[34m♦\u001b[0m],[8\u001b[31m♥\u001b[0m] \n",
      "Player 2 Hand:  [3♠],[8♠] \n",
      "\n",
      "==================================================\n",
      "Turn starting. Player 1: $16 | Player 2: $0\n",
      "==================================================\n",
      "Pot: 4\n",
      "Community cards:  [3\u001b[32m♣\u001b[0m],[6\u001b[31m♥\u001b[0m],[5\u001b[31m♥\u001b[0m],[9\u001b[31m♥\u001b[0m] \n",
      "\n",
      "Player 1 Hand:  [4\u001b[34m♦\u001b[0m],[8\u001b[31m♥\u001b[0m] \n",
      "Player 2 Hand:  [3♠],[8♠] \n",
      "\n",
      "==================================================\n",
      "River starting. Player 1: $16 | Player 2: $0\n",
      "==================================================\n",
      "Pot: 4\n",
      "Community cards:  [3\u001b[32m♣\u001b[0m],[6\u001b[31m♥\u001b[0m],[5\u001b[31m♥\u001b[0m],[9\u001b[31m♥\u001b[0m],[A\u001b[31m♥\u001b[0m] \n",
      "\n",
      "Player 1 Hand:  [4\u001b[34m♦\u001b[0m],[8\u001b[31m♥\u001b[0m] \n",
      "Player 2 Hand:  [3♠],[8♠] \n",
      "\n",
      "==================================================\n",
      "Showdown starting. Player 1: $16 | Player 2: $0\n",
      "==================================================\n",
      "\n",
      "A wins $4 with a Flush!\n",
      "\n",
      "Game Over!\n",
      "B is out of chips! A wins!\n"
     ]
    }
   ],
   "source": [
    "player1 = HumanPlayer(\"A\")\n",
    "player2 = HumanPlayer(\"B\")\n",
    "game = PokerGame(player1, player2)\n",
    "game.play_game()"
   ]
  },
  {
   "cell_type": "code",
   "execution_count": null,
   "id": "453012bf-d88f-4052-884b-03af1bab13b4",
   "metadata": {},
   "outputs": [],
   "source": []
  },
  {
   "cell_type": "code",
   "execution_count": null,
   "id": "66df8329-39a6-46b7-aee5-302af42525d5",
   "metadata": {},
   "outputs": [],
   "source": []
  },
  {
   "cell_type": "code",
   "execution_count": null,
   "id": "0a07a398-addd-4ed3-96b7-00861f108c55",
   "metadata": {},
   "outputs": [],
   "source": []
  },
  {
   "cell_type": "code",
   "execution_count": null,
   "id": "a0d527a9-0ef0-42a2-a9b2-3c3ad53b375a",
   "metadata": {},
   "outputs": [],
   "source": []
  },
  {
   "cell_type": "code",
   "execution_count": null,
   "id": "13c3c206-2211-4979-8470-2eeac54a8896",
   "metadata": {},
   "outputs": [],
   "source": []
  },
  {
   "cell_type": "code",
   "execution_count": 46,
   "id": "29fb0ae4-1fa1-4938-a2af-5403dcf3376b",
   "metadata": {},
   "outputs": [],
   "source": [
    "k = KuhnCFR(100000, 10)\n",
    "result = k.cfr_iterations_external()"
   ]
  },
  {
   "cell_type": "code",
   "execution_count": 48,
   "id": "ce506d02-2592-4c81-82c2-7972542bdde3",
   "metadata": {},
   "outputs": [
    {
     "data": {
      "text/plain": [
       "{'2[]': <core.cfr.Node at 0x12f81e0c0>,\n",
       " '7[0]': <core.cfr.Node at 0x13ff12e40>,\n",
       " '2[0, 1]': <core.cfr.Node at 0x13ff13a70>,\n",
       " '7[1]': <core.cfr.Node at 0x13ff13500>,\n",
       " '0[]': <core.cfr.Node at 0x13ff12510>,\n",
       " '2[1]': <core.cfr.Node at 0x13ff129f0>,\n",
       " '5[]': <core.cfr.Node at 0x13ff10c20>,\n",
       " '4[0]': <core.cfr.Node at 0x13ff13860>,\n",
       " '4[1]': <core.cfr.Node at 0x13ff10740>,\n",
       " '4[]': <core.cfr.Node at 0x13ff113a0>,\n",
       " '0[1]': <core.cfr.Node at 0x13ff105f0>,\n",
       " '1[]': <core.cfr.Node at 0x13ff12660>,\n",
       " '9[0]': <core.cfr.Node at 0x13ff12330>,\n",
       " '1[0, 1]': <core.cfr.Node at 0x13ff139b0>,\n",
       " '9[1]': <core.cfr.Node at 0x13ff11100>,\n",
       " '8[]': <core.cfr.Node at 0x13ff10230>,\n",
       " '8[0, 1]': <core.cfr.Node at 0x13ff13770>,\n",
       " '2[0]': <core.cfr.Node at 0x13ff10cb0>,\n",
       " '6[]': <core.cfr.Node at 0x13ff13c80>,\n",
       " '9[]': <core.cfr.Node at 0x13ff11580>,\n",
       " '8[0]': <core.cfr.Node at 0x13ff106b0>,\n",
       " '9[0, 1]': <core.cfr.Node at 0x13ff10a70>,\n",
       " '8[1]': <core.cfr.Node at 0x13ff10d10>,\n",
       " '3[]': <core.cfr.Node at 0x13ff10560>,\n",
       " '3[0, 1]': <core.cfr.Node at 0x13ff10f80>,\n",
       " '5[0]': <core.cfr.Node at 0x13ff10680>,\n",
       " '5[1]': <core.cfr.Node at 0x13ff126c0>,\n",
       " '0[0, 1]': <core.cfr.Node at 0x13ff11d60>,\n",
       " '6[0, 1]': <core.cfr.Node at 0x13ff11cd0>,\n",
       " '6[0]': <core.cfr.Node at 0x13ff12540>,\n",
       " '6[1]': <core.cfr.Node at 0x13ff133b0>,\n",
       " '1[0]': <core.cfr.Node at 0x13ff110d0>,\n",
       " '1[1]': <core.cfr.Node at 0x13ff11850>,\n",
       " '7[]': <core.cfr.Node at 0x13ff10380>,\n",
       " '4[0, 1]': <core.cfr.Node at 0x13ff112b0>,\n",
       " '0[0]': <core.cfr.Node at 0x13ff11550>,\n",
       " '3[1]': <core.cfr.Node at 0x13ff13f50>,\n",
       " '5[0, 1]': <core.cfr.Node at 0x13ff135f0>,\n",
       " '3[0]': <core.cfr.Node at 0x13ff11430>,\n",
       " '7[0, 1]': <core.cfr.Node at 0x13ff137a0>}"
      ]
     },
     "execution_count": 48,
     "metadata": {},
     "output_type": "execute_result"
    }
   ],
   "source": [
    "k.nodes"
   ]
  },
  {
   "cell_type": "code",
   "execution_count": 54,
   "id": "89aa1112-ad53-4144-ad14-deecaf06c0d4",
   "metadata": {},
   "outputs": [
    {
     "data": {
      "text/plain": [
       "array([0.99668371, 0.00331629])"
      ]
     },
     "execution_count": 54,
     "metadata": {},
     "output_type": "execute_result"
    }
   ],
   "source": [
    "k.nodes['3[]'].get_average_strategy()"
   ]
  }
 ],
 "metadata": {
  "kernelspec": {
   "display_name": "Python [conda env:base] *",
   "language": "python",
   "name": "conda-base-py"
  },
  "language_info": {
   "codemirror_mode": {
    "name": "ipython",
    "version": 3
   },
   "file_extension": ".py",
   "mimetype": "text/x-python",
   "name": "python",
   "nbconvert_exporter": "python",
   "pygments_lexer": "ipython3",
   "version": "3.12.2"
  }
 },
 "nbformat": 4,
 "nbformat_minor": 5
}
