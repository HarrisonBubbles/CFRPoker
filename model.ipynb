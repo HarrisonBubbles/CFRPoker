{
 "cells": [
  {
   "cell_type": "code",
   "execution_count": 2,
   "id": "8b68a851-9ebf-4439-83d9-15c003878c25",
   "metadata": {},
   "outputs": [],
   "source": [
    "from src.deck import Deck\n",
    "from src.game import PokerGame\n",
    "from src.player import Player, PlayerAction, RandomPlayer, HumanPlayer\n",
    "from src.cfr import KuhnCFR\n",
    "from treys import Card\n",
    "from treys import Evaluator\n",
    "from src.game_v2 import SimpleGame, PocketPoker, KuhnPoker\n",
    "from src.mccfr import MCCFR"
   ]
  },
  {
   "cell_type": "code",
   "execution_count": 42,
   "id": "d791c1b8-d74e-411f-aec3-aefa4b365496",
   "metadata": {},
   "outputs": [],
   "source": [
    "deck = Deck(seed=52)\n",
    "deck.shuffle()"
   ]
  },
  {
   "cell_type": "code",
   "execution_count": 100,
   "id": "2114071d-ec3b-45d7-8b33-6c5dc1234e03",
   "metadata": {},
   "outputs": [
    {
     "data": {
      "text/plain": [
       "'Jc'"
      ]
     },
     "execution_count": 100,
     "metadata": {},
     "output_type": "execute_result"
    }
   ],
   "source": [
    "Card.int_to_str(deck.cards[0])"
   ]
  },
  {
   "cell_type": "code",
   "execution_count": null,
   "id": "b6580d38-a125-4056-b186-aefc804efeb9",
   "metadata": {},
   "outputs": [],
   "source": []
  },
  {
   "cell_type": "code",
   "execution_count": 44,
   "id": "cb8a363b-82d5-4d3d-8bd0-43437d7ae183",
   "metadata": {},
   "outputs": [
    {
     "name": "stdout",
     "output_type": "stream",
     "text": [
      " [J\u001b[32m♣\u001b[0m],[Q\u001b[31m♥\u001b[0m],[T\u001b[31m♥\u001b[0m],[8\u001b[31m♥\u001b[0m],[6\u001b[32m♣\u001b[0m],[4\u001b[31m♥\u001b[0m],[A♠],[3♠],[6♠],[Q\u001b[34m♦\u001b[0m],[5\u001b[34m♦\u001b[0m],[3\u001b[34m♦\u001b[0m],[7\u001b[31m♥\u001b[0m],[A\u001b[32m♣\u001b[0m],[T\u001b[32m♣\u001b[0m],[Q♠],[6\u001b[34m♦\u001b[0m],[K\u001b[32m♣\u001b[0m],[5♠],[2\u001b[31m♥\u001b[0m],[A\u001b[34m♦\u001b[0m],[5\u001b[31m♥\u001b[0m],[A\u001b[31m♥\u001b[0m],[8\u001b[32m♣\u001b[0m],[Q\u001b[32m♣\u001b[0m],[7♠],[3\u001b[32m♣\u001b[0m],[9\u001b[32m♣\u001b[0m],[9\u001b[31m♥\u001b[0m],[3\u001b[31m♥\u001b[0m],[J♠],[5\u001b[32m♣\u001b[0m],[J\u001b[31m♥\u001b[0m],[J\u001b[34m♦\u001b[0m],[8♠],[T\u001b[34m♦\u001b[0m],[K♠],[2♠],[9♠],[7\u001b[34m♦\u001b[0m],[4\u001b[32m♣\u001b[0m],[K\u001b[31m♥\u001b[0m],[4\u001b[34m♦\u001b[0m],[4♠],[2\u001b[34m♦\u001b[0m],[8\u001b[34m♦\u001b[0m],[7\u001b[32m♣\u001b[0m],[9\u001b[34m♦\u001b[0m],[T♠],[K\u001b[34m♦\u001b[0m],[2\u001b[32m♣\u001b[0m],[6\u001b[31m♥\u001b[0m] \n"
     ]
    }
   ],
   "source": [
    "print(deck)"
   ]
  },
  {
   "cell_type": "code",
   "execution_count": 12,
   "id": "0d84a5e7-0c6a-4eb8-bf59-7028b5b12f7b",
   "metadata": {},
   "outputs": [],
   "source": [
    "board = deck.draw(5)\n",
    "p1 = deck.draw(2)\n",
    "p2 = deck.draw(2)"
   ]
  },
  {
   "cell_type": "code",
   "execution_count": 34,
   "id": "1b1d5ff9-b1f4-4de9-a15f-09a2a7f63ffd",
   "metadata": {},
   "outputs": [],
   "source": [
    "player1 = HumanPlayer(\"A\")\n",
    "player2 = HumanPlayer(\"B\")\n",
    "game = PokerGame(player1, player2)\n",
    "#game.play_game()"
   ]
  },
  {
   "cell_type": "code",
   "execution_count": 5,
   "id": "c5126ab4-32d8-4d29-9224-f3c34cde4efa",
   "metadata": {},
   "outputs": [
    {
     "name": "stdout",
     "output_type": "stream",
     "text": [
      " [Q\u001b[34m♦\u001b[0m],[A\u001b[34m♦\u001b[0m],[A♠],[K\u001b[34m♦\u001b[0m],[T♠],[A\u001b[31m♥\u001b[0m],[Q\u001b[32m♣\u001b[0m],[T\u001b[34m♦\u001b[0m],[T\u001b[32m♣\u001b[0m],[Q\u001b[31m♥\u001b[0m],[J\u001b[31m♥\u001b[0m],[J\u001b[32m♣\u001b[0m],[J♠],[A\u001b[32m♣\u001b[0m],[J\u001b[34m♦\u001b[0m] \n",
      "[K♠]\n",
      "[K\u001b[31m♥\u001b[0m]\n",
      "[K\u001b[32m♣\u001b[0m]\n"
     ]
    }
   ],
   "source": [
    "pp = PocketPoker(seed=0)\n",
    "pp.setup()\n",
    "print(pp.deck)\n",
    "for card in pp.player1_cards:\n",
    "    Card.print_pretty_card(card)\n",
    "for card in pp.community_cards:\n",
    "    Card.print_pretty_card(card)"
   ]
  },
  {
   "cell_type": "code",
   "execution_count": 14,
   "id": "1b62bada-3579-432a-a027-604ffe43a9d6",
   "metadata": {},
   "outputs": [
    {
     "data": {
      "text/plain": [
       "False"
      ]
     },
     "execution_count": 14,
     "metadata": {},
     "output_type": "execute_result"
    }
   ],
   "source": [
    "(3,2) >(3,100)"
   ]
  },
  {
   "cell_type": "code",
   "execution_count": 22,
   "id": "0ad2cb61-4ef7-48ec-b218-712ca5e33dbe",
   "metadata": {
    "scrolled": true
   },
   "outputs": [],
   "source": [
    "ppmc = MCCFR(PocketPoker, 4)\n",
    "#ppmc.train(10000000)"
   ]
  },
  {
   "cell_type": "code",
   "execution_count": 40,
   "id": "a15b2cf7-04af-474b-aa62-96dd3c9ba5a6",
   "metadata": {},
   "outputs": [
    {
     "data": {
      "text/plain": [
       "300"
      ]
     },
     "execution_count": 40,
     "metadata": {},
     "output_type": "execute_result"
    }
   ],
   "source": [
    "len(list(ppmc.nodes.keys()))"
   ]
  },
  {
   "cell_type": "code",
   "execution_count": 18,
   "id": "8ffd1530-be68-4aac-847c-abefee48c03c",
   "metadata": {},
   "outputs": [],
   "source": [
    "mk = MCCFR(KuhnPoker, 4)\n",
    "#mk.train(100000)"
   ]
  },
  {
   "cell_type": "code",
   "execution_count": 20,
   "id": "35309c8d-b8c5-49a4-9bef-95ea21ad5b62",
   "metadata": {},
   "outputs": [],
   "source": [
    "k = KuhnCFR(10000, 3)\n",
    "#k.cfr_iterations_external()"
   ]
  },
  {
   "cell_type": "code",
   "execution_count": 108,
   "id": "dc280b83-9569-43a3-83b9-700c8ed4dbf9",
   "metadata": {},
   "outputs": [
    {
     "data": {
      "text/plain": [
       "20000"
      ]
     },
     "execution_count": 108,
     "metadata": {},
     "output_type": "execute_result"
    }
   ],
   "source": [
    "len(list(k.nodes.keys()))"
   ]
  }
 ],
 "metadata": {
  "kernelspec": {
   "display_name": "Python [conda env:base] *",
   "language": "python",
   "name": "conda-base-py"
  },
  "language_info": {
   "codemirror_mode": {
    "name": "ipython",
    "version": 3
   },
   "file_extension": ".py",
   "mimetype": "text/x-python",
   "name": "python",
   "nbconvert_exporter": "python",
   "pygments_lexer": "ipython3",
   "version": "3.12.2"
  }
 },
 "nbformat": 4,
 "nbformat_minor": 5
}
