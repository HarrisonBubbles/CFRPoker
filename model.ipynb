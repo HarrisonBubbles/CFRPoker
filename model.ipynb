{
 "cells": [
  {
   "cell_type": "code",
   "execution_count": 2,
   "id": "8b68a851-9ebf-4439-83d9-15c003878c25",
   "metadata": {},
   "outputs": [],
   "source": [
    "from core.poker.card import Suit, Rank, Card\n",
    "from core.poker.deck import Deck"
   ]
  },
  {
   "cell_type": "code",
   "execution_count": 3,
   "id": "b5879625-23ea-4d30-8a85-94533f9a8989",
   "metadata": {},
   "outputs": [],
   "source": [
    "clubs = Suit.CLUBS\n",
    "j = Rank.JACK\n",
    "card = Card(j, clubs)"
   ]
  },
  {
   "cell_type": "code",
   "execution_count": 42,
   "id": "500233b7-df0f-4162-844c-0284aeeaf26f",
   "metadata": {},
   "outputs": [],
   "source": [
    "deck = Deck(seed=0)"
   ]
  },
  {
   "cell_type": "code",
   "execution_count": 52,
   "id": "d791c1b8-d74e-411f-aec3-aefa4b365496",
   "metadata": {},
   "outputs": [],
   "source": [
    "deck.shuffle()"
   ]
  },
  {
   "cell_type": "code",
   "execution_count": 66,
   "id": "cb8a363b-82d5-4d3d-8bd0-43437d7ae183",
   "metadata": {},
   "outputs": [
    {
     "name": "stdout",
     "output_type": "stream",
     "text": [
      "['JH', '6C', '3H', '4C', '3S', '2C', '2S', 'AS', 'AD', '4S', 'AC', '4H', 'KC', '4D', '9D', '5D', '10S', '9H', '5C', '5S', '8D', '2H', '8C', '10D', 'JC', '6H', 'QS', '3D', '5H', 'QC', '10C', 'KS', 'QH', '10H', '7D', '7S', '6D', 'JS', 'JD', 'KH', '9S', 'KD', '8S']\n"
     ]
    }
   ],
   "source": [
    "print(deck)"
   ]
  },
  {
   "cell_type": "code",
   "execution_count": 64,
   "id": "0d84a5e7-0c6a-4eb8-bf59-7028b5b12f7b",
   "metadata": {},
   "outputs": [
    {
     "data": {
      "text/plain": [
       "[Card(NINE, CLUBS), Card(THREE, CLUBS), Card(QUEEN, DIAMONDS)]"
      ]
     },
     "execution_count": 64,
     "metadata": {},
     "output_type": "execute_result"
    }
   ],
   "source": [
    "deck.draw(3)"
   ]
  }
 ],
 "metadata": {
  "kernelspec": {
   "display_name": "Python [conda env:base] *",
   "language": "python",
   "name": "conda-base-py"
  },
  "language_info": {
   "codemirror_mode": {
    "name": "ipython",
    "version": 3
   },
   "file_extension": ".py",
   "mimetype": "text/x-python",
   "name": "python",
   "nbconvert_exporter": "python",
   "pygments_lexer": "ipython3",
   "version": "3.12.2"
  }
 },
 "nbformat": 4,
 "nbformat_minor": 5
}
